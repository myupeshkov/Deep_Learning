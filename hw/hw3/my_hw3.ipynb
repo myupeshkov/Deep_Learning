{
 "cells": [
  {
   "cell_type": "markdown",
   "metadata": {
    "id": "RxuKPMM-kqup"
   },
   "source": [
    "# Домашнее задание 3. \n",
    "\n",
    "## Предсказание пользовательской оценки отеля по тексту отзыва."
   ]
  },
  {
   "cell_type": "markdown",
   "metadata": {
    "id": "DD9mSxzf1rPv"
   },
   "source": [
    "Сделал **Пешков Максим**\n",
    "\n",
    "группа **ИАД-4**"
   ]
  },
  {
   "cell_type": "markdown",
   "metadata": {
    "id": "VI3XMXqH2dMM"
   },
   "source": [
    "#### Мои источники"
   ]
  },
  {
   "cell_type": "markdown",
   "metadata": {
    "id": "jgzi2BlA23af"
   },
   "source": [
    "1. Для первой и второй части:\n",
    "\n",
    " Семинар 10 с прошлого года (+ домашка с прошлого года по текстам)\n",
    "\n",
    "  https://github.com/KovalevEvgeny/minor2020-iad4/blob/master/sem10_texts/sem10_texts.ipynb\n",
    "\n",
    "  Семинар 9 с этого года\n",
    "  https://github.com/hse-ds/iad-deep-learning/blob/master/sem09/sem09.ipynb\n",
    "2. Для третьей части\n",
    "\n",
    "  Семинар 10. с этого года\n",
    "https://github.com/hse-ds/iad-deep-learning/blob/master/sem10/sem10.ipynb\n",
    "\n",
    "  Семинар 11.\n",
    "https://github.com/hse-ds/iad-deep-learning/blob/master/sem11/seminar-task.ipynb\n",
    "\n",
    "  Kaggle:\n",
    "\n",
    "  https://www.kaggle.com/gabrielloye/simple-lstm-using-pytorch\n",
    "\n",
    "  https://www.kaggle.com/jovian/jvn-lstm-multiclass-text-classification-b8200\n"
   ]
  },
  {
   "cell_type": "markdown",
   "metadata": {
    "id": "0DS4F2tnkqu0"
   },
   "source": [
    "#### Данные:"
   ]
  },
  {
   "cell_type": "markdown",
   "metadata": {
    "id": "B5TN-Y2ukqux"
   },
   "source": [
    "Мы собрали для вас отзывы по 1500 отелям из совершенно разных уголков мира. Что это за отели - секрет. Вам дан текст отзыва и пользовательская оценка отеля. Ваша задача - научиться предсказывать оценку отеля по отзыву. Данные можно скачать [тут](https://www.kaggle.com/c/hseds-texts-2020/data?select=train.csv)."
   ]
  },
  {
   "cell_type": "markdown",
   "metadata": {
    "id": "He8Iq3VB2wIH"
   },
   "source": [
    "Каждое ревью состоит из двух текстов: positive и negative - плюсы и минусы отеля. В столбце score находится оценка пользователя - вещественное число 0 до 10. Вам нужно извлечь признаки из этих текстов и предсказать по ним оценку."
   ]
  },
  {
   "cell_type": "markdown",
   "metadata": {
    "id": "1mm774_Wkquz"
   },
   "source": [
    "Главная метрика - Mean Absolute Error (MAE). Во всех частях домашней работы вам нужно получить значение MAE не превышающее 1. В противном случае мы будем вынуждены не засчитать задание :( "
   ]
  },
  {
   "cell_type": "markdown",
   "metadata": {
    "id": "OQLl3qWlkqu0"
   },
   "source": [
    "Для измерения качества вашей модели используйте разбиение данных на train и test и замеряйте качество на тестовой части."
   ]
  },
  {
   "cell_type": "code",
   "execution_count": 1,
   "metadata": {
    "colab": {
     "base_uri": "https://localhost:8080/"
    },
    "id": "jtGVc1fpY8Mr",
    "outputId": "1d6f4b42-b92f-4b5d-8b88-f81af4d50062"
   },
   "outputs": [
    {
     "name": "stdout",
     "output_type": "stream",
     "text": [
      "--2020-12-20 16:36:21--  https://www.dropbox.com/s/xls8dvvcnkt9nua/hseds-texts-2020.zip?dl=0\n",
      "Resolving www.dropbox.com (www.dropbox.com)... 162.125.1.18, 2620:100:6016:18::a27d:112\n",
      "Connecting to www.dropbox.com (www.dropbox.com)|162.125.1.18|:443... connected.\n",
      "HTTP request sent, awaiting response... 301 Moved Permanently\n",
      "Location: /s/raw/xls8dvvcnkt9nua/hseds-texts-2020.zip [following]\n",
      "--2020-12-20 16:36:21--  https://www.dropbox.com/s/raw/xls8dvvcnkt9nua/hseds-texts-2020.zip\n",
      "Reusing existing connection to www.dropbox.com:443.\n",
      "HTTP request sent, awaiting response... 302 Found\n",
      "Location: https://uc86509ee4bc9fe7bde3e20d6f2a.dl.dropboxusercontent.com/cd/0/inline/BFc6xiyifu7wJXDFoadTq2jhXp5FPW9HYzK6kQ6BKdvrlDMuADszs2dW1vrVWQErTsjxqY8q9ctu-TNf8QFZMH5J8XPv7Veg4GVZ11vUjNECbFyeub7PK8YO-xeOk08AJws/file# [following]\n",
      "--2020-12-20 16:36:21--  https://uc86509ee4bc9fe7bde3e20d6f2a.dl.dropboxusercontent.com/cd/0/inline/BFc6xiyifu7wJXDFoadTq2jhXp5FPW9HYzK6kQ6BKdvrlDMuADszs2dW1vrVWQErTsjxqY8q9ctu-TNf8QFZMH5J8XPv7Veg4GVZ11vUjNECbFyeub7PK8YO-xeOk08AJws/file\n",
      "Resolving uc86509ee4bc9fe7bde3e20d6f2a.dl.dropboxusercontent.com (uc86509ee4bc9fe7bde3e20d6f2a.dl.dropboxusercontent.com)... 162.125.1.15, 2620:100:6016:15::a27d:10f\n",
      "Connecting to uc86509ee4bc9fe7bde3e20d6f2a.dl.dropboxusercontent.com (uc86509ee4bc9fe7bde3e20d6f2a.dl.dropboxusercontent.com)|162.125.1.15|:443... connected.\n",
      "HTTP request sent, awaiting response... 302 Found\n",
      "Location: /cd/0/inline2/BFdEaC3IAKnsYdGRyC1XA3wuTiv98cNyRb4TWyZt_rRLFPuhdfbKhUxnePN2_r1NXk2094iCGmkTlqV_jvMGhObhpihgi_8i5qzd6i57KiItb9nAzw4Do3G58cvmt3PH3LJ0u-M7geO8DkxrIFY4rbuHbgenAEuZ8qmhLqYe4YSQyYQ4o_ZODgbjqeAvY1S_Tal3f4872Ss_4Bv6AYzawsxsKcS9jCMlePRfG7Jld2FY7VGf3RqvmtTzMfiQIZD3nv6eBHncwTL9EP3tFITNqxzJ1zknsMG-Ezfji7DYQ3d9QZly5QCWtfa6ih_SOYC1BFSTFBgDvS2eKHbSlIyhj2w8967mQrIlWe1VSs9Vr0PUXg/file [following]\n",
      "--2020-12-20 16:36:22--  https://uc86509ee4bc9fe7bde3e20d6f2a.dl.dropboxusercontent.com/cd/0/inline2/BFdEaC3IAKnsYdGRyC1XA3wuTiv98cNyRb4TWyZt_rRLFPuhdfbKhUxnePN2_r1NXk2094iCGmkTlqV_jvMGhObhpihgi_8i5qzd6i57KiItb9nAzw4Do3G58cvmt3PH3LJ0u-M7geO8DkxrIFY4rbuHbgenAEuZ8qmhLqYe4YSQyYQ4o_ZODgbjqeAvY1S_Tal3f4872Ss_4Bv6AYzawsxsKcS9jCMlePRfG7Jld2FY7VGf3RqvmtTzMfiQIZD3nv6eBHncwTL9EP3tFITNqxzJ1zknsMG-Ezfji7DYQ3d9QZly5QCWtfa6ih_SOYC1BFSTFBgDvS2eKHbSlIyhj2w8967mQrIlWe1VSs9Vr0PUXg/file\n",
      "Reusing existing connection to uc86509ee4bc9fe7bde3e20d6f2a.dl.dropboxusercontent.com:443.\n",
      "HTTP request sent, awaiting response... 200 OK\n",
      "Length: 11417727 (11M) [application/zip]\n",
      "Saving to: ‘hseds-texts-2020.zip?dl=0.1’\n",
      "\n",
      "hseds-texts-2020.zi 100%[===================>]  10.89M  51.3MB/s    in 0.2s    \n",
      "\n",
      "2020-12-20 16:36:22 (51.3 MB/s) - ‘hseds-texts-2020.zip?dl=0.1’ saved [11417727/11417727]\n",
      "\n"
     ]
    }
   ],
   "source": [
    "!wget https://www.dropbox.com/s/xls8dvvcnkt9nua/hseds-texts-2020.zip?dl=0"
   ]
  },
  {
   "cell_type": "code",
   "execution_count": 2,
   "metadata": {
    "colab": {
     "base_uri": "https://localhost:8080/"
    },
    "id": "G9y6S_44Zm9E",
    "outputId": "de0a6bf6-e8e3-4624-b513-7286a9c14b73"
   },
   "outputs": [
    {
     "name": "stdout",
     "output_type": "stream",
     "text": [
      "replace sample_submission(1).csv? [y]es, [n]o, [A]ll, [N]one, [r]ename: "
     ]
    }
   ],
   "source": [
    "!unzip -q hseds-texts-2020.zip?dl=0"
   ]
  },
  {
   "cell_type": "code",
   "execution_count": 3,
   "metadata": {
    "id": "o-S0ejUYkqu1"
   },
   "outputs": [],
   "source": [
    "PATH_TO_TRAIN_DATA = 'train.csv'"
   ]
  },
  {
   "cell_type": "code",
   "execution_count": 4,
   "metadata": {
    "colab": {
     "base_uri": "https://localhost:8080/",
     "height": 204
    },
    "id": "B_S3AZ6tkqu2",
    "outputId": "3c4629bb-0f98-40ee-e81e-0c7d61f4f499"
   },
   "outputs": [
    {
     "data": {
      "text/html": [
       "<div>\n",
       "<style scoped>\n",
       "    .dataframe tbody tr th:only-of-type {\n",
       "        vertical-align: middle;\n",
       "    }\n",
       "\n",
       "    .dataframe tbody tr th {\n",
       "        vertical-align: top;\n",
       "    }\n",
       "\n",
       "    .dataframe thead th {\n",
       "        text-align: right;\n",
       "    }\n",
       "</style>\n",
       "<table border=\"1\" class=\"dataframe\">\n",
       "  <thead>\n",
       "    <tr style=\"text-align: right;\">\n",
       "      <th></th>\n",
       "      <th>review_id</th>\n",
       "      <th>negative</th>\n",
       "      <th>positive</th>\n",
       "      <th>score</th>\n",
       "    </tr>\n",
       "  </thead>\n",
       "  <tbody>\n",
       "    <tr>\n",
       "      <th>0</th>\n",
       "      <td>00003c6036f30f590c0ac435efb8739b</td>\n",
       "      <td>There were issues with the wifi connection</td>\n",
       "      <td>No Positive</td>\n",
       "      <td>7.1</td>\n",
       "    </tr>\n",
       "    <tr>\n",
       "      <th>1</th>\n",
       "      <td>00004d18f186bf2489590dc415876f73</td>\n",
       "      <td>TV not working</td>\n",
       "      <td>No Positive</td>\n",
       "      <td>7.5</td>\n",
       "    </tr>\n",
       "    <tr>\n",
       "      <th>2</th>\n",
       "      <td>0000cf900cbb8667fad33a717e9b1cf4</td>\n",
       "      <td>More pillows</td>\n",
       "      <td>Beautiful room Great location Lovely staff</td>\n",
       "      <td>10.0</td>\n",
       "    </tr>\n",
       "    <tr>\n",
       "      <th>3</th>\n",
       "      <td>0000df16edf19e7ad9dd8c5cd6f6925e</td>\n",
       "      <td>Very business</td>\n",
       "      <td>Location</td>\n",
       "      <td>5.4</td>\n",
       "    </tr>\n",
       "    <tr>\n",
       "      <th>4</th>\n",
       "      <td>00025e1aa3ac32edb496db49e76bbd00</td>\n",
       "      <td>Rooms could do with a bit of a refurbishment ...</td>\n",
       "      <td>Nice breakfast handy for Victoria train stati...</td>\n",
       "      <td>6.7</td>\n",
       "    </tr>\n",
       "  </tbody>\n",
       "</table>\n",
       "</div>"
      ],
      "text/plain": [
       "                          review_id  ... score\n",
       "0  00003c6036f30f590c0ac435efb8739b  ...   7.1\n",
       "1  00004d18f186bf2489590dc415876f73  ...   7.5\n",
       "2  0000cf900cbb8667fad33a717e9b1cf4  ...  10.0\n",
       "3  0000df16edf19e7ad9dd8c5cd6f6925e  ...   5.4\n",
       "4  00025e1aa3ac32edb496db49e76bbd00  ...   6.7\n",
       "\n",
       "[5 rows x 4 columns]"
      ]
     },
     "execution_count": 4,
     "metadata": {
      "tags": []
     },
     "output_type": "execute_result"
    }
   ],
   "source": [
    "import pandas as pd\n",
    "import numpy as np\n",
    "\n",
    "df = pd.read_csv(PATH_TO_TRAIN_DATA)\n",
    "df.head()"
   ]
  },
  {
   "cell_type": "markdown",
   "metadata": {
    "id": "itjdILpskqu3"
   },
   "source": [
    "Предобработка текста может сказываться на качестве вашей модели.\n",
    "Сделаем небольшой препроцессинг текстов: удалим знаки препинания, приведем все слова к нижнему регистру. \n",
    "Однако можно не ограничиваться этим набором преобразований. Подумайте, что еще можно сделать с текстами, чтобы помочь будущим моделям? Добавьте преобразования, которые могли бы помочь по вашему мнению."
   ]
  },
  {
   "cell_type": "markdown",
   "metadata": {
    "id": "Ie2KsgYKkqu4"
   },
   "source": [
    "Также мы добавили разбиение текстов на токены. Теперь каждая строка-ревью стала массивом токенов."
   ]
  },
  {
   "cell_type": "code",
   "execution_count": 5,
   "metadata": {
    "colab": {
     "base_uri": "https://localhost:8080/"
    },
    "id": "ezwyfgdNxfZQ",
    "outputId": "0760a5ec-1b4b-4739-c755-da2f3bb825ac"
   },
   "outputs": [
    {
     "name": "stdout",
     "output_type": "stream",
     "text": [
      "Requirement already satisfied: pymorphy2 in /usr/local/lib/python3.6/dist-packages (0.9.1)\n",
      "Requirement already satisfied: pymorphy2-dicts-ru<3.0,>=2.4 in /usr/local/lib/python3.6/dist-packages (from pymorphy2) (2.4.417127.4579844)\n",
      "Requirement already satisfied: docopt>=0.6 in /usr/local/lib/python3.6/dist-packages (from pymorphy2) (0.6.2)\n",
      "Requirement already satisfied: dawg-python>=0.7.1 in /usr/local/lib/python3.6/dist-packages (from pymorphy2) (0.7.2)\n"
     ]
    }
   ],
   "source": [
    "!pip install pymorphy2\n",
    "\n",
    "from pymorphy2 import MorphAnalyzer\n",
    "morph = MorphAnalyzer() #а что, а вдруг пригодится потом - он возвращает начальные формы слова (для бонуса оставил)"
   ]
  },
  {
   "cell_type": "code",
   "execution_count": 6,
   "metadata": {
    "colab": {
     "base_uri": "https://localhost:8080/"
    },
    "id": "cv6AG_I3kqu4",
    "outputId": "3f5a57aa-5907-4156-d29e-e79325a0fb8f"
   },
   "outputs": [
    {
     "name": "stdout",
     "output_type": "stream",
     "text": [
      "[nltk_data] Downloading package punkt to /root/nltk_data...\n",
      "[nltk_data]   Package punkt is already up-to-date!\n"
     ]
    }
   ],
   "source": [
    "import string\n",
    "\n",
    "import nltk\n",
    "nltk.download('punkt')\n",
    "\n",
    "from nltk.tokenize import word_tokenize\n",
    "\n",
    "def process_text(text):\n",
    "    return [word for word in word_tokenize(text.lower()) if word not in string.punctuation]"
   ]
  },
  {
   "cell_type": "code",
   "execution_count": 7,
   "metadata": {
    "id": "WRsMltfakqu4"
   },
   "outputs": [],
   "source": [
    "df['negative'] = df['negative'].apply(process_text)\n",
    "df['positive'] = df['positive'].apply(process_text)"
   ]
  },
  {
   "cell_type": "code",
   "execution_count": 8,
   "metadata": {
    "id": "CfTLeDHwkqu5"
   },
   "outputs": [],
   "source": [
    "from sklearn.model_selection import train_test_split\n",
    "\n",
    "df_train, df_test = train_test_split(df)"
   ]
  },
  {
   "cell_type": "code",
   "execution_count": 9,
   "metadata": {
    "id": "91St0BIqkqu6"
   },
   "outputs": [],
   "source": [
    "from sklearn.feature_extraction.text import TfidfVectorizer\n",
    "from sklearn.linear_model import LinearRegression\n",
    "from sklearn.metrics import mean_absolute_error\n",
    "import warnings\n",
    "warnings.filterwarnings(\"ignore\")"
   ]
  },
  {
   "cell_type": "code",
   "execution_count": 10,
   "metadata": {
    "id": "ajYp9tVKbNGw"
   },
   "outputs": [],
   "source": [
    "#обнулим индексы, чтобы можно было циклы использовать дальше\n",
    "df_train = df_train.reset_index()\n",
    "df_train = df_train.drop(['index'], axis = 1)\n",
    "df_test = df_test.reset_index()\n",
    "df_test = df_test.drop(['index'], axis = 1)"
   ]
  },
  {
   "cell_type": "code",
   "execution_count": 11,
   "metadata": {
    "id": "DvMCUtpWan01"
   },
   "outputs": [],
   "source": [
    "#немного технической работы по соединению negative and positive, а также несколько других датасетов для дальнейшей работы\n",
    "X_train = []\n",
    "X_train_split = []\n",
    "for i in range(len(df_train)):\n",
    "    x_i = []\n",
    "    x_i.extend(df_train['negative'][i])\n",
    "    x_i.extend(df_train['positive'][i])\n",
    "    X_train_split.append(x_i)\n",
    "    X_train.append(' '.join(x_i)) #соединяем негатив и позитив через пробел\n",
    "\n",
    "X_test = []\n",
    "X_test_split = []\n",
    "for i in range(len(df_test)):\n",
    "    x_i = []\n",
    "    x_i.extend(df_test['negative'][i])\n",
    "    x_i.extend(df_test['positive'][i])\n",
    "    X_test_split.append(x_i)\n",
    "    X_test.append(' '.join(x_i)) #соединяем негатив и позитив через пробел\n",
    "\n",
    "X_all = [] #соединим все до токенизации\n",
    "X_all.extend(X_train)\n",
    "X_all.extend(X_test) #\n",
    "\n",
    "X_all_split = [] #соединим все после токенизации\n",
    "X_all_split.extend(X_train_split)\n",
    "X_all_split.extend(X_test_split)"
   ]
  },
  {
   "cell_type": "markdown",
   "metadata": {
    "id": "UoMac6Lukqu5"
   },
   "source": [
    "### Часть 1. 1 балл"
   ]
  },
  {
   "cell_type": "markdown",
   "metadata": {
    "id": "Wa8jkx3VgNSw"
   },
   "source": [
    "#### TF-IDF"
   ]
  },
  {
   "cell_type": "markdown",
   "metadata": {
    "id": "Zb_OBD-rkqu5"
   },
   "source": [
    "Обучите линейную регрессию на TF-IDF векторах текстов."
   ]
  },
  {
   "cell_type": "code",
   "execution_count": 12,
   "metadata": {
    "id": "HPEHtjE-nE_G"
   },
   "outputs": [],
   "source": [
    "tfidf = TfidfVectorizer(min_df=3) \n",
    "#min_df=3 - то есть включаем слова, которые встретились хотя бы 3 раза, нам супер редкие мусорные слова не нужны"
   ]
  },
  {
   "cell_type": "code",
   "execution_count": 13,
   "metadata": {
    "id": "V340jxL3h0SC"
   },
   "outputs": [],
   "source": [
    "#векторы TF-IDF\n",
    "vec_train = tfidf.fit_transform(X_train)\n",
    "vec_test = tfidf.transform(X_test)"
   ]
  },
  {
   "cell_type": "code",
   "execution_count": 14,
   "metadata": {
    "colab": {
     "base_uri": "https://localhost:8080/"
    },
    "id": "GZmhHbeYj5az",
    "outputId": "9789c76e-a2c3-41c5-d448-4a8e847b9b7f"
   },
   "outputs": [
    {
     "data": {
      "text/plain": [
       "0.9474856991516563"
      ]
     },
     "execution_count": 14,
     "metadata": {
      "tags": []
     },
     "output_type": "execute_result"
    }
   ],
   "source": [
    "#Линейная регрессия\n",
    "Linreg_tf_idf = LinearRegression(normalize=True, n_jobs=3)\n",
    "Linreg_tf_idf.fit(vec_train, df_train['score'])\n",
    "score_pred = Linreg_tf_idf.predict(vec_test)\n",
    "mean_absolute_error(df_test['score'], score_pred)"
   ]
  },
  {
   "cell_type": "markdown",
   "metadata": {
    "id": "4pPijjlddIL3"
   },
   "source": [
    "##### Вывод: \n",
    "TF-IDF позволяет быстро получить неплохое качество"
   ]
  },
  {
   "cell_type": "markdown",
   "metadata": {
    "id": "489TgUmCkqu6"
   },
   "source": [
    "### Часть 2. 3 балла"
   ]
  },
  {
   "cell_type": "markdown",
   "metadata": {
    "id": "GzGRVG3MfPpW"
   },
   "source": [
    "#### Word2Vec"
   ]
  },
  {
   "cell_type": "code",
   "execution_count": 15,
   "metadata": {
    "colab": {
     "base_uri": "https://localhost:8080/"
    },
    "id": "v2opp4j_1M_l",
    "outputId": "43bd2395-0dad-4106-d944-743d1ba91172"
   },
   "outputs": [
    {
     "name": "stdout",
     "output_type": "stream",
     "text": [
      "Requirement already satisfied: gensim in /usr/local/lib/python3.6/dist-packages (3.6.0)\n",
      "Requirement already satisfied: smart-open>=1.2.1 in /usr/local/lib/python3.6/dist-packages (from gensim) (4.0.1)\n",
      "Requirement already satisfied: six>=1.5.0 in /usr/local/lib/python3.6/dist-packages (from gensim) (1.15.0)\n",
      "Requirement already satisfied: numpy>=1.11.3 in /usr/local/lib/python3.6/dist-packages (from gensim) (1.19.4)\n",
      "Requirement already satisfied: scipy>=0.18.1 in /usr/local/lib/python3.6/dist-packages (from gensim) (1.4.1)\n"
     ]
    }
   ],
   "source": [
    "!pip install gensim"
   ]
  },
  {
   "cell_type": "code",
   "execution_count": 16,
   "metadata": {
    "id": "HSTwLlA61OO_"
   },
   "outputs": [],
   "source": [
    "from gensim.models.word2vec import Word2Vec"
   ]
  },
  {
   "cell_type": "code",
   "execution_count": 17,
   "metadata": {
    "id": "txK4hDpiEWjx"
   },
   "outputs": [],
   "source": [
    "def sentence_embedding(sentence: str, embedding_model) -> np.array:\n",
    "    dim = embedding_model['nothing'].shape[0] #чтобы понять какой embedding_size\n",
    "    vector_embd = np.zeros(dim)\n",
    "    for token in sentence:\n",
    "        if token in embedding_model:\n",
    "            vector_embd += embedding_model[token]\n",
    "    if len(sentence) == 0: #есть пустые отзывы, для них выведем просто нули\n",
    "      return np.zeros(dim)\n",
    "    return np.array(vector_embd)/len(sentence) #считаем среднее для слова в предложении (делим на число слов)\n",
    "def items_to_embed_w2v(items: np.array, embedding_model) -> np.array:\n",
    "    embed = []\n",
    "    for i in range(len(items)):\n",
    "        embed.append(sentence_embedding(items[i], embedding_model)) #по циклу переводим все отзывы в эмбеддинги\n",
    "    return np.array(embed)"
   ]
  },
  {
   "cell_type": "code",
   "execution_count": 18,
   "metadata": {
    "id": "pVimsjeYFTkO"
   },
   "outputs": [],
   "source": [
    "model_w2v = Word2Vec(X_train_split, size=500) #500 достаточно, чтобы МАЕ было меньше 1"
   ]
  },
  {
   "cell_type": "code",
   "execution_count": 19,
   "metadata": {
    "id": "H1A6rWchuen-"
   },
   "outputs": [],
   "source": [
    "X_train_embed_w2v = items_to_embed_w2v(X_train_split, model_w2v)\n",
    "X_test_embed_w2v = items_to_embed_w2v(X_test_split, model_w2v)"
   ]
  },
  {
   "cell_type": "markdown",
   "metadata": {
    "id": "hs_W8pLFkqu6"
   },
   "source": [
    "Обучите линейную регрессию на усредненных Word2Vec векторах. "
   ]
  },
  {
   "cell_type": "code",
   "execution_count": 20,
   "metadata": {
    "colab": {
     "base_uri": "https://localhost:8080/"
    },
    "id": "cMm-UgFYkqu6",
    "outputId": "f57a41ed-dd24-41e0-d7f3-640e1c8d963c"
   },
   "outputs": [
    {
     "data": {
      "text/plain": [
       "LinearRegression(copy_X=True, fit_intercept=True, n_jobs=3, normalize=True)"
      ]
     },
     "execution_count": 20,
     "metadata": {
      "tags": []
     },
     "output_type": "execute_result"
    }
   ],
   "source": [
    "Linreg_w2v = LinearRegression(normalize=True, n_jobs=3)\n",
    "Linreg_w2v.fit(X_train_embed_w2v, df_train['score'])"
   ]
  },
  {
   "cell_type": "code",
   "execution_count": 21,
   "metadata": {
    "colab": {
     "base_uri": "https://localhost:8080/"
    },
    "id": "0da7iVv1ML6t",
    "outputId": "3348e2f6-458a-4492-ebb2-96f4c2d9f67b"
   },
   "outputs": [
    {
     "data": {
      "text/plain": [
       "0.9951045017063797"
      ]
     },
     "execution_count": 21,
     "metadata": {
      "tags": []
     },
     "output_type": "execute_result"
    }
   ],
   "source": [
    "score_pred_w2v = Linreg_w2v.predict(X_test_embed_w2v)\n",
    "mean_absolute_error(df_test['score'], score_pred_w2v)"
   ]
  },
  {
   "cell_type": "markdown",
   "metadata": {
    "id": "ajeUK84ivaT9"
   },
   "source": [
    "А теперь все закинем в функцию, чтобы рисовать потом графички качества в зависимости от размера эмбеддинга"
   ]
  },
  {
   "cell_type": "code",
   "execution_count": 22,
   "metadata": {
    "id": "gIl6aPcrvZKv"
   },
   "outputs": [],
   "source": [
    "def mae_w2v(s_embed):\n",
    "  model = Word2Vec(X_train_split, size=s_embed)\n",
    "  x_train = items_to_embed_w2v(X_train_split, model)\n",
    "  x_test = items_to_embed_w2v(X_test_split, model)\n",
    "  LinReg = LinearRegression(normalize=True, n_jobs=3)\n",
    "  LinReg.fit(x_train, df_train['score'])\n",
    "  score_prediction = LinReg.predict(x_test)\n",
    "  x = mean_absolute_error(df_test['score'], score_prediction)\n",
    "  return x"
   ]
  },
  {
   "cell_type": "code",
   "execution_count": 23,
   "metadata": {
    "colab": {
     "base_uri": "https://localhost:8080/"
    },
    "id": "w2L7s9iewiWD",
    "outputId": "402e9851-fa77-4eec-8fc4-164ca525e09b"
   },
   "outputs": [
    {
     "data": {
      "text/plain": [
       "0.9929853056749555"
      ]
     },
     "execution_count": 23,
     "metadata": {
      "tags": []
     },
     "output_type": "execute_result"
    }
   ],
   "source": [
    "mae_w2v(600)"
   ]
  },
  {
   "cell_type": "markdown",
   "metadata": {
    "id": "HsOR0LS1fanO"
   },
   "source": [
    "##### Вывод:\n",
    "Использование только Word2Vec в целом тоже неплохо, хотя TF-IDF эмбеддинг показывал лучше качество"
   ]
  },
  {
   "cell_type": "markdown",
   "metadata": {
    "id": "ROU1TsJxfUNX"
   },
   "source": [
    "#### Word2Vec with IDF weights"
   ]
  },
  {
   "cell_type": "markdown",
   "metadata": {
    "id": "R8JO7ej2kqu6"
   },
   "source": [
    "Усредняя w2v вектора, мы предполагаем, что каждое слово имеет равноценный вклад в смысл предложения, однако это может быть не совсем так. Теперь попробуйте воспользоваться другой концепцией и перевзвесить слова при получении итогового эмбеддинга текста. В качестве весов используйте IDF (Inverse document frequency)"
   ]
  },
  {
   "cell_type": "code",
   "execution_count": 24,
   "metadata": {
    "id": "YDSuUNrhUgci"
   },
   "outputs": [],
   "source": [
    "def words_cnt(texts): #функция, которая подсчитывает сколько раз каждое слово встретилось во всех текстах\n",
    "  dict_word = {}\n",
    "  for text in texts: #цикл по отзыву\n",
    "    for word in list(set(text)): #цикл по слову в отзыве\n",
    "      try:\n",
    "        dict_word.update({word: dict_word[word] + 1}) #добавляем 1\n",
    "      except KeyError:\n",
    "        dict_word.update({word: 1}) #если не было, то ставим 1\n",
    "  return dict_word "
   ]
  },
  {
   "cell_type": "code",
   "execution_count": 25,
   "metadata": {
    "id": "8siBI87ckqu7"
   },
   "outputs": [],
   "source": [
    "def calc_idf(texts):\n",
    "    dict_word = words_cnt(texts)\n",
    "    vector_IDF = {}\n",
    "    for word in list(dict_word.keys()):\n",
    "      try:\n",
    "        IDF = np.log(len(texts)/ dict_word[word]) #IDF- log(количество текстов/сколько тестов со словом)\n",
    "        vector_IDF[word] = IDF\n",
    "      except KeyError or ValueError:\n",
    "        pass\n",
    "    return vector_IDF"
   ]
  },
  {
   "cell_type": "code",
   "execution_count": 26,
   "metadata": {
    "id": "7zXIaXMaXcv5"
   },
   "outputs": [],
   "source": [
    "def sentence_embedding_idf(sentence, embedding_model, dict_w):\n",
    "    dim = embedding_model['nothing'].shape[0]\n",
    "    vector_embd = np.zeros(dim)\n",
    "    for token in sentence:\n",
    "        if token in embedding_model:\n",
    "            vector_embd += dict_w[token] * embedding_model[token] #эмбеддинг слова умножаем на его IDF\n",
    "    return np.array(vector_embd)\n",
    "def items_to_w2v_idf(items, embedding_model, dict_w):\n",
    "    embed = []\n",
    "    for i in range(len(items)):\n",
    "        embed.append(sentence_embedding_idf(items[i], embedding_model, dict_w)) #делаем для всех слов\n",
    "    return np.array(embed)"
   ]
  },
  {
   "cell_type": "code",
   "execution_count": 27,
   "metadata": {
    "id": "rpUYZc2cVqLg"
   },
   "outputs": [],
   "source": [
    "all_IDF = calc_idf(X_train_split) #общий словарь, где для каждого слова в скольких текстах оно встретилось"
   ]
  },
  {
   "cell_type": "code",
   "execution_count": 28,
   "metadata": {
    "id": "Nl0eR5MxjaeQ"
   },
   "outputs": [],
   "source": [
    "model_w2v_idf = Word2Vec(X_train_split, min_count=3, size=400)"
   ]
  },
  {
   "cell_type": "code",
   "execution_count": 29,
   "metadata": {
    "id": "saMCZPwfhfw1"
   },
   "outputs": [],
   "source": [
    "X_train_w2v_idf = items_to_w2v_idf(X_train_split, model_w2v_idf, all_IDF)\n",
    "X_test_w2v_idf = items_to_w2v_idf(X_test_split, model_w2v_idf, all_IDF)"
   ]
  },
  {
   "cell_type": "code",
   "execution_count": 30,
   "metadata": {
    "colab": {
     "base_uri": "https://localhost:8080/"
    },
    "id": "Nft2luUJhf3Z",
    "outputId": "949f88c0-bdbf-491b-dd5d-d94e538cd981"
   },
   "outputs": [
    {
     "data": {
      "text/plain": [
       "LinearRegression(copy_X=True, fit_intercept=True, n_jobs=3, normalize=True)"
      ]
     },
     "execution_count": 30,
     "metadata": {
      "tags": []
     },
     "output_type": "execute_result"
    }
   ],
   "source": [
    "Linreg_w2v_idf = LinearRegression(normalize=True, n_jobs=3)\n",
    "Linreg_w2v_idf.fit(X_train_w2v_idf, df_train['score'])"
   ]
  },
  {
   "cell_type": "code",
   "execution_count": 31,
   "metadata": {
    "colab": {
     "base_uri": "https://localhost:8080/"
    },
    "id": "JgnhursnibPz",
    "outputId": "da437a61-d57d-48cb-c8fb-3ffe610a0867"
   },
   "outputs": [
    {
     "data": {
      "text/plain": [
       "0.9541561286647746"
      ]
     },
     "execution_count": 31,
     "metadata": {
      "tags": []
     },
     "output_type": "execute_result"
    }
   ],
   "source": [
    "score_pred_w2v_idf = Linreg_w2v_idf.predict(X_test_w2v_idf)\n",
    "mean_absolute_error(df_test['score'], score_pred_w2v_idf)"
   ]
  },
  {
   "cell_type": "markdown",
   "metadata": {
    "id": "kVwl8xzvxEZT"
   },
   "source": [
    "А теперь все преобразуем в одну функцию, чтобы рисовать графички в зависимости от размерности эмбеддинга"
   ]
  },
  {
   "cell_type": "code",
   "execution_count": 32,
   "metadata": {
    "id": "ngSTNnWYxD6k"
   },
   "outputs": [],
   "source": [
    "def mae_w2v_idf(s_embed):\n",
    "  all_IDF = calc_idf(X_train_split)\n",
    "  model = Word2Vec(X_train_split, size=s_embed)\n",
    "  x_train= items_to_w2v_idf(X_train_split, model, all_IDF)\n",
    "  x_test = items_to_w2v_idf(X_test_split, model, all_IDF)\n",
    "  linreg = LinearRegression(normalize=True, n_jobs=3)\n",
    "  linreg.fit(x_train, df_train['score'])\n",
    "  score_predict = linreg.predict(x_test)\n",
    "  y = mean_absolute_error(df_test['score'], score_predict)\n",
    "  return y"
   ]
  },
  {
   "cell_type": "code",
   "execution_count": 33,
   "metadata": {
    "colab": {
     "base_uri": "https://localhost:8080/"
    },
    "id": "oRNTJU-mx3Yx",
    "outputId": "f83ad91b-9bb2-4681-869e-b18a2671f6c5"
   },
   "outputs": [
    {
     "data": {
      "text/plain": [
       "0.9537734850391296"
      ]
     },
     "execution_count": 33,
     "metadata": {
      "tags": []
     },
     "output_type": "execute_result"
    }
   ],
   "source": [
    "mae_w2v_idf(500)"
   ]
  },
  {
   "cell_type": "markdown",
   "metadata": {
    "id": "RfAP-kk9e-R0"
   },
   "source": [
    "##### Вывод: \n",
    "Word2Vec с весами от IDF лучше, чем со средним, что и ожидалось, так как мы учитываем значимости слов во всем тексте.\n",
    "К тмоу же, такой способ лучше, чем просто TF-IDF, что говорит о мощности Word2Vec"
   ]
  },
  {
   "cell_type": "markdown",
   "metadata": {
    "id": "_bpKpAJ1f6SE"
   },
   "source": [
    "#### Эксперименты с размерностями (графики)"
   ]
  },
  {
   "cell_type": "markdown",
   "metadata": {
    "id": "StRloawykqu7"
   },
   "source": [
    "Проведите эксперименты с размерностью эмбеддинга. Для каждого из двух методов постройте график зависимости качества модели от размерности эмбеддинга."
   ]
  },
  {
   "cell_type": "code",
   "execution_count": 34,
   "metadata": {
    "id": "ITlppcJey28g"
   },
   "outputs": [],
   "source": [
    "from tqdm import tqdm_notebook as tqdm"
   ]
  },
  {
   "cell_type": "code",
   "execution_count": 35,
   "metadata": {
    "colab": {
     "base_uri": "https://localhost:8080/",
     "height": 66,
     "referenced_widgets": [
      "fa017c676ba8401ba03e1b333fac7345",
      "59e5807e57f34b1eb6037368055b13d4",
      "d33189f4110d483695ddc9a1e50566e9",
      "291c061003e541ca83442bccb63aba03",
      "e901f0a99bd64378aa6800c441abdaca",
      "7e3992db15034dd9a89618f6f0f1ec37",
      "7b72b70bc178434e8bc511a7119fa2de",
      "48565e59123844c2b2da7a284cd88601"
     ]
    },
    "id": "-PucvDw5xDR7",
    "outputId": "4326e20d-13d2-45df-ebf8-c1a7ec936c66"
   },
   "outputs": [
    {
     "data": {
      "application/vnd.jupyter.widget-view+json": {
       "model_id": "fa017c676ba8401ba03e1b333fac7345",
       "version_major": 2,
       "version_minor": 0
      },
      "text/plain": [
       "HBox(children=(FloatProgress(value=0.0, max=10.0), HTML(value='')))"
      ]
     },
     "metadata": {
      "tags": []
     },
     "output_type": "display_data"
    },
    {
     "name": "stdout",
     "output_type": "stream",
     "text": [
      "\n"
     ]
    }
   ],
   "source": [
    "MAE_w2v = []\n",
    "MAE_w2v_idf = []\n",
    "for i in tqdm(np.arange(100, 2000, 200)): #пройдемся по циклу и будем вызывать функции, обозначенные выше\n",
    "  MAE_w2v.append(mae_w2v(i))\n",
    "  MAE_w2v_idf.append(mae_w2v_idf(i))"
   ]
  },
  {
   "cell_type": "code",
   "execution_count": 36,
   "metadata": {
    "id": "oVBlpXsQz8dy"
   },
   "outputs": [],
   "source": [
    "import matplotlib.pyplot as plt #для графичков\n",
    "%matplotlib inline"
   ]
  },
  {
   "cell_type": "code",
   "execution_count": 37,
   "metadata": {
    "colab": {
     "base_uri": "https://localhost:8080/",
     "height": 677
    },
    "id": "_mME9MqQxDbR",
    "outputId": "f80840c0-f289-40e1-8790-54a005a58419"
   },
   "outputs": [
    {
     "data": {
      "image/png": "[encoded data removed]",
      "text/plain": [
       "<Figure size 864x720 with 2 Axes>"
      ]
     },
     "metadata": {
      "needs_background": "light",
      "tags": []
     },
     "output_type": "display_data"
    }
   ],
   "source": [
    "#рисуем графички\n",
    "steps = np.arange(100, 2000, 200)\n",
    "\n",
    "fig, axs = plt.subplots(2, figsize = (12,10))\n",
    "axs[0].plot(steps, MAE_w2v)\n",
    "axs[1].plot(steps, MAE_w2v_idf)\n",
    "axs[0].set_title('Word2Vec with mean weights')\n",
    "axs[1].set_title('Word2Vec with IDF weights')\n",
    "axs[1].set_xlabel('Embedding size')\n",
    "axs[0].set_ylabel('MAE')\n",
    "axs[1].set_ylabel('MAE')\n",
    "\n",
    "fig.suptitle('Влияние размера эмбеддинга на качество в двух моделях');"
   ]
  },
  {
   "cell_type": "markdown",
   "metadata": {
    "id": "shJBQtikxCVZ"
   },
   "source": [
    "##### Выводы:\n",
    "\n",
    "1. С увеличением размерности эмбеддингов качество становится лучше (лосс уменьшается), что логично, так как таким образом мы учитываем больше слов и их специфику в эмбеддингах\n",
    "\n",
    "2. Word2Vec with IDF weights для каждой размерности показывает лучше качество, что тоже ожидаемо, так как в этой модели учитывается специфика и значимость каждого слова в текстах, а не берется просто среднее\n",
    "\n",
    "3. После 1500 размерности качество у двух моделей почти остается на одном месте (а у Word2Vec даже немного ухудшается), из чего следует, что слишком большие эмбеддинги брать плохо, так как таким образом сложнее уловить некоторые специфические слова"
   ]
  },
  {
   "cell_type": "markdown",
   "metadata": {
    "id": "28oeUJS_7ACv"
   },
   "source": [
    "#### Другие эмбеддинги"
   ]
  },
  {
   "cell_type": "markdown",
   "metadata": {
    "id": "XAQgsLX0A2oS"
   },
   "source": [
    "##### Fasttext"
   ]
  },
  {
   "cell_type": "markdown",
   "metadata": {
    "id": "qVfOa58Ckqu7"
   },
   "source": [
    "Теперь попробуйте обучить линейную регрессию на любых других эмбеддингах размерности 300 и сравните качество с Word2Vec."
   ]
  },
  {
   "cell_type": "code",
   "execution_count": 38,
   "metadata": {
    "id": "UmrJmATw7KAq"
   },
   "outputs": [],
   "source": [
    "from gensim.models import FastText"
   ]
  },
  {
   "cell_type": "code",
   "execution_count": 39,
   "metadata": {
    "id": "cjX_NJ2c7KEH"
   },
   "outputs": [],
   "source": [
    "model1 = FastText(sentences = X_train_split, size=300, min_count=5)"
   ]
  },
  {
   "cell_type": "code",
   "execution_count": 40,
   "metadata": {
    "id": "Z1i-0hZT7KHW"
   },
   "outputs": [],
   "source": [
    "X_train_fasttext = items_to_embed_w2v(X_train_split, model1)\n",
    "X_test_fasttext = items_to_embed_w2v(X_test_split, model1)"
   ]
  },
  {
   "cell_type": "code",
   "execution_count": 41,
   "metadata": {
    "colab": {
     "base_uri": "https://localhost:8080/"
    },
    "id": "9QeuTM7S8XVJ",
    "outputId": "c9d5be04-77c4-4154-f660-f4ac96bcb574"
   },
   "outputs": [
    {
     "data": {
      "text/plain": [
       "LinearRegression(copy_X=True, fit_intercept=True, n_jobs=3, normalize=True)"
      ]
     },
     "execution_count": 41,
     "metadata": {
      "tags": []
     },
     "output_type": "execute_result"
    }
   ],
   "source": [
    "Linreg1 = LinearRegression(normalize=True, n_jobs=3)\n",
    "Linreg1.fit(X_train_fasttext, df_train['score'])"
   ]
  },
  {
   "cell_type": "code",
   "execution_count": 42,
   "metadata": {
    "colab": {
     "base_uri": "https://localhost:8080/"
    },
    "id": "KJvW9VUI8XYp",
    "outputId": "26bae6e3-7b37-4214-bc4a-ec44c14d3e07"
   },
   "outputs": [
    {
     "data": {
      "text/plain": [
       "1.0067195246167513"
      ]
     },
     "execution_count": 42,
     "metadata": {
      "tags": []
     },
     "output_type": "execute_result"
    }
   ],
   "source": [
    "score_fasttext = Linreg1.predict(X_test_fasttext)\n",
    "mean_absolute_error(df_test['score'], score_fasttext)"
   ]
  },
  {
   "cell_type": "markdown",
   "metadata": {
    "id": "U23ZNGAJh9tn"
   },
   "source": [
    "Сравним качество с **Word2Vec** и **Word2Vec with IDF weights** с таким же размером эмбеддинга - 300"
   ]
  },
  {
   "cell_type": "code",
   "execution_count": 43,
   "metadata": {
    "colab": {
     "base_uri": "https://localhost:8080/"
    },
    "id": "dSEpvh4ZAem3",
    "outputId": "0451aa1d-dbb0-4276-c8e5-5cf960050c5a"
   },
   "outputs": [
    {
     "data": {
      "text/plain": [
       "1.0056713459068138"
      ]
     },
     "execution_count": 43,
     "metadata": {
      "tags": []
     },
     "output_type": "execute_result"
    }
   ],
   "source": [
    "mae_w2v(300)"
   ]
  },
  {
   "cell_type": "code",
   "execution_count": 44,
   "metadata": {
    "colab": {
     "base_uri": "https://localhost:8080/"
    },
    "id": "QKK5X1B5NZy6",
    "outputId": "1ed22b20-bad3-454d-e6f0-2bbcd3085c13"
   },
   "outputs": [
    {
     "data": {
      "text/plain": [
       "0.9707595068039071"
      ]
     },
     "execution_count": 44,
     "metadata": {
      "tags": []
     },
     "output_type": "execute_result"
    }
   ],
   "source": [
    "mae_w2v_idf(300)"
   ]
  },
  {
   "cell_type": "markdown",
   "metadata": {
    "id": "n6YCU0kC7JIY"
   },
   "source": [
    "##### Выводы:\n",
    "\n",
    "1. Fasttext позволяет определять близость слов на основе иерархической классификации, то есть строит дерево по словам, что позволяет выйти на неплохое качество в нашей задаче - МАЕ = 1.0067. \n",
    "Причем это несильно хуже, чем обычный Word2Vec со средними весами, показывающий при такой размерности эмбеддинга - МАЕ=1.0057, который использует в качестве метрике косинусное расстояние.\n",
    "\n",
    "2. Word2Vec является одним из лучших инструментов для анализа текстов, показывающий качество лучше, чем другие способы для эмбеддинга текстов\n",
    "\n",
    "3. Использование Word2Vec with IDF weights показывает наилучшее качество, так как использует мощный алгоритм для Word2Vec с весами IDF, более детально учитывающие специфику и значимость слов"
   ]
  },
  {
   "cell_type": "markdown",
   "metadata": {
    "id": "oPDUzhZikqu7"
   },
   "source": [
    "### Часть 3. 6 баллов"
   ]
  },
  {
   "cell_type": "markdown",
   "metadata": {
    "id": "QPF7hs31kqu8"
   },
   "source": [
    "Теперь давайте воспользуемся более продвинутыми методами обработки текстовых данных, которые мы проходили в нашем курсе. Обучите RNN/Transformer для предсказания пользовательской оценки. Получите ошибку меньше, чем во всех вышеперечисленных методах."
   ]
  },
  {
   "cell_type": "markdown",
   "metadata": {
    "id": "DW_vZFiDkqu8"
   },
   "source": [
    "Если будете обучать RNN, попробуйте ограничить максимальную длину предложения. Некоторые отзывы могут быть слишком длинные относительно остальных.\n",
    "\n",
    "Чтобы пользоваться DataLoader, все его элементы должны быть одинаковой размерности. Для этого вы можете добавить нулевой паддинг ко всем предложениям (см пример pad_sequence)"
   ]
  },
  {
   "cell_type": "markdown",
   "metadata": {
    "id": "-TP4vfmyqpCs"
   },
   "source": [
    "#### Пакеты и данные"
   ]
  },
  {
   "cell_type": "code",
   "execution_count": 45,
   "metadata": {
    "id": "8a_SQxRHkqu8"
   },
   "outputs": [],
   "source": [
    "import torch\n",
    "from torch import nn\n",
    "from torch.nn import functional as F\n",
    "from torch.utils.data import TensorDataset, DataLoader\n",
    "from tqdm import tqdm_notebook as tqdm\n",
    "from IPython.display import clear_output"
   ]
  },
  {
   "cell_type": "code",
   "execution_count": 46,
   "metadata": {
    "colab": {
     "base_uri": "https://localhost:8080/"
    },
    "id": "1vD3csFCv5_J",
    "outputId": "dd1ea81a-de5b-4c06-b277-ab4efcdb0667"
   },
   "outputs": [
    {
     "name": "stdout",
     "output_type": "stream",
     "text": [
      "GPU is available\n"
     ]
    }
   ],
   "source": [
    "is_cuda = torch.cuda.is_available() #проверка на GPU\n",
    "\n",
    "if is_cuda:\n",
    "    device = torch.device(\"cuda\")\n",
    "    print(\"GPU is available\")\n",
    "else:\n",
    "    device = torch.device(\"cpu\")\n",
    "    print(\"GPU not available, CPU used\")"
   ]
  },
  {
   "cell_type": "code",
   "execution_count": 47,
   "metadata": {
    "id": "i8RAuc6Fkqu8"
   },
   "outputs": [],
   "source": [
    "WORDS = set()\n",
    "for sent in list(df['positive']):\n",
    "    for w in sent:\n",
    "        WORDS.add(w)\n",
    "        \n",
    "for sent in list(df['negative']):\n",
    "    for w in sent:\n",
    "        WORDS.add(w)"
   ]
  },
  {
   "cell_type": "code",
   "execution_count": 48,
   "metadata": {
    "id": "6mvW3ttDkqu9"
   },
   "outputs": [],
   "source": [
    "int2word = dict(enumerate(tuple(WORDS)))\n",
    "word2int = {w: ii for ii, w in int2word.items()}"
   ]
  },
  {
   "cell_type": "code",
   "execution_count": 49,
   "metadata": {
    "id": "divC6FNRkqu9"
   },
   "outputs": [],
   "source": [
    "MAX_LEN = max(max(df['positive'].apply(len)), max(df['negative'].apply(len)))"
   ]
  },
  {
   "cell_type": "code",
   "execution_count": 50,
   "metadata": {
    "colab": {
     "base_uri": "https://localhost:8080/"
    },
    "id": "XRw21sx6kqu9",
    "outputId": "80dd124b-21b9-4d92-e1e3-81b56b4b51a0"
   },
   "outputs": [
    {
     "data": {
      "text/plain": [
       "399"
      ]
     },
     "execution_count": 50,
     "metadata": {
      "tags": []
     },
     "output_type": "execute_result"
    }
   ],
   "source": [
    "MAX_LEN"
   ]
  },
  {
   "cell_type": "code",
   "execution_count": 59,
   "metadata": {
    "id": "CtPkT-3Lkqu9"
   },
   "outputs": [],
   "source": [
    "from torch.nn.utils.rnn import pad_sequence\n",
    "\n",
    "train_pos_pad = pad_sequence([torch.as_tensor([word2int[w] for w in seq][:200]) for seq in X_train_split], \n",
    "                           batch_first=True) #уберем слишком длинные предложения, отрежем последние 200\n",
    "test_pos_pad = pad_sequence([torch.as_tensor([word2int[w] for w in seq][:200]) for seq in X_test_split], \n",
    "                           batch_first=True) #уберем слишком длинные предложения, отрежем последние 200"
   ]
  },
  {
   "cell_type": "code",
   "execution_count": 61,
   "metadata": {
    "id": "jZyng9HYxIrp"
   },
   "outputs": [],
   "source": [
    "#создадим датасеты\n",
    "train_dataset = TensorDataset(torch.from_numpy(np.array(train_pos_pad)), torch.from_numpy(np.array(df_train['score'])))\n",
    "test_dataset = TensorDataset(torch.from_numpy(np.array(test_pos_pad)), torch.from_numpy(np.array(df_test['score'])))"
   ]
  },
  {
   "cell_type": "code",
   "execution_count": 62,
   "metadata": {
    "id": "b42jg5pdkqu-"
   },
   "outputs": [],
   "source": [
    "BATCH_SIZE = 1\n",
    "\n",
    "train_dataloader = torch.utils.data.DataLoader(train_dataset, batch_size=BATCH_SIZE)\n",
    "test_dataloader = torch.utils.data.DataLoader(test_dataset, batch_size=BATCH_SIZE)"
   ]
  },
  {
   "cell_type": "markdown",
   "metadata": {
    "id": "wuj2Lw55q1Db"
   },
   "source": [
    "#### Зададим LSTM (class RNN)"
   ]
  },
  {
   "cell_type": "code",
   "execution_count": 63,
   "metadata": {
    "id": "c0oV9HX77LNY"
   },
   "outputs": [],
   "source": [
    "class RNN(nn.Module):\n",
    "    def __init__(self, vocab_size, output_size, embedding_dim, n_hidden, n_layers):\n",
    "        super(RNN, self).__init__()\n",
    "        self.output_size = output_size #сколько будем выводить (равен 1, так как только пользовательская оценка)\n",
    "        self.n_layers = n_layers\n",
    "        self.n_hidden = n_hidden\n",
    "        \n",
    "        self.embedding = nn.Embedding(vocab_size, embedding_dim) #эмбеддинг\n",
    "        self.lstm = nn.LSTM(embedding_dim, n_hidden, n_layers, batch_first=True) #сам блок LSTM\n",
    "        self.fc1 = nn.Linear(n_hidden, output_size) #линейный блок после LSTM\n",
    "            \n",
    "    def forward(self, x, hidden):\n",
    "        embeds = self.embedding(x) #сначала делаем эмбеддинг\n",
    "        lstm_out, (ht,ct) = self.lstm(embeds, hidden) #по эмбеддингу делаем LSTM\n",
    "        return self.fc1(ht[-1]), (ht,ct) \n",
    "    #выводим линейное преобразование последнего скрытого слоя, по которому и будем предсказывать оценку + все скрытые слои (хотя можно это и не выводить)\n",
    "\n",
    "    def init_hidden(self, batch_size): #зададим изначальный слой нулями\n",
    "        weight = next(self.parameters()).data\n",
    "        hidden = (weight.new(self.n_layers, batch_size, self.n_hidden).zero_().to(device),\n",
    "                      weight.new(self.n_layers, batch_size, self.n_hidden).zero_().to(device))\n",
    "        return hidden\n"
   ]
  },
  {
   "cell_type": "code",
   "execution_count": 64,
   "metadata": {
    "colab": {
     "base_uri": "https://localhost:8080/"
    },
    "id": "CtCKXpmez1z0",
    "outputId": "36b0bb9b-31d7-43c5-be45-06d9faad0c97"
   },
   "outputs": [
    {
     "name": "stdout",
     "output_type": "stream",
     "text": [
      "RNN(\n",
      "  (embedding): Embedding(34729, 300)\n",
      "  (lstm): LSTM(300, 64, num_layers=3, batch_first=True)\n",
      "  (fc1): Linear(in_features=64, out_features=1, bias=True)\n",
      ")\n"
     ]
    }
   ],
   "source": [
    "vocab_size = len(word2int) + 1\n",
    "output_size = 1\n",
    "embedding_dim = 300 #поставим 300 для более четкого сравнения с предыдущими моделями\n",
    "n_hidden = 64 #размерность скрытого слоя\n",
    "n_layers = 3 #всего будет 3 скрытых слоя\n",
    "\n",
    "model = RNN(vocab_size, output_size, embedding_dim, n_hidden, n_layers)\n",
    "model.to(device)\n",
    "print(model)"
   ]
  },
  {
   "cell_type": "code",
   "execution_count": 65,
   "metadata": {
    "id": "CFLGfH9n0rif"
   },
   "outputs": [],
   "source": [
    "lr=0.001 #шаг в оптимизаторе\n",
    "criterion = nn.L1Loss() #L1Loss - позволяет считать MAE\n",
    "optimizer = torch.optim.Adam(model.parameters(), lr=lr) #оптимизатор - АДАМ"
   ]
  },
  {
   "cell_type": "markdown",
   "metadata": {
    "id": "Bi1xQKP3sgU1"
   },
   "source": [
    "#### Обучение LSTM"
   ]
  },
  {
   "cell_type": "code",
   "execution_count": 66,
   "metadata": {
    "colab": {
     "base_uri": "https://localhost:8080/",
     "height": 758,
     "referenced_widgets": [
      "d01d09d3f6db4808ab3bf45f3a0936a8",
      "4983eee2b20a42dd973db6b6510f0057",
      "32928e3b19174485bfab02dbb199e2ba",
      "b5d79290a1d44a72a99c252a5e3b7ca2",
      "de4190331b41456ca6c94d640634fdde",
      "c04bf9c1595c4f5ab5ce9dc08417c6ef",
      "6c680dc872454685b0d093bf2e1e262e",
      "716bfa6def654b508f86919f21938e33",
      "19e412b0cb7c4b15bfad697f80ae727d",
      "4ee2f6a44c6243549be89100d5502459",
      "1b8ae4bb2e904699b2ff9148effdbddb",
      "ff767efa96134e0f8c030a30311f11f6",
      "5f1a825f0d1f4ea8ab8d17feedf87233",
      "5bc47b12e26e4ec391540655fe3533be",
      "3316197fe592467d887a34b9ed8205d3",
      "d53f86a51a304fdc90b711b6747c05d3",
      "1ee0843d83ea40c9bf0cfcb34ecc4cca",
      "0cc817ae60a74cbaa388c4d908b32923",
      "1cc5e6441c7b4824b28916310e688aec",
      "7e1cee303e4045ecaff8a4c737563ab8",
      "69bf2816345649bfb92031319eb8528b",
      "75ce702927364a0ca1730abd4c34ecbb",
      "00b2f3e8cfd44e46a05f4b0418254eb6",
      "633f2ac3bbe244418a7ce963ded7e720",
      "fc69224105c145368ed199860e22d6bd",
      "0cec5273a45d435988a8895f489bdde8",
      "c7c0e2a6a39a4d66adf8b57652f8b762",
      "2bbebc7946614dd5add1e1fcf5ffc4a5",
      "3d6a81ef5c0742719b21c2f47332a043",
      "5fd0b8d6bf0c43e99c357c0701d4cc0c",
      "463eff9a5216428694bb6a6eb958cc72",
      "826216063e4d4710a3dc528dc6dedd36",
      "b5d5e02ab2b64c88a1c3f097072cbdf9",
      "de86966fa8ee406f8eedba01356f1add",
      "48c8449fdea541718173f1097cb11d95",
      "84c5bdf81ced465c896efaf61c959c75",
      "d461282128754aa8a2a53e2cadb54374",
      "0858f69c5a5347b8807b8a46414a6a5d",
      "61ac3c4dae884aaf9f28b6e8774efe0f",
      "ac5f78d27cc04495872e8c85cabf852a",
      "3d68b73958f24e54af9b037d1d097756",
      "0ad4c4048d174b93b0ad6deb232a56db",
      "613461b774924a0da2f8c7e35096ffe9",
      "0ed6f9927a12432caeacaef1ac7d420b",
      "c1ad50bfafdf4f48a2992f3a26bbc404",
      "c6904ef0f39a4e2b8733fd2f015a1880",
      "2fc3b60e313f41f59354a1c9ee32ea88",
      "4680815ccb8f4143a6d7d9abd9cf4338",
      "de40ad8c760f4e6cafdf95dc9469dd70",
      "be394a9d28324538aeae9cfe3df6446b",
      "fd56f9e7ca414c11b95fecd2721d82ac",
      "b822a4dd643a4f98b026b6e0882fe6c6",
      "656b56edf34a4baaabe3ac7eceba10a3",
      "ea3d1fb3084b45b897b813871d0b1176",
      "185909924f2e4e20b3aac3b9bf8cc542",
      "13d55382453a455c930c485e228cf8a2",
      "b9b668ab06554a67a3a65aca41b85411",
      "8273cf6450b74045982a6bf20e4dc54a",
      "23b07e92c1ff490286f20da656abcf0b",
      "0bf247258b3c4faa855676dcf64332c0",
      "1e7dd23049ca4ba797feb16b6fa81621",
      "679e874dd6864b498c2e9dae1d0c1f2b",
      "e5febcab09d04260818161f2f0919e85",
      "11c33ff550704484903945b97468f48d",
      "8a670cb9682649acb22cf4294cb041cc",
      "efdbf6fded9f4c88ba0dc7e9cab014d0",
      "3f1f1d09c01f44d3b212dd98e4ffef68",
      "e63f927412784e0e8219fe2a5654d48a",
      "99faf98de1fe4e558d6197a056f387c6",
      "67dadc013b7b49bfb95037cc6164a075",
      "296e404d881a461e9d9f05ea2772bd98",
      "effe4377049f49f8ae2db14896e7d7b4",
      "0edb87b0c7d249bfb0d6680d65b6ef2a",
      "fbd2985d516f479bb45cc53d41412b57",
      "a477b9433c7d4b359533d5647e0d7d60",
      "8615abfe47d64ad9a3455462a26b53e1",
      "14c539ead3ed4089af080b64e5bf598e",
      "fb3a3e5e8d6b4ef6b8e167d7fc522f3a",
      "927a4f360da64ddeb237d85d92616309",
      "a35d725c3f7e4674846b5295590e3c91",
      "7ea41018dcc0450f8afb26144ae31e47",
      "bcdca1b7555546e790db618b912269e4",
      "b19b5c8287b1486c941237fbb6e01409",
      "12cbff3ec208492386923fde404f9ad7",
      "1c5ee83fd0d84abab48664d521faffd7",
      "040e9b20a3a54dce9f4ee94f1c5562bc",
      "ed2e3b60f7ab457fb76a75263559bbd7",
      "ba1f4a68c71e4cbb87ec0d9ee0023ff1",
      "fe210776e6be460ab222129b33f3e309",
      "08995d87e02a4c4f9b68a5d17307f802",
      "d8f7993737724ba7af84295e96672842",
      "110dceb759064799a2a3afd5378ac1e1",
      "91dce775051241ca81b12646a9202a5d",
      "a571c69ddced4b6a899036df978bfa09",
      "5c98b8343ce840ccb2ac5fdff16516a0",
      "1cb4b77713124ee2b4ab68488dca66a6"
     ]
    },
    "id": "x2oh9RIL0rlu",
    "outputId": "0e6168e1-427f-4545-8122-21fa2eafd97d"
   },
   "outputs": [
    {
     "data": {
      "application/vnd.jupyter.widget-view+json": {
       "model_id": "d01d09d3f6db4808ab3bf45f3a0936a8",
       "version_major": 2,
       "version_minor": 0
      },
      "text/plain": [
       "HBox(children=(FloatProgress(value=0.0, max=75000.0), HTML(value='')))"
      ]
     },
     "metadata": {
      "tags": []
     },
     "output_type": "display_data"
    },
    {
     "data": {
      "application/vnd.jupyter.widget-view+json": {
       "model_id": "19e412b0cb7c4b15bfad697f80ae727d",
       "version_major": 2,
       "version_minor": 0
      },
      "text/plain": [
       "HBox(children=(FloatProgress(value=0.0, max=25000.0), HTML(value='')))"
      ]
     },
     "metadata": {
      "tags": []
     },
     "output_type": "display_data"
    },
    {
     "name": "stdout",
     "output_type": "stream",
     "text": [
      "\n",
      "Epoch: 1/3... Step: 25000... Loss: 1.225817... Val Loss: 1.563266\n"
     ]
    },
    {
     "data": {
      "application/vnd.jupyter.widget-view+json": {
       "model_id": "1ee0843d83ea40c9bf0cfcb34ecc4cca",
       "version_major": 2,
       "version_minor": 0
      },
      "text/plain": [
       "HBox(children=(FloatProgress(value=0.0, max=25000.0), HTML(value='')))"
      ]
     },
     "metadata": {
      "tags": []
     },
     "output_type": "display_data"
    },
    {
     "name": "stdout",
     "output_type": "stream",
     "text": [
      "\n",
      "Epoch: 1/3... Step: 50000... Loss: 1.045159... Val Loss: 1.016121\n"
     ]
    },
    {
     "data": {
      "application/vnd.jupyter.widget-view+json": {
       "model_id": "fc69224105c145368ed199860e22d6bd",
       "version_major": 2,
       "version_minor": 0
      },
      "text/plain": [
       "HBox(children=(FloatProgress(value=0.0, max=25000.0), HTML(value='')))"
      ]
     },
     "metadata": {
      "tags": []
     },
     "output_type": "display_data"
    },
    {
     "name": "stdout",
     "output_type": "stream",
     "text": [
      "\n",
      "Epoch: 1/3... Step: 75000... Loss: 1.270284... Val Loss: 1.021723\n",
      "\n"
     ]
    },
    {
     "data": {
      "application/vnd.jupyter.widget-view+json": {
       "model_id": "b5d5e02ab2b64c88a1c3f097072cbdf9",
       "version_major": 2,
       "version_minor": 0
      },
      "text/plain": [
       "HBox(children=(FloatProgress(value=0.0, max=75000.0), HTML(value='')))"
      ]
     },
     "metadata": {
      "tags": []
     },
     "output_type": "display_data"
    },
    {
     "data": {
      "application/vnd.jupyter.widget-view+json": {
       "model_id": "3d68b73958f24e54af9b037d1d097756",
       "version_major": 2,
       "version_minor": 0
      },
      "text/plain": [
       "HBox(children=(FloatProgress(value=0.0, max=25000.0), HTML(value='')))"
      ]
     },
     "metadata": {
      "tags": []
     },
     "output_type": "display_data"
    },
    {
     "name": "stdout",
     "output_type": "stream",
     "text": [
      "\n",
      "Epoch: 2/3... Step: 100000... Loss: 1.323348... Val Loss: 1.076796\n"
     ]
    },
    {
     "data": {
      "application/vnd.jupyter.widget-view+json": {
       "model_id": "de40ad8c760f4e6cafdf95dc9469dd70",
       "version_major": 2,
       "version_minor": 0
      },
      "text/plain": [
       "HBox(children=(FloatProgress(value=0.0, max=25000.0), HTML(value='')))"
      ]
     },
     "metadata": {
      "tags": []
     },
     "output_type": "display_data"
    },
    {
     "name": "stdout",
     "output_type": "stream",
     "text": [
      "\n",
      "Epoch: 2/3... Step: 125000... Loss: 0.277963... Val Loss: 0.948778\n"
     ]
    },
    {
     "data": {
      "application/vnd.jupyter.widget-view+json": {
       "model_id": "b9b668ab06554a67a3a65aca41b85411",
       "version_major": 2,
       "version_minor": 0
      },
      "text/plain": [
       "HBox(children=(FloatProgress(value=0.0, max=25000.0), HTML(value='')))"
      ]
     },
     "metadata": {
      "tags": []
     },
     "output_type": "display_data"
    },
    {
     "name": "stdout",
     "output_type": "stream",
     "text": [
      "\n",
      "Epoch: 2/3... Step: 150000... Loss: 0.276326... Val Loss: 0.944744\n",
      "\n"
     ]
    },
    {
     "data": {
      "application/vnd.jupyter.widget-view+json": {
       "model_id": "8a670cb9682649acb22cf4294cb041cc",
       "version_major": 2,
       "version_minor": 0
      },
      "text/plain": [
       "HBox(children=(FloatProgress(value=0.0, max=75000.0), HTML(value='')))"
      ]
     },
     "metadata": {
      "tags": []
     },
     "output_type": "display_data"
    },
    {
     "data": {
      "application/vnd.jupyter.widget-view+json": {
       "model_id": "0edb87b0c7d249bfb0d6680d65b6ef2a",
       "version_major": 2,
       "version_minor": 0
      },
      "text/plain": [
       "HBox(children=(FloatProgress(value=0.0, max=25000.0), HTML(value='')))"
      ]
     },
     "metadata": {
      "tags": []
     },
     "output_type": "display_data"
    },
    {
     "name": "stdout",
     "output_type": "stream",
     "text": [
      "\n",
      "Epoch: 3/3... Step: 175000... Loss: 2.083630... Val Loss: 1.071833\n"
     ]
    },
    {
     "data": {
      "application/vnd.jupyter.widget-view+json": {
       "model_id": "7ea41018dcc0450f8afb26144ae31e47",
       "version_major": 2,
       "version_minor": 0
      },
      "text/plain": [
       "HBox(children=(FloatProgress(value=0.0, max=25000.0), HTML(value='')))"
      ]
     },
     "metadata": {
      "tags": []
     },
     "output_type": "display_data"
    },
    {
     "name": "stdout",
     "output_type": "stream",
     "text": [
      "\n",
      "Epoch: 3/3... Step: 200000... Loss: 0.195287... Val Loss: 0.901648\n"
     ]
    },
    {
     "data": {
      "application/vnd.jupyter.widget-view+json": {
       "model_id": "fe210776e6be460ab222129b33f3e309",
       "version_major": 2,
       "version_minor": 0
      },
      "text/plain": [
       "HBox(children=(FloatProgress(value=0.0, max=25000.0), HTML(value='')))"
      ]
     },
     "metadata": {
      "tags": []
     },
     "output_type": "display_data"
    },
    {
     "name": "stdout",
     "output_type": "stream",
     "text": [
      "\n",
      "Epoch: 3/3... Step: 225000... Loss: 0.008782... Val Loss: 0.927442\n",
      "\n"
     ]
    }
   ],
   "source": [
    "counter = 0\n",
    "print_every = 25000 #будем валидироваться каждые 25000\n",
    "clip = 5 #чтобы градиент не затухал\n",
    "epochs=3 #поставим всего 3 эпохи\n",
    "\n",
    "model.train()\n",
    "for i in range(epochs):\n",
    "    h = model.init_hidden(BATCH_SIZE) #зададим начальные слои\n",
    "    \n",
    "    for inputs, labels in tqdm(train_dataloader):\n",
    "        counter += 1\n",
    "        h = tuple([e.data for e in h]) #берем скрытые слои\n",
    "        inputs, labels = inputs.to(device), labels.to(device)\n",
    "        model.zero_grad() #обнуляем накопленные градиенты\n",
    "        output, h = model(inputs, h) #обучаем модель\n",
    "        loss = criterion(output.squeeze(), labels.long()) #определяем лосс\n",
    "        loss.backward() #считаем лосс в модели\n",
    "        nn.utils.clip_grad_norm_(model.parameters(), clip) #делаем так, чтобы не затухал градиент\n",
    "        optimizer.step() #шаг оптимизатора\n",
    "\n",
    "        if counter%print_every == 0: #каждые 25к отзывов валидируемся\n",
    "            val_h = model.init_hidden(BATCH_SIZE) #создаем начальный слой\n",
    "            val_losses = [] #все лоссы\n",
    "            model.eval() #валидируем модель, не сохраняя результат в модель\n",
    "            for inp, lab in tqdm(test_dataloader):\n",
    "                val_h = tuple([each.data for each in val_h])\n",
    "                inp, lab = inp.to(device), lab.to(device)\n",
    "                out, val_h = model(inp, val_h)\n",
    "                val_loss = criterion(out.squeeze(), lab.float()) #считаем лосс\n",
    "                val_losses.append(val_loss.item())\n",
    "                \n",
    "            model.train() #продолжаем обучать модель\n",
    "            #выводим результаты\n",
    "            print(\"Epoch: {}/{}...\".format(i+1, epochs),\n",
    "                  \"Step: {}...\".format(counter),\n",
    "                  \"Loss: {:.6f}...\".format(loss.item()),\n",
    "                  \"Val Loss: {:.6f}\".format(np.mean(val_losses)))"
   ]
  },
  {
   "cell_type": "markdown",
   "metadata": {
    "id": "-GX1n0mo1ARY"
   },
   "source": [
    "#### Вывод\n",
    "\n",
    "Обученная LSTM модель дает качество МАЕ=0.9, что лучше, чем предыдущие модели (лучшее было 0.93 при большом размере эмбеддингов).\n",
    "\n",
    "Это подтверждает мощность метода RNN и LSTM в частности, которая была использована в моей модели"
   ]
  },
  {
   "cell_type": "code",
   "execution_count": null,
   "metadata": {
    "id": "_PGB5SqP192-"
   },
   "outputs": [],
   "source": []
  }
 ],
 "metadata": {
  "accelerator": "GPU",
  "colab": {
   "collapsed_sections": [],
   "name": "my_hw3",
   "provenance": []
  },
  "kernelspec": {
   "display_name": "Python 3",
   "language": "python",
   "name": "python3"
  },
  "language_info": {
   "codemirror_mode": {
    "name": "ipython",
    "version": 3
   },
   "file_extension": ".py",
   "mimetype": "text/x-python",
   "name": "python",
   "nbconvert_exporter": "python",
   "pygments_lexer": "ipython3",
   "version": "3.8.5"
  },
  "widgets": {
   "application/vnd.jupyter.widget-state+json": {
    "00b2f3e8cfd44e46a05f4b0418254eb6": {
     "model_module": "@jupyter-widgets/controls",
     "model_name": "DescriptionStyleModel",
     "state": {
      "_model_module": "@jupyter-widgets/controls",
      "_model_module_version": "1.5.0",
      "_model_name": "DescriptionStyleModel",
      "_view_count": null,
      "_view_module": "@jupyter-widgets/base",
      "_view_module_version": "1.2.0",
      "_view_name": "StyleView",
      "description_width": ""
     }
    },
    "040e9b20a3a54dce9f4ee94f1c5562bc": {
     "model_module": "@jupyter-widgets/base",
     "model_name": "LayoutModel",
     "state": {
      "_model_module": "@jupyter-widgets/base",
      "_model_module_version": "1.2.0",
      "_model_name": "LayoutModel",
      "_view_count": null,
      "_view_module": "@jupyter-widgets/base",
      "_view_module_version": "1.2.0",
      "_view_name": "LayoutView",
      "align_content": null,
      "align_items": null,
      "align_self": null,
      "border": null,
      "bottom": null,
      "display": null,
      "flex": null,
      "flex_flow": null,
      "grid_area": null,
      "grid_auto_columns": null,
      "grid_auto_flow": null,
      "grid_auto_rows": null,
      "grid_column": null,
      "grid_gap": null,
      "grid_row": null,
      "grid_template_areas": null,
      "grid_template_columns": null,
      "grid_template_rows": null,
      "height": null,
      "justify_content": null,
      "justify_items": null,
      "left": null,
      "margin": null,
      "max_height": null,
      "max_width": null,
      "min_height": null,
      "min_width": null,
      "object_fit": null,
      "object_position": null,
      "order": null,
      "overflow": null,
      "overflow_x": null,
      "overflow_y": null,
      "padding": null,
      "right": null,
      "top": null,
      "visibility": null,
      "width": null
     }
    },
    "0858f69c5a5347b8807b8a46414a6a5d": {
     "model_module": "@jupyter-widgets/base",
     "model_name": "LayoutModel",
     "state": {
      "_model_module": "@jupyter-widgets/base",
      "_model_module_version": "1.2.0",
      "_model_name": "LayoutModel",
      "_view_count": null,
      "_view_module": "@jupyter-widgets/base",
      "_view_module_version": "1.2.0",
      "_view_name": "LayoutView",
      "align_content": null,
      "align_items": null,
      "align_self": null,
      "border": null,
      "bottom": null,
      "display": null,
      "flex": null,
      "flex_flow": null,
      "grid_area": null,
      "grid_auto_columns": null,
      "grid_auto_flow": null,
      "grid_auto_rows": null,
      "grid_column": null,
      "grid_gap": null,
      "grid_row": null,
      "grid_template_areas": null,
      "grid_template_columns": null,
      "grid_template_rows": null,
      "height": null,
      "justify_content": null,
      "justify_items": null,
      "left": null,
      "margin": null,
      "max_height": null,
      "max_width": null,
      "min_height": null,
      "min_width": null,
      "object_fit": null,
      "object_position": null,
      "order": null,
      "overflow": null,
      "overflow_x": null,
      "overflow_y": null,
      "padding": null,
      "right": null,
      "top": null,
      "visibility": null,
      "width": null
     }
    },
    "08995d87e02a4c4f9b68a5d17307f802": {
     "model_module": "@jupyter-widgets/base",
     "model_name": "LayoutModel",
     "state": {
      "_model_module": "@jupyter-widgets/base",
      "_model_module_version": "1.2.0",
      "_model_name": "LayoutModel",
      "_view_count": null,
      "_view_module": "@jupyter-widgets/base",
      "_view_module_version": "1.2.0",
      "_view_name": "LayoutView",
      "align_content": null,
      "align_items": null,
      "align_self": null,
      "border": null,
      "bottom": null,
      "display": null,
      "flex": null,
      "flex_flow": null,
      "grid_area": null,
      "grid_auto_columns": null,
      "grid_auto_flow": null,
      "grid_auto_rows": null,
      "grid_column": null,
      "grid_gap": null,
      "grid_row": null,
      "grid_template_areas": null,
      "grid_template_columns": null,
      "grid_template_rows": null,
      "height": null,
      "justify_content": null,
      "justify_items": null,
      "left": null,
      "margin": null,
      "max_height": null,
      "max_width": null,
      "min_height": null,
      "min_width": null,
      "object_fit": null,
      "object_position": null,
      "order": null,
      "overflow": null,
      "overflow_x": null,
      "overflow_y": null,
      "padding": null,
      "right": null,
      "top": null,
      "visibility": null,
      "width": null
     }
    },
    "0ad4c4048d174b93b0ad6deb232a56db": {
     "model_module": "@jupyter-widgets/base",
     "model_name": "LayoutModel",
     "state": {
      "_model_module": "@jupyter-widgets/base",
      "_model_module_version": "1.2.0",
      "_model_name": "LayoutModel",
      "_view_count": null,
      "_view_module": "@jupyter-widgets/base",
      "_view_module_version": "1.2.0",
      "_view_name": "LayoutView",
      "align_content": null,
      "align_items": null,
      "align_self": null,
      "border": null,
      "bottom": null,
      "display": null,
      "flex": null,
      "flex_flow": null,
      "grid_area": null,
      "grid_auto_columns": null,
      "grid_auto_flow": null,
      "grid_auto_rows": null,
      "grid_column": null,
      "grid_gap": null,
      "grid_row": null,
      "grid_template_areas": null,
      "grid_template_columns": null,
      "grid_template_rows": null,
      "height": null,
      "justify_content": null,
      "justify_items": null,
      "left": null,
      "margin": null,
      "max_height": null,
      "max_width": null,
      "min_height": null,
      "min_width": null,
      "object_fit": null,
      "object_position": null,
      "order": null,
      "overflow": null,
      "overflow_x": null,
      "overflow_y": null,
      "padding": null,
      "right": null,
      "top": null,
      "visibility": null,
      "width": null
     }
    },
    "0bf247258b3c4faa855676dcf64332c0": {
     "model_module": "@jupyter-widgets/controls",
     "model_name": "HTMLModel",
     "state": {
      "_dom_classes": [],
      "_model_module": "@jupyter-widgets/controls",
      "_model_module_version": "1.5.0",
      "_model_name": "HTMLModel",
      "_view_count": null,
      "_view_module": "@jupyter-widgets/controls",
      "_view_module_version": "1.5.0",
      "_view_name": "HTMLView",
      "description": "",
      "description_tooltip": null,
      "layout": "IPY_MODEL_11c33ff550704484903945b97468f48d",
      "placeholder": "​",
      "style": "IPY_MODEL_e5febcab09d04260818161f2f0919e85",
      "value": " 25000/25000 [29:01&lt;00:00, 14.36it/s]"
     }
    },
    "0cc817ae60a74cbaa388c4d908b32923": {
     "model_module": "@jupyter-widgets/base",
     "model_name": "LayoutModel",
     "state": {
      "_model_module": "@jupyter-widgets/base",
      "_model_module_version": "1.2.0",
      "_model_name": "LayoutModel",
      "_view_count": null,
      "_view_module": "@jupyter-widgets/base",
      "_view_module_version": "1.2.0",
      "_view_name": "LayoutView",
      "align_content": null,
      "align_items": null,
      "align_self": null,
      "border": null,
      "bottom": null,
      "display": null,
      "flex": null,
      "flex_flow": null,
      "grid_area": null,
      "grid_auto_columns": null,
      "grid_auto_flow": null,
      "grid_auto_rows": null,
      "grid_column": null,
      "grid_gap": null,
      "grid_row": null,
      "grid_template_areas": null,
      "grid_template_columns": null,
      "grid_template_rows": null,
      "height": null,
      "justify_content": null,
      "justify_items": null,
      "left": null,
      "margin": null,
      "max_height": null,
      "max_width": null,
      "min_height": null,
      "min_width": null,
      "object_fit": null,
      "object_position": null,
      "order": null,
      "overflow": null,
      "overflow_x": null,
      "overflow_y": null,
      "padding": null,
      "right": null,
      "top": null,
      "visibility": null,
      "width": null
     }
    },
    "0cec5273a45d435988a8895f489bdde8": {
     "model_module": "@jupyter-widgets/base",
     "model_name": "LayoutModel",
     "state": {
      "_model_module": "@jupyter-widgets/base",
      "_model_module_version": "1.2.0",
      "_model_name": "LayoutModel",
      "_view_count": null,
      "_view_module": "@jupyter-widgets/base",
      "_view_module_version": "1.2.0",
      "_view_name": "LayoutView",
      "align_content": null,
      "align_items": null,
      "align_self": null,
      "border": null,
      "bottom": null,
      "display": null,
      "flex": null,
      "flex_flow": null,
      "grid_area": null,
      "grid_auto_columns": null,
      "grid_auto_flow": null,
      "grid_auto_rows": null,
      "grid_column": null,
      "grid_gap": null,
      "grid_row": null,
      "grid_template_areas": null,
      "grid_template_columns": null,
      "grid_template_rows": null,
      "height": null,
      "justify_content": null,
      "justify_items": null,
      "left": null,
      "margin": null,
      "max_height": null,
      "max_width": null,
      "min_height": null,
      "min_width": null,
      "object_fit": null,
      "object_position": null,
      "order": null,
      "overflow": null,
      "overflow_x": null,
      "overflow_y": null,
      "padding": null,
      "right": null,
      "top": null,
      "visibility": null,
      "width": null
     }
    },
    "0ed6f9927a12432caeacaef1ac7d420b": {
     "model_module": "@jupyter-widgets/controls",
     "model_name": "HTMLModel",
     "state": {
      "_dom_classes": [],
      "_model_module": "@jupyter-widgets/controls",
      "_model_module_version": "1.5.0",
      "_model_name": "HTMLModel",
      "_view_count": null,
      "_view_module": "@jupyter-widgets/controls",
      "_view_module_version": "1.5.0",
      "_view_name": "HTMLView",
      "description": "",
      "description_tooltip": null,
      "layout": "IPY_MODEL_4680815ccb8f4143a6d7d9abd9cf4338",
      "placeholder": "​",
      "style": "IPY_MODEL_2fc3b60e313f41f59354a1c9ee32ea88",
      "value": " 25000/25000 [12:25&lt;00:00, 33.53it/s]"
     }
    },
    "0edb87b0c7d249bfb0d6680d65b6ef2a": {
     "model_module": "@jupyter-widgets/controls",
     "model_name": "HBoxModel",
     "state": {
      "_dom_classes": [],
      "_model_module": "@jupyter-widgets/controls",
      "_model_module_version": "1.5.0",
      "_model_name": "HBoxModel",
      "_view_count": null,
      "_view_module": "@jupyter-widgets/controls",
      "_view_module_version": "1.5.0",
      "_view_name": "HBoxView",
      "box_style": "",
      "children": [
       "IPY_MODEL_a477b9433c7d4b359533d5647e0d7d60",
       "IPY_MODEL_8615abfe47d64ad9a3455462a26b53e1"
      ],
      "layout": "IPY_MODEL_fbd2985d516f479bb45cc53d41412b57"
     }
    },
    "110dceb759064799a2a3afd5378ac1e1": {
     "model_module": "@jupyter-widgets/controls",
     "model_name": "HTMLModel",
     "state": {
      "_dom_classes": [],
      "_model_module": "@jupyter-widgets/controls",
      "_model_module_version": "1.5.0",
      "_model_name": "HTMLModel",
      "_view_count": null,
      "_view_module": "@jupyter-widgets/controls",
      "_view_module_version": "1.5.0",
      "_view_name": "HTMLView",
      "description": "",
      "description_tooltip": null,
      "layout": "IPY_MODEL_1cb4b77713124ee2b4ab68488dca66a6",
      "placeholder": "​",
      "style": "IPY_MODEL_5c98b8343ce840ccb2ac5fdff16516a0",
      "value": " 25000/25000 [03:34&lt;00:00, 116.63it/s]"
     }
    },
    "11c33ff550704484903945b97468f48d": {
     "model_module": "@jupyter-widgets/base",
     "model_name": "LayoutModel",
     "state": {
      "_model_module": "@jupyter-widgets/base",
      "_model_module_version": "1.2.0",
      "_model_name": "LayoutModel",
      "_view_count": null,
      "_view_module": "@jupyter-widgets/base",
      "_view_module_version": "1.2.0",
      "_view_name": "LayoutView",
      "align_content": null,
      "align_items": null,
      "align_self": null,
      "border": null,
      "bottom": null,
      "display": null,
      "flex": null,
      "flex_flow": null,
      "grid_area": null,
      "grid_auto_columns": null,
      "grid_auto_flow": null,
      "grid_auto_rows": null,
      "grid_column": null,
      "grid_gap": null,
      "grid_row": null,
      "grid_template_areas": null,
      "grid_template_columns": null,
      "grid_template_rows": null,
      "height": null,
      "justify_content": null,
      "justify_items": null,
      "left": null,
      "margin": null,
      "max_height": null,
      "max_width": null,
      "min_height": null,
      "min_width": null,
      "object_fit": null,
      "object_position": null,
      "order": null,
      "overflow": null,
      "overflow_x": null,
      "overflow_y": null,
      "padding": null,
      "right": null,
      "top": null,
      "visibility": null,
      "width": null
     }
    },
    "12cbff3ec208492386923fde404f9ad7": {
     "model_module": "@jupyter-widgets/controls",
     "model_name": "HTMLModel",
     "state": {
      "_dom_classes": [],
      "_model_module": "@jupyter-widgets/controls",
      "_model_module_version": "1.5.0",
      "_model_name": "HTMLModel",
      "_view_count": null,
      "_view_module": "@jupyter-widgets/controls",
      "_view_module_version": "1.5.0",
      "_view_name": "HTMLView",
      "description": "",
      "description_tooltip": null,
      "layout": "IPY_MODEL_ba1f4a68c71e4cbb87ec0d9ee0023ff1",
      "placeholder": "​",
      "style": "IPY_MODEL_ed2e3b60f7ab457fb76a75263559bbd7",
      "value": " 25000/25000 [03:31&lt;00:00, 118.46it/s]"
     }
    },
    "13d55382453a455c930c485e228cf8a2": {
     "model_module": "@jupyter-widgets/base",
     "model_name": "LayoutModel",
     "state": {
      "_model_module": "@jupyter-widgets/base",
      "_model_module_version": "1.2.0",
      "_model_name": "LayoutModel",
      "_view_count": null,
      "_view_module": "@jupyter-widgets/base",
      "_view_module_version": "1.2.0",
      "_view_name": "LayoutView",
      "align_content": null,
      "align_items": null,
      "align_self": null,
      "border": null,
      "bottom": null,
      "display": null,
      "flex": null,
      "flex_flow": null,
      "grid_area": null,
      "grid_auto_columns": null,
      "grid_auto_flow": null,
      "grid_auto_rows": null,
      "grid_column": null,
      "grid_gap": null,
      "grid_row": null,
      "grid_template_areas": null,
      "grid_template_columns": null,
      "grid_template_rows": null,
      "height": null,
      "justify_content": null,
      "justify_items": null,
      "left": null,
      "margin": null,
      "max_height": null,
      "max_width": null,
      "min_height": null,
      "min_width": null,
      "object_fit": null,
      "object_position": null,
      "order": null,
      "overflow": null,
      "overflow_x": null,
      "overflow_y": null,
      "padding": null,
      "right": null,
      "top": null,
      "visibility": null,
      "width": null
     }
    },
    "14c539ead3ed4089af080b64e5bf598e": {
     "model_module": "@jupyter-widgets/controls",
     "model_name": "ProgressStyleModel",
     "state": {
      "_model_module": "@jupyter-widgets/controls",
      "_model_module_version": "1.5.0",
      "_model_name": "ProgressStyleModel",
      "_view_count": null,
      "_view_module": "@jupyter-widgets/base",
      "_view_module_version": "1.2.0",
      "_view_name": "StyleView",
      "bar_color": null,
      "description_width": "initial"
     }
    },
    "185909924f2e4e20b3aac3b9bf8cc542": {
     "model_module": "@jupyter-widgets/controls",
     "model_name": "DescriptionStyleModel",
     "state": {
      "_model_module": "@jupyter-widgets/controls",
      "_model_module_version": "1.5.0",
      "_model_name": "DescriptionStyleModel",
      "_view_count": null,
      "_view_module": "@jupyter-widgets/base",
      "_view_module_version": "1.2.0",
      "_view_name": "StyleView",
      "description_width": ""
     }
    },
    "19e412b0cb7c4b15bfad697f80ae727d": {
     "model_module": "@jupyter-widgets/controls",
     "model_name": "HBoxModel",
     "state": {
      "_dom_classes": [],
      "_model_module": "@jupyter-widgets/controls",
      "_model_module_version": "1.5.0",
      "_model_name": "HBoxModel",
      "_view_count": null,
      "_view_module": "@jupyter-widgets/controls",
      "_view_module_version": "1.5.0",
      "_view_name": "HBoxView",
      "box_style": "",
      "children": [
       "IPY_MODEL_1b8ae4bb2e904699b2ff9148effdbddb",
       "IPY_MODEL_ff767efa96134e0f8c030a30311f11f6"
      ],
      "layout": "IPY_MODEL_4ee2f6a44c6243549be89100d5502459"
     }
    },
    "1b8ae4bb2e904699b2ff9148effdbddb": {
     "model_module": "@jupyter-widgets/controls",
     "model_name": "FloatProgressModel",
     "state": {
      "_dom_classes": [],
      "_model_module": "@jupyter-widgets/controls",
      "_model_module_version": "1.5.0",
      "_model_name": "FloatProgressModel",
      "_view_count": null,
      "_view_module": "@jupyter-widgets/controls",
      "_view_module_version": "1.5.0",
      "_view_name": "ProgressView",
      "bar_style": "success",
      "description": "100%",
      "description_tooltip": null,
      "layout": "IPY_MODEL_5bc47b12e26e4ec391540655fe3533be",
      "max": 25000,
      "min": 0,
      "orientation": "horizontal",
      "style": "IPY_MODEL_5f1a825f0d1f4ea8ab8d17feedf87233",
      "value": 25000
     }
    },
    "1c5ee83fd0d84abab48664d521faffd7": {
     "model_module": "@jupyter-widgets/controls",
     "model_name": "ProgressStyleModel",
     "state": {
      "_model_module": "@jupyter-widgets/controls",
      "_model_module_version": "1.5.0",
      "_model_name": "ProgressStyleModel",
      "_view_count": null,
      "_view_module": "@jupyter-widgets/base",
      "_view_module_version": "1.2.0",
      "_view_name": "StyleView",
      "bar_color": null,
      "description_width": "initial"
     }
    },
    "1cb4b77713124ee2b4ab68488dca66a6": {
     "model_module": "@jupyter-widgets/base",
     "model_name": "LayoutModel",
     "state": {
      "_model_module": "@jupyter-widgets/base",
      "_model_module_version": "1.2.0",
      "_model_name": "LayoutModel",
      "_view_count": null,
      "_view_module": "@jupyter-widgets/base",
      "_view_module_version": "1.2.0",
      "_view_name": "LayoutView",
      "align_content": null,
      "align_items": null,
      "align_self": null,
      "border": null,
      "bottom": null,
      "display": null,
      "flex": null,
      "flex_flow": null,
      "grid_area": null,
      "grid_auto_columns": null,
      "grid_auto_flow": null,
      "grid_auto_rows": null,
      "grid_column": null,
      "grid_gap": null,
      "grid_row": null,
      "grid_template_areas": null,
      "grid_template_columns": null,
      "grid_template_rows": null,
      "height": null,
      "justify_content": null,
      "justify_items": null,
      "left": null,
      "margin": null,
      "max_height": null,
      "max_width": null,
      "min_height": null,
      "min_width": null,
      "object_fit": null,
      "object_position": null,
      "order": null,
      "overflow": null,
      "overflow_x": null,
      "overflow_y": null,
      "padding": null,
      "right": null,
      "top": null,
      "visibility": null,
      "width": null
     }
    },
    "1cc5e6441c7b4824b28916310e688aec": {
     "model_module": "@jupyter-widgets/controls",
     "model_name": "FloatProgressModel",
     "state": {
      "_dom_classes": [],
      "_model_module": "@jupyter-widgets/controls",
      "_model_module_version": "1.5.0",
      "_model_name": "FloatProgressModel",
      "_view_count": null,
      "_view_module": "@jupyter-widgets/controls",
      "_view_module_version": "1.5.0",
      "_view_name": "ProgressView",
      "bar_style": "success",
      "description": "100%",
      "description_tooltip": null,
      "layout": "IPY_MODEL_75ce702927364a0ca1730abd4c34ecbb",
      "max": 25000,
      "min": 0,
      "orientation": "horizontal",
      "style": "IPY_MODEL_69bf2816345649bfb92031319eb8528b",
      "value": 25000
     }
    },
    "1e7dd23049ca4ba797feb16b6fa81621": {
     "model_module": "@jupyter-widgets/controls",
     "model_name": "ProgressStyleModel",
     "state": {
      "_model_module": "@jupyter-widgets/controls",
      "_model_module_version": "1.5.0",
      "_model_name": "ProgressStyleModel",
      "_view_count": null,
      "_view_module": "@jupyter-widgets/base",
      "_view_module_version": "1.2.0",
      "_view_name": "StyleView",
      "bar_color": null,
      "description_width": "initial"
     }
    },
    "1ee0843d83ea40c9bf0cfcb34ecc4cca": {
     "model_module": "@jupyter-widgets/controls",
     "model_name": "HBoxModel",
     "state": {
      "_dom_classes": [],
      "_model_module": "@jupyter-widgets/controls",
      "_model_module_version": "1.5.0",
      "_model_name": "HBoxModel",
      "_view_count": null,
      "_view_module": "@jupyter-widgets/controls",
      "_view_module_version": "1.5.0",
      "_view_name": "HBoxView",
      "box_style": "",
      "children": [
       "IPY_MODEL_1cc5e6441c7b4824b28916310e688aec",
       "IPY_MODEL_7e1cee303e4045ecaff8a4c737563ab8"
      ],
      "layout": "IPY_MODEL_0cc817ae60a74cbaa388c4d908b32923"
     }
    },
    "23b07e92c1ff490286f20da656abcf0b": {
     "model_module": "@jupyter-widgets/controls",
     "model_name": "FloatProgressModel",
     "state": {
      "_dom_classes": [],
      "_model_module": "@jupyter-widgets/controls",
      "_model_module_version": "1.5.0",
      "_model_name": "FloatProgressModel",
      "_view_count": null,
      "_view_module": "@jupyter-widgets/controls",
      "_view_module_version": "1.5.0",
      "_view_name": "ProgressView",
      "bar_style": "success",
      "description": "100%",
      "description_tooltip": null,
      "layout": "IPY_MODEL_679e874dd6864b498c2e9dae1d0c1f2b",
      "max": 25000,
      "min": 0,
      "orientation": "horizontal",
      "style": "IPY_MODEL_1e7dd23049ca4ba797feb16b6fa81621",
      "value": 25000
     }
    },
    "291c061003e541ca83442bccb63aba03": {
     "model_module": "@jupyter-widgets/controls",
     "model_name": "HTMLModel",
     "state": {
      "_dom_classes": [],
      "_model_module": "@jupyter-widgets/controls",
      "_model_module_version": "1.5.0",
      "_model_name": "HTMLModel",
      "_view_count": null,
      "_view_module": "@jupyter-widgets/controls",
      "_view_module_version": "1.5.0",
      "_view_name": "HTMLView",
      "description": "",
      "description_tooltip": null,
      "layout": "IPY_MODEL_48565e59123844c2b2da7a284cd88601",
      "placeholder": "​",
      "style": "IPY_MODEL_7b72b70bc178434e8bc511a7119fa2de",
      "value": " 10/10 [31:46&lt;00:00, 190.61s/it]"
     }
    },
    "296e404d881a461e9d9f05ea2772bd98": {
     "model_module": "@jupyter-widgets/controls",
     "model_name": "DescriptionStyleModel",
     "state": {
      "_model_module": "@jupyter-widgets/controls",
      "_model_module_version": "1.5.0",
      "_model_name": "DescriptionStyleModel",
      "_view_count": null,
      "_view_module": "@jupyter-widgets/base",
      "_view_module_version": "1.2.0",
      "_view_name": "StyleView",
      "description_width": ""
     }
    },
    "2bbebc7946614dd5add1e1fcf5ffc4a5": {
     "model_module": "@jupyter-widgets/controls",
     "model_name": "HTMLModel",
     "state": {
      "_dom_classes": [],
      "_model_module": "@jupyter-widgets/controls",
      "_model_module_version": "1.5.0",
      "_model_name": "HTMLModel",
      "_view_count": null,
      "_view_module": "@jupyter-widgets/controls",
      "_view_module_version": "1.5.0",
      "_view_name": "HTMLView",
      "description": "",
      "description_tooltip": null,
      "layout": "IPY_MODEL_826216063e4d4710a3dc528dc6dedd36",
      "placeholder": "​",
      "style": "IPY_MODEL_463eff9a5216428694bb6a6eb958cc72",
      "value": " 25000/25000 [24:43&lt;00:00, 16.85it/s]"
     }
    },
    "2fc3b60e313f41f59354a1c9ee32ea88": {
     "model_module": "@jupyter-widgets/controls",
     "model_name": "DescriptionStyleModel",
     "state": {
      "_model_module": "@jupyter-widgets/controls",
      "_model_module_version": "1.5.0",
      "_model_name": "DescriptionStyleModel",
      "_view_count": null,
      "_view_module": "@jupyter-widgets/base",
      "_view_module_version": "1.2.0",
      "_view_name": "StyleView",
      "description_width": ""
     }
    },
    "32928e3b19174485bfab02dbb199e2ba": {
     "model_module": "@jupyter-widgets/controls",
     "model_name": "FloatProgressModel",
     "state": {
      "_dom_classes": [],
      "_model_module": "@jupyter-widgets/controls",
      "_model_module_version": "1.5.0",
      "_model_name": "FloatProgressModel",
      "_view_count": null,
      "_view_module": "@jupyter-widgets/controls",
      "_view_module_version": "1.5.0",
      "_view_name": "ProgressView",
      "bar_style": "success",
      "description": "100%",
      "description_tooltip": null,
      "layout": "IPY_MODEL_c04bf9c1595c4f5ab5ce9dc08417c6ef",
      "max": 75000,
      "min": 0,
      "orientation": "horizontal",
      "style": "IPY_MODEL_de4190331b41456ca6c94d640634fdde",
      "value": 75000
     }
    },
    "3316197fe592467d887a34b9ed8205d3": {
     "model_module": "@jupyter-widgets/controls",
     "model_name": "DescriptionStyleModel",
     "state": {
      "_model_module": "@jupyter-widgets/controls",
      "_model_module_version": "1.5.0",
      "_model_name": "DescriptionStyleModel",
      "_view_count": null,
      "_view_module": "@jupyter-widgets/base",
      "_view_module_version": "1.2.0",
      "_view_name": "StyleView",
      "description_width": ""
     }
    },
    "3d68b73958f24e54af9b037d1d097756": {
     "model_module": "@jupyter-widgets/controls",
     "model_name": "HBoxModel",
     "state": {
      "_dom_classes": [],
      "_model_module": "@jupyter-widgets/controls",
      "_model_module_version": "1.5.0",
      "_model_name": "HBoxModel",
      "_view_count": null,
      "_view_module": "@jupyter-widgets/controls",
      "_view_module_version": "1.5.0",
      "_view_name": "HBoxView",
      "box_style": "",
      "children": [
       "IPY_MODEL_613461b774924a0da2f8c7e35096ffe9",
       "IPY_MODEL_0ed6f9927a12432caeacaef1ac7d420b"
      ],
      "layout": "IPY_MODEL_0ad4c4048d174b93b0ad6deb232a56db"
     }
    },
    "3d6a81ef5c0742719b21c2f47332a043": {
     "model_module": "@jupyter-widgets/controls",
     "model_name": "ProgressStyleModel",
     "state": {
      "_model_module": "@jupyter-widgets/controls",
      "_model_module_version": "1.5.0",
      "_model_name": "ProgressStyleModel",
      "_view_count": null,
      "_view_module": "@jupyter-widgets/base",
      "_view_module_version": "1.2.0",
      "_view_name": "StyleView",
      "bar_color": null,
      "description_width": "initial"
     }
    },
    "3f1f1d09c01f44d3b212dd98e4ffef68": {
     "model_module": "@jupyter-widgets/controls",
     "model_name": "FloatProgressModel",
     "state": {
      "_dom_classes": [],
      "_model_module": "@jupyter-widgets/controls",
      "_model_module_version": "1.5.0",
      "_model_name": "FloatProgressModel",
      "_view_count": null,
      "_view_module": "@jupyter-widgets/controls",
      "_view_module_version": "1.5.0",
      "_view_name": "ProgressView",
      "bar_style": "success",
      "description": "100%",
      "description_tooltip": null,
      "layout": "IPY_MODEL_67dadc013b7b49bfb95037cc6164a075",
      "max": 75000,
      "min": 0,
      "orientation": "horizontal",
      "style": "IPY_MODEL_99faf98de1fe4e558d6197a056f387c6",
      "value": 75000
     }
    },
    "463eff9a5216428694bb6a6eb958cc72": {
     "model_module": "@jupyter-widgets/controls",
     "model_name": "DescriptionStyleModel",
     "state": {
      "_model_module": "@jupyter-widgets/controls",
      "_model_module_version": "1.5.0",
      "_model_name": "DescriptionStyleModel",
      "_view_count": null,
      "_view_module": "@jupyter-widgets/base",
      "_view_module_version": "1.2.0",
      "_view_name": "StyleView",
      "description_width": ""
     }
    },
    "4680815ccb8f4143a6d7d9abd9cf4338": {
     "model_module": "@jupyter-widgets/base",
     "model_name": "LayoutModel",
     "state": {
      "_model_module": "@jupyter-widgets/base",
      "_model_module_version": "1.2.0",
      "_model_name": "LayoutModel",
      "_view_count": null,
      "_view_module": "@jupyter-widgets/base",
      "_view_module_version": "1.2.0",
      "_view_name": "LayoutView",
      "align_content": null,
      "align_items": null,
      "align_self": null,
      "border": null,
      "bottom": null,
      "display": null,
      "flex": null,
      "flex_flow": null,
      "grid_area": null,
      "grid_auto_columns": null,
      "grid_auto_flow": null,
      "grid_auto_rows": null,
      "grid_column": null,
      "grid_gap": null,
      "grid_row": null,
      "grid_template_areas": null,
      "grid_template_columns": null,
      "grid_template_rows": null,
      "height": null,
      "justify_content": null,
      "justify_items": null,
      "left": null,
      "margin": null,
      "max_height": null,
      "max_width": null,
      "min_height": null,
      "min_width": null,
      "object_fit": null,
      "object_position": null,
      "order": null,
      "overflow": null,
      "overflow_x": null,
      "overflow_y": null,
      "padding": null,
      "right": null,
      "top": null,
      "visibility": null,
      "width": null
     }
    },
    "48565e59123844c2b2da7a284cd88601": {
     "model_module": "@jupyter-widgets/base",
     "model_name": "LayoutModel",
     "state": {
      "_model_module": "@jupyter-widgets/base",
      "_model_module_version": "1.2.0",
      "_model_name": "LayoutModel",
      "_view_count": null,
      "_view_module": "@jupyter-widgets/base",
      "_view_module_version": "1.2.0",
      "_view_name": "LayoutView",
      "align_content": null,
      "align_items": null,
      "align_self": null,
      "border": null,
      "bottom": null,
      "display": null,
      "flex": null,
      "flex_flow": null,
      "grid_area": null,
      "grid_auto_columns": null,
      "grid_auto_flow": null,
      "grid_auto_rows": null,
      "grid_column": null,
      "grid_gap": null,
      "grid_row": null,
      "grid_template_areas": null,
      "grid_template_columns": null,
      "grid_template_rows": null,
      "height": null,
      "justify_content": null,
      "justify_items": null,
      "left": null,
      "margin": null,
      "max_height": null,
      "max_width": null,
      "min_height": null,
      "min_width": null,
      "object_fit": null,
      "object_position": null,
      "order": null,
      "overflow": null,
      "overflow_x": null,
      "overflow_y": null,
      "padding": null,
      "right": null,
      "top": null,
      "visibility": null,
      "width": null
     }
    },
    "48c8449fdea541718173f1097cb11d95": {
     "model_module": "@jupyter-widgets/controls",
     "model_name": "FloatProgressModel",
     "state": {
      "_dom_classes": [],
      "_model_module": "@jupyter-widgets/controls",
      "_model_module_version": "1.5.0",
      "_model_name": "FloatProgressModel",
      "_view_count": null,
      "_view_module": "@jupyter-widgets/controls",
      "_view_module_version": "1.5.0",
      "_view_name": "ProgressView",
      "bar_style": "success",
      "description": "100%",
      "description_tooltip": null,
      "layout": "IPY_MODEL_0858f69c5a5347b8807b8a46414a6a5d",
      "max": 75000,
      "min": 0,
      "orientation": "horizontal",
      "style": "IPY_MODEL_d461282128754aa8a2a53e2cadb54374",
      "value": 75000
     }
    },
    "4983eee2b20a42dd973db6b6510f0057": {
     "model_module": "@jupyter-widgets/base",
     "model_name": "LayoutModel",
     "state": {
      "_model_module": "@jupyter-widgets/base",
      "_model_module_version": "1.2.0",
      "_model_name": "LayoutModel",
      "_view_count": null,
      "_view_module": "@jupyter-widgets/base",
      "_view_module_version": "1.2.0",
      "_view_name": "LayoutView",
      "align_content": null,
      "align_items": null,
      "align_self": null,
      "border": null,
      "bottom": null,
      "display": null,
      "flex": null,
      "flex_flow": null,
      "grid_area": null,
      "grid_auto_columns": null,
      "grid_auto_flow": null,
      "grid_auto_rows": null,
      "grid_column": null,
      "grid_gap": null,
      "grid_row": null,
      "grid_template_areas": null,
      "grid_template_columns": null,
      "grid_template_rows": null,
      "height": null,
      "justify_content": null,
      "justify_items": null,
      "left": null,
      "margin": null,
      "max_height": null,
      "max_width": null,
      "min_height": null,
      "min_width": null,
      "object_fit": null,
      "object_position": null,
      "order": null,
      "overflow": null,
      "overflow_x": null,
      "overflow_y": null,
      "padding": null,
      "right": null,
      "top": null,
      "visibility": null,
      "width": null
     }
    },
    "4ee2f6a44c6243549be89100d5502459": {
     "model_module": "@jupyter-widgets/base",
     "model_name": "LayoutModel",
     "state": {
      "_model_module": "@jupyter-widgets/base",
      "_model_module_version": "1.2.0",
      "_model_name": "LayoutModel",
      "_view_count": null,
      "_view_module": "@jupyter-widgets/base",
      "_view_module_version": "1.2.0",
      "_view_name": "LayoutView",
      "align_content": null,
      "align_items": null,
      "align_self": null,
      "border": null,
      "bottom": null,
      "display": null,
      "flex": null,
      "flex_flow": null,
      "grid_area": null,
      "grid_auto_columns": null,
      "grid_auto_flow": null,
      "grid_auto_rows": null,
      "grid_column": null,
      "grid_gap": null,
      "grid_row": null,
      "grid_template_areas": null,
      "grid_template_columns": null,
      "grid_template_rows": null,
      "height": null,
      "justify_content": null,
      "justify_items": null,
      "left": null,
      "margin": null,
      "max_height": null,
      "max_width": null,
      "min_height": null,
      "min_width": null,
      "object_fit": null,
      "object_position": null,
      "order": null,
      "overflow": null,
      "overflow_x": null,
      "overflow_y": null,
      "padding": null,
      "right": null,
      "top": null,
      "visibility": null,
      "width": null
     }
    },
    "59e5807e57f34b1eb6037368055b13d4": {
     "model_module": "@jupyter-widgets/base",
     "model_name": "LayoutModel",
     "state": {
      "_model_module": "@jupyter-widgets/base",
      "_model_module_version": "1.2.0",
      "_model_name": "LayoutModel",
      "_view_count": null,
      "_view_module": "@jupyter-widgets/base",
      "_view_module_version": "1.2.0",
      "_view_name": "LayoutView",
      "align_content": null,
      "align_items": null,
      "align_self": null,
      "border": null,
      "bottom": null,
      "display": null,
      "flex": null,
      "flex_flow": null,
      "grid_area": null,
      "grid_auto_columns": null,
      "grid_auto_flow": null,
      "grid_auto_rows": null,
      "grid_column": null,
      "grid_gap": null,
      "grid_row": null,
      "grid_template_areas": null,
      "grid_template_columns": null,
      "grid_template_rows": null,
      "height": null,
      "justify_content": null,
      "justify_items": null,
      "left": null,
      "margin": null,
      "max_height": null,
      "max_width": null,
      "min_height": null,
      "min_width": null,
      "object_fit": null,
      "object_position": null,
      "order": null,
      "overflow": null,
      "overflow_x": null,
      "overflow_y": null,
      "padding": null,
      "right": null,
      "top": null,
      "visibility": null,
      "width": null
     }
    },
    "5bc47b12e26e4ec391540655fe3533be": {
     "model_module": "@jupyter-widgets/base",
     "model_name": "LayoutModel",
     "state": {
      "_model_module": "@jupyter-widgets/base",
      "_model_module_version": "1.2.0",
      "_model_name": "LayoutModel",
      "_view_count": null,
      "_view_module": "@jupyter-widgets/base",
      "_view_module_version": "1.2.0",
      "_view_name": "LayoutView",
      "align_content": null,
      "align_items": null,
      "align_self": null,
      "border": null,
      "bottom": null,
      "display": null,
      "flex": null,
      "flex_flow": null,
      "grid_area": null,
      "grid_auto_columns": null,
      "grid_auto_flow": null,
      "grid_auto_rows": null,
      "grid_column": null,
      "grid_gap": null,
      "grid_row": null,
      "grid_template_areas": null,
      "grid_template_columns": null,
      "grid_template_rows": null,
      "height": null,
      "justify_content": null,
      "justify_items": null,
      "left": null,
      "margin": null,
      "max_height": null,
      "max_width": null,
      "min_height": null,
      "min_width": null,
      "object_fit": null,
      "object_position": null,
      "order": null,
      "overflow": null,
      "overflow_x": null,
      "overflow_y": null,
      "padding": null,
      "right": null,
      "top": null,
      "visibility": null,
      "width": null
     }
    },
    "5c98b8343ce840ccb2ac5fdff16516a0": {
     "model_module": "@jupyter-widgets/controls",
     "model_name": "DescriptionStyleModel",
     "state": {
      "_model_module": "@jupyter-widgets/controls",
      "_model_module_version": "1.5.0",
      "_model_name": "DescriptionStyleModel",
      "_view_count": null,
      "_view_module": "@jupyter-widgets/base",
      "_view_module_version": "1.2.0",
      "_view_name": "StyleView",
      "description_width": ""
     }
    },
    "5f1a825f0d1f4ea8ab8d17feedf87233": {
     "model_module": "@jupyter-widgets/controls",
     "model_name": "ProgressStyleModel",
     "state": {
      "_model_module": "@jupyter-widgets/controls",
      "_model_module_version": "1.5.0",
      "_model_name": "ProgressStyleModel",
      "_view_count": null,
      "_view_module": "@jupyter-widgets/base",
      "_view_module_version": "1.2.0",
      "_view_name": "StyleView",
      "bar_color": null,
      "description_width": "initial"
     }
    },
    "5fd0b8d6bf0c43e99c357c0701d4cc0c": {
     "model_module": "@jupyter-widgets/base",
     "model_name": "LayoutModel",
     "state": {
      "_model_module": "@jupyter-widgets/base",
      "_model_module_version": "1.2.0",
      "_model_name": "LayoutModel",
      "_view_count": null,
      "_view_module": "@jupyter-widgets/base",
      "_view_module_version": "1.2.0",
      "_view_name": "LayoutView",
      "align_content": null,
      "align_items": null,
      "align_self": null,
      "border": null,
      "bottom": null,
      "display": null,
      "flex": null,
      "flex_flow": null,
      "grid_area": null,
      "grid_auto_columns": null,
      "grid_auto_flow": null,
      "grid_auto_rows": null,
      "grid_column": null,
      "grid_gap": null,
      "grid_row": null,
      "grid_template_areas": null,
      "grid_template_columns": null,
      "grid_template_rows": null,
      "height": null,
      "justify_content": null,
      "justify_items": null,
      "left": null,
      "margin": null,
      "max_height": null,
      "max_width": null,
      "min_height": null,
      "min_width": null,
      "object_fit": null,
      "object_position": null,
      "order": null,
      "overflow": null,
      "overflow_x": null,
      "overflow_y": null,
      "padding": null,
      "right": null,
      "top": null,
      "visibility": null,
      "width": null
     }
    },
    "613461b774924a0da2f8c7e35096ffe9": {
     "model_module": "@jupyter-widgets/controls",
     "model_name": "FloatProgressModel",
     "state": {
      "_dom_classes": [],
      "_model_module": "@jupyter-widgets/controls",
      "_model_module_version": "1.5.0",
      "_model_name": "FloatProgressModel",
      "_view_count": null,
      "_view_module": "@jupyter-widgets/controls",
      "_view_module_version": "1.5.0",
      "_view_name": "ProgressView",
      "bar_style": "success",
      "description": "100%",
      "description_tooltip": null,
      "layout": "IPY_MODEL_c6904ef0f39a4e2b8733fd2f015a1880",
      "max": 25000,
      "min": 0,
      "orientation": "horizontal",
      "style": "IPY_MODEL_c1ad50bfafdf4f48a2992f3a26bbc404",
      "value": 25000
     }
    },
    "61ac3c4dae884aaf9f28b6e8774efe0f": {
     "model_module": "@jupyter-widgets/controls",
     "model_name": "DescriptionStyleModel",
     "state": {
      "_model_module": "@jupyter-widgets/controls",
      "_model_module_version": "1.5.0",
      "_model_name": "DescriptionStyleModel",
      "_view_count": null,
      "_view_module": "@jupyter-widgets/base",
      "_view_module_version": "1.2.0",
      "_view_name": "StyleView",
      "description_width": ""
     }
    },
    "633f2ac3bbe244418a7ce963ded7e720": {
     "model_module": "@jupyter-widgets/base",
     "model_name": "LayoutModel",
     "state": {
      "_model_module": "@jupyter-widgets/base",
      "_model_module_version": "1.2.0",
      "_model_name": "LayoutModel",
      "_view_count": null,
      "_view_module": "@jupyter-widgets/base",
      "_view_module_version": "1.2.0",
      "_view_name": "LayoutView",
      "align_content": null,
      "align_items": null,
      "align_self": null,
      "border": null,
      "bottom": null,
      "display": null,
      "flex": null,
      "flex_flow": null,
      "grid_area": null,
      "grid_auto_columns": null,
      "grid_auto_flow": null,
      "grid_auto_rows": null,
      "grid_column": null,
      "grid_gap": null,
      "grid_row": null,
      "grid_template_areas": null,
      "grid_template_columns": null,
      "grid_template_rows": null,
      "height": null,
      "justify_content": null,
      "justify_items": null,
      "left": null,
      "margin": null,
      "max_height": null,
      "max_width": null,
      "min_height": null,
      "min_width": null,
      "object_fit": null,
      "object_position": null,
      "order": null,
      "overflow": null,
      "overflow_x": null,
      "overflow_y": null,
      "padding": null,
      "right": null,
      "top": null,
      "visibility": null,
      "width": null
     }
    },
    "656b56edf34a4baaabe3ac7eceba10a3": {
     "model_module": "@jupyter-widgets/controls",
     "model_name": "ProgressStyleModel",
     "state": {
      "_model_module": "@jupyter-widgets/controls",
      "_model_module_version": "1.5.0",
      "_model_name": "ProgressStyleModel",
      "_view_count": null,
      "_view_module": "@jupyter-widgets/base",
      "_view_module_version": "1.2.0",
      "_view_name": "StyleView",
      "bar_color": null,
      "description_width": "initial"
     }
    },
    "679e874dd6864b498c2e9dae1d0c1f2b": {
     "model_module": "@jupyter-widgets/base",
     "model_name": "LayoutModel",
     "state": {
      "_model_module": "@jupyter-widgets/base",
      "_model_module_version": "1.2.0",
      "_model_name": "LayoutModel",
      "_view_count": null,
      "_view_module": "@jupyter-widgets/base",
      "_view_module_version": "1.2.0",
      "_view_name": "LayoutView",
      "align_content": null,
      "align_items": null,
      "align_self": null,
      "border": null,
      "bottom": null,
      "display": null,
      "flex": null,
      "flex_flow": null,
      "grid_area": null,
      "grid_auto_columns": null,
      "grid_auto_flow": null,
      "grid_auto_rows": null,
      "grid_column": null,
      "grid_gap": null,
      "grid_row": null,
      "grid_template_areas": null,
      "grid_template_columns": null,
      "grid_template_rows": null,
      "height": null,
      "justify_content": null,
      "justify_items": null,
      "left": null,
      "margin": null,
      "max_height": null,
      "max_width": null,
      "min_height": null,
      "min_width": null,
      "object_fit": null,
      "object_position": null,
      "order": null,
      "overflow": null,
      "overflow_x": null,
      "overflow_y": null,
      "padding": null,
      "right": null,
      "top": null,
      "visibility": null,
      "width": null
     }
    },
    "67dadc013b7b49bfb95037cc6164a075": {
     "model_module": "@jupyter-widgets/base",
     "model_name": "LayoutModel",
     "state": {
      "_model_module": "@jupyter-widgets/base",
      "_model_module_version": "1.2.0",
      "_model_name": "LayoutModel",
      "_view_count": null,
      "_view_module": "@jupyter-widgets/base",
      "_view_module_version": "1.2.0",
      "_view_name": "LayoutView",
      "align_content": null,
      "align_items": null,
      "align_self": null,
      "border": null,
      "bottom": null,
      "display": null,
      "flex": null,
      "flex_flow": null,
      "grid_area": null,
      "grid_auto_columns": null,
      "grid_auto_flow": null,
      "grid_auto_rows": null,
      "grid_column": null,
      "grid_gap": null,
      "grid_row": null,
      "grid_template_areas": null,
      "grid_template_columns": null,
      "grid_template_rows": null,
      "height": null,
      "justify_content": null,
      "justify_items": null,
      "left": null,
      "margin": null,
      "max_height": null,
      "max_width": null,
      "min_height": null,
      "min_width": null,
      "object_fit": null,
      "object_position": null,
      "order": null,
      "overflow": null,
      "overflow_x": null,
      "overflow_y": null,
      "padding": null,
      "right": null,
      "top": null,
      "visibility": null,
      "width": null
     }
    },
    "69bf2816345649bfb92031319eb8528b": {
     "model_module": "@jupyter-widgets/controls",
     "model_name": "ProgressStyleModel",
     "state": {
      "_model_module": "@jupyter-widgets/controls",
      "_model_module_version": "1.5.0",
      "_model_name": "ProgressStyleModel",
      "_view_count": null,
      "_view_module": "@jupyter-widgets/base",
      "_view_module_version": "1.2.0",
      "_view_name": "StyleView",
      "bar_color": null,
      "description_width": "initial"
     }
    },
    "6c680dc872454685b0d093bf2e1e262e": {
     "model_module": "@jupyter-widgets/controls",
     "model_name": "DescriptionStyleModel",
     "state": {
      "_model_module": "@jupyter-widgets/controls",
      "_model_module_version": "1.5.0",
      "_model_name": "DescriptionStyleModel",
      "_view_count": null,
      "_view_module": "@jupyter-widgets/base",
      "_view_module_version": "1.2.0",
      "_view_name": "StyleView",
      "description_width": ""
     }
    },
    "716bfa6def654b508f86919f21938e33": {
     "model_module": "@jupyter-widgets/base",
     "model_name": "LayoutModel",
     "state": {
      "_model_module": "@jupyter-widgets/base",
      "_model_module_version": "1.2.0",
      "_model_name": "LayoutModel",
      "_view_count": null,
      "_view_module": "@jupyter-widgets/base",
      "_view_module_version": "1.2.0",
      "_view_name": "LayoutView",
      "align_content": null,
      "align_items": null,
      "align_self": null,
      "border": null,
      "bottom": null,
      "display": null,
      "flex": null,
      "flex_flow": null,
      "grid_area": null,
      "grid_auto_columns": null,
      "grid_auto_flow": null,
      "grid_auto_rows": null,
      "grid_column": null,
      "grid_gap": null,
      "grid_row": null,
      "grid_template_areas": null,
      "grid_template_columns": null,
      "grid_template_rows": null,
      "height": null,
      "justify_content": null,
      "justify_items": null,
      "left": null,
      "margin": null,
      "max_height": null,
      "max_width": null,
      "min_height": null,
      "min_width": null,
      "object_fit": null,
      "object_position": null,
      "order": null,
      "overflow": null,
      "overflow_x": null,
      "overflow_y": null,
      "padding": null,
      "right": null,
      "top": null,
      "visibility": null,
      "width": null
     }
    },
    "75ce702927364a0ca1730abd4c34ecbb": {
     "model_module": "@jupyter-widgets/base",
     "model_name": "LayoutModel",
     "state": {
      "_model_module": "@jupyter-widgets/base",
      "_model_module_version": "1.2.0",
      "_model_name": "LayoutModel",
      "_view_count": null,
      "_view_module": "@jupyter-widgets/base",
      "_view_module_version": "1.2.0",
      "_view_name": "LayoutView",
      "align_content": null,
      "align_items": null,
      "align_self": null,
      "border": null,
      "bottom": null,
      "display": null,
      "flex": null,
      "flex_flow": null,
      "grid_area": null,
      "grid_auto_columns": null,
      "grid_auto_flow": null,
      "grid_auto_rows": null,
      "grid_column": null,
      "grid_gap": null,
      "grid_row": null,
      "grid_template_areas": null,
      "grid_template_columns": null,
      "grid_template_rows": null,
      "height": null,
      "justify_content": null,
      "justify_items": null,
      "left": null,
      "margin": null,
      "max_height": null,
      "max_width": null,
      "min_height": null,
      "min_width": null,
      "object_fit": null,
      "object_position": null,
      "order": null,
      "overflow": null,
      "overflow_x": null,
      "overflow_y": null,
      "padding": null,
      "right": null,
      "top": null,
      "visibility": null,
      "width": null
     }
    },
    "7b72b70bc178434e8bc511a7119fa2de": {
     "model_module": "@jupyter-widgets/controls",
     "model_name": "DescriptionStyleModel",
     "state": {
      "_model_module": "@jupyter-widgets/controls",
      "_model_module_version": "1.5.0",
      "_model_name": "DescriptionStyleModel",
      "_view_count": null,
      "_view_module": "@jupyter-widgets/base",
      "_view_module_version": "1.2.0",
      "_view_name": "StyleView",
      "description_width": ""
     }
    },
    "7e1cee303e4045ecaff8a4c737563ab8": {
     "model_module": "@jupyter-widgets/controls",
     "model_name": "HTMLModel",
     "state": {
      "_dom_classes": [],
      "_model_module": "@jupyter-widgets/controls",
      "_model_module_version": "1.5.0",
      "_model_name": "HTMLModel",
      "_view_count": null,
      "_view_module": "@jupyter-widgets/controls",
      "_view_module_version": "1.5.0",
      "_view_name": "HTMLView",
      "description": "",
      "description_tooltip": null,
      "layout": "IPY_MODEL_633f2ac3bbe244418a7ce963ded7e720",
      "placeholder": "​",
      "style": "IPY_MODEL_00b2f3e8cfd44e46a05f4b0418254eb6",
      "value": " 25000/25000 [1:18:39&lt;00:00,  5.30it/s]"
     }
    },
    "7e3992db15034dd9a89618f6f0f1ec37": {
     "model_module": "@jupyter-widgets/base",
     "model_name": "LayoutModel",
     "state": {
      "_model_module": "@jupyter-widgets/base",
      "_model_module_version": "1.2.0",
      "_model_name": "LayoutModel",
      "_view_count": null,
      "_view_module": "@jupyter-widgets/base",
      "_view_module_version": "1.2.0",
      "_view_name": "LayoutView",
      "align_content": null,
      "align_items": null,
      "align_self": null,
      "border": null,
      "bottom": null,
      "display": null,
      "flex": null,
      "flex_flow": null,
      "grid_area": null,
      "grid_auto_columns": null,
      "grid_auto_flow": null,
      "grid_auto_rows": null,
      "grid_column": null,
      "grid_gap": null,
      "grid_row": null,
      "grid_template_areas": null,
      "grid_template_columns": null,
      "grid_template_rows": null,
      "height": null,
      "justify_content": null,
      "justify_items": null,
      "left": null,
      "margin": null,
      "max_height": null,
      "max_width": null,
      "min_height": null,
      "min_width": null,
      "object_fit": null,
      "object_position": null,
      "order": null,
      "overflow": null,
      "overflow_x": null,
      "overflow_y": null,
      "padding": null,
      "right": null,
      "top": null,
      "visibility": null,
      "width": null
     }
    },
    "7ea41018dcc0450f8afb26144ae31e47": {
     "model_module": "@jupyter-widgets/controls",
     "model_name": "HBoxModel",
     "state": {
      "_dom_classes": [],
      "_model_module": "@jupyter-widgets/controls",
      "_model_module_version": "1.5.0",
      "_model_name": "HBoxModel",
      "_view_count": null,
      "_view_module": "@jupyter-widgets/controls",
      "_view_module_version": "1.5.0",
      "_view_name": "HBoxView",
      "box_style": "",
      "children": [
       "IPY_MODEL_b19b5c8287b1486c941237fbb6e01409",
       "IPY_MODEL_12cbff3ec208492386923fde404f9ad7"
      ],
      "layout": "IPY_MODEL_bcdca1b7555546e790db618b912269e4"
     }
    },
    "826216063e4d4710a3dc528dc6dedd36": {
     "model_module": "@jupyter-widgets/base",
     "model_name": "LayoutModel",
     "state": {
      "_model_module": "@jupyter-widgets/base",
      "_model_module_version": "1.2.0",
      "_model_name": "LayoutModel",
      "_view_count": null,
      "_view_module": "@jupyter-widgets/base",
      "_view_module_version": "1.2.0",
      "_view_name": "LayoutView",
      "align_content": null,
      "align_items": null,
      "align_self": null,
      "border": null,
      "bottom": null,
      "display": null,
      "flex": null,
      "flex_flow": null,
      "grid_area": null,
      "grid_auto_columns": null,
      "grid_auto_flow": null,
      "grid_auto_rows": null,
      "grid_column": null,
      "grid_gap": null,
      "grid_row": null,
      "grid_template_areas": null,
      "grid_template_columns": null,
      "grid_template_rows": null,
      "height": null,
      "justify_content": null,
      "justify_items": null,
      "left": null,
      "margin": null,
      "max_height": null,
      "max_width": null,
      "min_height": null,
      "min_width": null,
      "object_fit": null,
      "object_position": null,
      "order": null,
      "overflow": null,
      "overflow_x": null,
      "overflow_y": null,
      "padding": null,
      "right": null,
      "top": null,
      "visibility": null,
      "width": null
     }
    },
    "8273cf6450b74045982a6bf20e4dc54a": {
     "model_module": "@jupyter-widgets/base",
     "model_name": "LayoutModel",
     "state": {
      "_model_module": "@jupyter-widgets/base",
      "_model_module_version": "1.2.0",
      "_model_name": "LayoutModel",
      "_view_count": null,
      "_view_module": "@jupyter-widgets/base",
      "_view_module_version": "1.2.0",
      "_view_name": "LayoutView",
      "align_content": null,
      "align_items": null,
      "align_self": null,
      "border": null,
      "bottom": null,
      "display": null,
      "flex": null,
      "flex_flow": null,
      "grid_area": null,
      "grid_auto_columns": null,
      "grid_auto_flow": null,
      "grid_auto_rows": null,
      "grid_column": null,
      "grid_gap": null,
      "grid_row": null,
      "grid_template_areas": null,
      "grid_template_columns": null,
      "grid_template_rows": null,
      "height": null,
      "justify_content": null,
      "justify_items": null,
      "left": null,
      "margin": null,
      "max_height": null,
      "max_width": null,
      "min_height": null,
      "min_width": null,
      "object_fit": null,
      "object_position": null,
      "order": null,
      "overflow": null,
      "overflow_x": null,
      "overflow_y": null,
      "padding": null,
      "right": null,
      "top": null,
      "visibility": null,
      "width": null
     }
    },
    "84c5bdf81ced465c896efaf61c959c75": {
     "model_module": "@jupyter-widgets/controls",
     "model_name": "HTMLModel",
     "state": {
      "_dom_classes": [],
      "_model_module": "@jupyter-widgets/controls",
      "_model_module_version": "1.5.0",
      "_model_name": "HTMLModel",
      "_view_count": null,
      "_view_module": "@jupyter-widgets/controls",
      "_view_module_version": "1.5.0",
      "_view_name": "HTMLView",
      "description": "",
      "description_tooltip": null,
      "layout": "IPY_MODEL_ac5f78d27cc04495872e8c85cabf852a",
      "placeholder": "​",
      "style": "IPY_MODEL_61ac3c4dae884aaf9f28b6e8774efe0f",
      "value": " 75000/75000 [1:02:58&lt;00:00, 19.85it/s]"
     }
    },
    "8615abfe47d64ad9a3455462a26b53e1": {
     "model_module": "@jupyter-widgets/controls",
     "model_name": "HTMLModel",
     "state": {
      "_dom_classes": [],
      "_model_module": "@jupyter-widgets/controls",
      "_model_module_version": "1.5.0",
      "_model_name": "HTMLModel",
      "_view_count": null,
      "_view_module": "@jupyter-widgets/controls",
      "_view_module_version": "1.5.0",
      "_view_name": "HTMLView",
      "description": "",
      "description_tooltip": null,
      "layout": "IPY_MODEL_a35d725c3f7e4674846b5295590e3c91",
      "placeholder": "​",
      "style": "IPY_MODEL_927a4f360da64ddeb237d85d92616309",
      "value": " 25000/25000 [16:24&lt;00:00, 25.39it/s]"
     }
    },
    "8a670cb9682649acb22cf4294cb041cc": {
     "model_module": "@jupyter-widgets/controls",
     "model_name": "HBoxModel",
     "state": {
      "_dom_classes": [],
      "_model_module": "@jupyter-widgets/controls",
      "_model_module_version": "1.5.0",
      "_model_name": "HBoxModel",
      "_view_count": null,
      "_view_module": "@jupyter-widgets/controls",
      "_view_module_version": "1.5.0",
      "_view_name": "HBoxView",
      "box_style": "",
      "children": [
       "IPY_MODEL_3f1f1d09c01f44d3b212dd98e4ffef68",
       "IPY_MODEL_e63f927412784e0e8219fe2a5654d48a"
      ],
      "layout": "IPY_MODEL_efdbf6fded9f4c88ba0dc7e9cab014d0"
     }
    },
    "91dce775051241ca81b12646a9202a5d": {
     "model_module": "@jupyter-widgets/controls",
     "model_name": "ProgressStyleModel",
     "state": {
      "_model_module": "@jupyter-widgets/controls",
      "_model_module_version": "1.5.0",
      "_model_name": "ProgressStyleModel",
      "_view_count": null,
      "_view_module": "@jupyter-widgets/base",
      "_view_module_version": "1.2.0",
      "_view_name": "StyleView",
      "bar_color": null,
      "description_width": "initial"
     }
    },
    "927a4f360da64ddeb237d85d92616309": {
     "model_module": "@jupyter-widgets/controls",
     "model_name": "DescriptionStyleModel",
     "state": {
      "_model_module": "@jupyter-widgets/controls",
      "_model_module_version": "1.5.0",
      "_model_name": "DescriptionStyleModel",
      "_view_count": null,
      "_view_module": "@jupyter-widgets/base",
      "_view_module_version": "1.2.0",
      "_view_name": "StyleView",
      "description_width": ""
     }
    },
    "99faf98de1fe4e558d6197a056f387c6": {
     "model_module": "@jupyter-widgets/controls",
     "model_name": "ProgressStyleModel",
     "state": {
      "_model_module": "@jupyter-widgets/controls",
      "_model_module_version": "1.5.0",
      "_model_name": "ProgressStyleModel",
      "_view_count": null,
      "_view_module": "@jupyter-widgets/base",
      "_view_module_version": "1.2.0",
      "_view_name": "StyleView",
      "bar_color": null,
      "description_width": "initial"
     }
    },
    "a35d725c3f7e4674846b5295590e3c91": {
     "model_module": "@jupyter-widgets/base",
     "model_name": "LayoutModel",
     "state": {
      "_model_module": "@jupyter-widgets/base",
      "_model_module_version": "1.2.0",
      "_model_name": "LayoutModel",
      "_view_count": null,
      "_view_module": "@jupyter-widgets/base",
      "_view_module_version": "1.2.0",
      "_view_name": "LayoutView",
      "align_content": null,
      "align_items": null,
      "align_self": null,
      "border": null,
      "bottom": null,
      "display": null,
      "flex": null,
      "flex_flow": null,
      "grid_area": null,
      "grid_auto_columns": null,
      "grid_auto_flow": null,
      "grid_auto_rows": null,
      "grid_column": null,
      "grid_gap": null,
      "grid_row": null,
      "grid_template_areas": null,
      "grid_template_columns": null,
      "grid_template_rows": null,
      "height": null,
      "justify_content": null,
      "justify_items": null,
      "left": null,
      "margin": null,
      "max_height": null,
      "max_width": null,
      "min_height": null,
      "min_width": null,
      "object_fit": null,
      "object_position": null,
      "order": null,
      "overflow": null,
      "overflow_x": null,
      "overflow_y": null,
      "padding": null,
      "right": null,
      "top": null,
      "visibility": null,
      "width": null
     }
    },
    "a477b9433c7d4b359533d5647e0d7d60": {
     "model_module": "@jupyter-widgets/controls",
     "model_name": "FloatProgressModel",
     "state": {
      "_dom_classes": [],
      "_model_module": "@jupyter-widgets/controls",
      "_model_module_version": "1.5.0",
      "_model_name": "FloatProgressModel",
      "_view_count": null,
      "_view_module": "@jupyter-widgets/controls",
      "_view_module_version": "1.5.0",
      "_view_name": "ProgressView",
      "bar_style": "success",
      "description": "100%",
      "description_tooltip": null,
      "layout": "IPY_MODEL_fb3a3e5e8d6b4ef6b8e167d7fc522f3a",
      "max": 25000,
      "min": 0,
      "orientation": "horizontal",
      "style": "IPY_MODEL_14c539ead3ed4089af080b64e5bf598e",
      "value": 25000
     }
    },
    "a571c69ddced4b6a899036df978bfa09": {
     "model_module": "@jupyter-widgets/base",
     "model_name": "LayoutModel",
     "state": {
      "_model_module": "@jupyter-widgets/base",
      "_model_module_version": "1.2.0",
      "_model_name": "LayoutModel",
      "_view_count": null,
      "_view_module": "@jupyter-widgets/base",
      "_view_module_version": "1.2.0",
      "_view_name": "LayoutView",
      "align_content": null,
      "align_items": null,
      "align_self": null,
      "border": null,
      "bottom": null,
      "display": null,
      "flex": null,
      "flex_flow": null,
      "grid_area": null,
      "grid_auto_columns": null,
      "grid_auto_flow": null,
      "grid_auto_rows": null,
      "grid_column": null,
      "grid_gap": null,
      "grid_row": null,
      "grid_template_areas": null,
      "grid_template_columns": null,
      "grid_template_rows": null,
      "height": null,
      "justify_content": null,
      "justify_items": null,
      "left": null,
      "margin": null,
      "max_height": null,
      "max_width": null,
      "min_height": null,
      "min_width": null,
      "object_fit": null,
      "object_position": null,
      "order": null,
      "overflow": null,
      "overflow_x": null,
      "overflow_y": null,
      "padding": null,
      "right": null,
      "top": null,
      "visibility": null,
      "width": null
     }
    },
    "ac5f78d27cc04495872e8c85cabf852a": {
     "model_module": "@jupyter-widgets/base",
     "model_name": "LayoutModel",
     "state": {
      "_model_module": "@jupyter-widgets/base",
      "_model_module_version": "1.2.0",
      "_model_name": "LayoutModel",
      "_view_count": null,
      "_view_module": "@jupyter-widgets/base",
      "_view_module_version": "1.2.0",
      "_view_name": "LayoutView",
      "align_content": null,
      "align_items": null,
      "align_self": null,
      "border": null,
      "bottom": null,
      "display": null,
      "flex": null,
      "flex_flow": null,
      "grid_area": null,
      "grid_auto_columns": null,
      "grid_auto_flow": null,
      "grid_auto_rows": null,
      "grid_column": null,
      "grid_gap": null,
      "grid_row": null,
      "grid_template_areas": null,
      "grid_template_columns": null,
      "grid_template_rows": null,
      "height": null,
      "justify_content": null,
      "justify_items": null,
      "left": null,
      "margin": null,
      "max_height": null,
      "max_width": null,
      "min_height": null,
      "min_width": null,
      "object_fit": null,
      "object_position": null,
      "order": null,
      "overflow": null,
      "overflow_x": null,
      "overflow_y": null,
      "padding": null,
      "right": null,
      "top": null,
      "visibility": null,
      "width": null
     }
    },
    "b19b5c8287b1486c941237fbb6e01409": {
     "model_module": "@jupyter-widgets/controls",
     "model_name": "FloatProgressModel",
     "state": {
      "_dom_classes": [],
      "_model_module": "@jupyter-widgets/controls",
      "_model_module_version": "1.5.0",
      "_model_name": "FloatProgressModel",
      "_view_count": null,
      "_view_module": "@jupyter-widgets/controls",
      "_view_module_version": "1.5.0",
      "_view_name": "ProgressView",
      "bar_style": "success",
      "description": "100%",
      "description_tooltip": null,
      "layout": "IPY_MODEL_040e9b20a3a54dce9f4ee94f1c5562bc",
      "max": 25000,
      "min": 0,
      "orientation": "horizontal",
      "style": "IPY_MODEL_1c5ee83fd0d84abab48664d521faffd7",
      "value": 25000
     }
    },
    "b5d5e02ab2b64c88a1c3f097072cbdf9": {
     "model_module": "@jupyter-widgets/controls",
     "model_name": "HBoxModel",
     "state": {
      "_dom_classes": [],
      "_model_module": "@jupyter-widgets/controls",
      "_model_module_version": "1.5.0",
      "_model_name": "HBoxModel",
      "_view_count": null,
      "_view_module": "@jupyter-widgets/controls",
      "_view_module_version": "1.5.0",
      "_view_name": "HBoxView",
      "box_style": "",
      "children": [
       "IPY_MODEL_48c8449fdea541718173f1097cb11d95",
       "IPY_MODEL_84c5bdf81ced465c896efaf61c959c75"
      ],
      "layout": "IPY_MODEL_de86966fa8ee406f8eedba01356f1add"
     }
    },
    "b5d79290a1d44a72a99c252a5e3b7ca2": {
     "model_module": "@jupyter-widgets/controls",
     "model_name": "HTMLModel",
     "state": {
      "_dom_classes": [],
      "_model_module": "@jupyter-widgets/controls",
      "_model_module_version": "1.5.0",
      "_model_name": "HTMLModel",
      "_view_count": null,
      "_view_module": "@jupyter-widgets/controls",
      "_view_module_version": "1.5.0",
      "_view_name": "HTMLView",
      "description": "",
      "description_tooltip": null,
      "layout": "IPY_MODEL_716bfa6def654b508f86919f21938e33",
      "placeholder": "​",
      "style": "IPY_MODEL_6c680dc872454685b0d093bf2e1e262e",
      "value": " 75000/75000 [1:40:06&lt;00:00, 12.49it/s]"
     }
    },
    "b822a4dd643a4f98b026b6e0882fe6c6": {
     "model_module": "@jupyter-widgets/controls",
     "model_name": "HTMLModel",
     "state": {
      "_dom_classes": [],
      "_model_module": "@jupyter-widgets/controls",
      "_model_module_version": "1.5.0",
      "_model_name": "HTMLModel",
      "_view_count": null,
      "_view_module": "@jupyter-widgets/controls",
      "_view_module_version": "1.5.0",
      "_view_name": "HTMLView",
      "description": "",
      "description_tooltip": null,
      "layout": "IPY_MODEL_13d55382453a455c930c485e228cf8a2",
      "placeholder": "​",
      "style": "IPY_MODEL_185909924f2e4e20b3aac3b9bf8cc542",
      "value": " 25000/25000 [41:35&lt;00:00, 10.02it/s]"
     }
    },
    "b9b668ab06554a67a3a65aca41b85411": {
     "model_module": "@jupyter-widgets/controls",
     "model_name": "HBoxModel",
     "state": {
      "_dom_classes": [],
      "_model_module": "@jupyter-widgets/controls",
      "_model_module_version": "1.5.0",
      "_model_name": "HBoxModel",
      "_view_count": null,
      "_view_module": "@jupyter-widgets/controls",
      "_view_module_version": "1.5.0",
      "_view_name": "HBoxView",
      "box_style": "",
      "children": [
       "IPY_MODEL_23b07e92c1ff490286f20da656abcf0b",
       "IPY_MODEL_0bf247258b3c4faa855676dcf64332c0"
      ],
      "layout": "IPY_MODEL_8273cf6450b74045982a6bf20e4dc54a"
     }
    },
    "ba1f4a68c71e4cbb87ec0d9ee0023ff1": {
     "model_module": "@jupyter-widgets/base",
     "model_name": "LayoutModel",
     "state": {
      "_model_module": "@jupyter-widgets/base",
      "_model_module_version": "1.2.0",
      "_model_name": "LayoutModel",
      "_view_count": null,
      "_view_module": "@jupyter-widgets/base",
      "_view_module_version": "1.2.0",
      "_view_name": "LayoutView",
      "align_content": null,
      "align_items": null,
      "align_self": null,
      "border": null,
      "bottom": null,
      "display": null,
      "flex": null,
      "flex_flow": null,
      "grid_area": null,
      "grid_auto_columns": null,
      "grid_auto_flow": null,
      "grid_auto_rows": null,
      "grid_column": null,
      "grid_gap": null,
      "grid_row": null,
      "grid_template_areas": null,
      "grid_template_columns": null,
      "grid_template_rows": null,
      "height": null,
      "justify_content": null,
      "justify_items": null,
      "left": null,
      "margin": null,
      "max_height": null,
      "max_width": null,
      "min_height": null,
      "min_width": null,
      "object_fit": null,
      "object_position": null,
      "order": null,
      "overflow": null,
      "overflow_x": null,
      "overflow_y": null,
      "padding": null,
      "right": null,
      "top": null,
      "visibility": null,
      "width": null
     }
    },
    "bcdca1b7555546e790db618b912269e4": {
     "model_module": "@jupyter-widgets/base",
     "model_name": "LayoutModel",
     "state": {
      "_model_module": "@jupyter-widgets/base",
      "_model_module_version": "1.2.0",
      "_model_name": "LayoutModel",
      "_view_count": null,
      "_view_module": "@jupyter-widgets/base",
      "_view_module_version": "1.2.0",
      "_view_name": "LayoutView",
      "align_content": null,
      "align_items": null,
      "align_self": null,
      "border": null,
      "bottom": null,
      "display": null,
      "flex": null,
      "flex_flow": null,
      "grid_area": null,
      "grid_auto_columns": null,
      "grid_auto_flow": null,
      "grid_auto_rows": null,
      "grid_column": null,
      "grid_gap": null,
      "grid_row": null,
      "grid_template_areas": null,
      "grid_template_columns": null,
      "grid_template_rows": null,
      "height": null,
      "justify_content": null,
      "justify_items": null,
      "left": null,
      "margin": null,
      "max_height": null,
      "max_width": null,
      "min_height": null,
      "min_width": null,
      "object_fit": null,
      "object_position": null,
      "order": null,
      "overflow": null,
      "overflow_x": null,
      "overflow_y": null,
      "padding": null,
      "right": null,
      "top": null,
      "visibility": null,
      "width": null
     }
    },
    "be394a9d28324538aeae9cfe3df6446b": {
     "model_module": "@jupyter-widgets/base",
     "model_name": "LayoutModel",
     "state": {
      "_model_module": "@jupyter-widgets/base",
      "_model_module_version": "1.2.0",
      "_model_name": "LayoutModel",
      "_view_count": null,
      "_view_module": "@jupyter-widgets/base",
      "_view_module_version": "1.2.0",
      "_view_name": "LayoutView",
      "align_content": null,
      "align_items": null,
      "align_self": null,
      "border": null,
      "bottom": null,
      "display": null,
      "flex": null,
      "flex_flow": null,
      "grid_area": null,
      "grid_auto_columns": null,
      "grid_auto_flow": null,
      "grid_auto_rows": null,
      "grid_column": null,
      "grid_gap": null,
      "grid_row": null,
      "grid_template_areas": null,
      "grid_template_columns": null,
      "grid_template_rows": null,
      "height": null,
      "justify_content": null,
      "justify_items": null,
      "left": null,
      "margin": null,
      "max_height": null,
      "max_width": null,
      "min_height": null,
      "min_width": null,
      "object_fit": null,
      "object_position": null,
      "order": null,
      "overflow": null,
      "overflow_x": null,
      "overflow_y": null,
      "padding": null,
      "right": null,
      "top": null,
      "visibility": null,
      "width": null
     }
    },
    "c04bf9c1595c4f5ab5ce9dc08417c6ef": {
     "model_module": "@jupyter-widgets/base",
     "model_name": "LayoutModel",
     "state": {
      "_model_module": "@jupyter-widgets/base",
      "_model_module_version": "1.2.0",
      "_model_name": "LayoutModel",
      "_view_count": null,
      "_view_module": "@jupyter-widgets/base",
      "_view_module_version": "1.2.0",
      "_view_name": "LayoutView",
      "align_content": null,
      "align_items": null,
      "align_self": null,
      "border": null,
      "bottom": null,
      "display": null,
      "flex": null,
      "flex_flow": null,
      "grid_area": null,
      "grid_auto_columns": null,
      "grid_auto_flow": null,
      "grid_auto_rows": null,
      "grid_column": null,
      "grid_gap": null,
      "grid_row": null,
      "grid_template_areas": null,
      "grid_template_columns": null,
      "grid_template_rows": null,
      "height": null,
      "justify_content": null,
      "justify_items": null,
      "left": null,
      "margin": null,
      "max_height": null,
      "max_width": null,
      "min_height": null,
      "min_width": null,
      "object_fit": null,
      "object_position": null,
      "order": null,
      "overflow": null,
      "overflow_x": null,
      "overflow_y": null,
      "padding": null,
      "right": null,
      "top": null,
      "visibility": null,
      "width": null
     }
    },
    "c1ad50bfafdf4f48a2992f3a26bbc404": {
     "model_module": "@jupyter-widgets/controls",
     "model_name": "ProgressStyleModel",
     "state": {
      "_model_module": "@jupyter-widgets/controls",
      "_model_module_version": "1.5.0",
      "_model_name": "ProgressStyleModel",
      "_view_count": null,
      "_view_module": "@jupyter-widgets/base",
      "_view_module_version": "1.2.0",
      "_view_name": "StyleView",
      "bar_color": null,
      "description_width": "initial"
     }
    },
    "c6904ef0f39a4e2b8733fd2f015a1880": {
     "model_module": "@jupyter-widgets/base",
     "model_name": "LayoutModel",
     "state": {
      "_model_module": "@jupyter-widgets/base",
      "_model_module_version": "1.2.0",
      "_model_name": "LayoutModel",
      "_view_count": null,
      "_view_module": "@jupyter-widgets/base",
      "_view_module_version": "1.2.0",
      "_view_name": "LayoutView",
      "align_content": null,
      "align_items": null,
      "align_self": null,
      "border": null,
      "bottom": null,
      "display": null,
      "flex": null,
      "flex_flow": null,
      "grid_area": null,
      "grid_auto_columns": null,
      "grid_auto_flow": null,
      "grid_auto_rows": null,
      "grid_column": null,
      "grid_gap": null,
      "grid_row": null,
      "grid_template_areas": null,
      "grid_template_columns": null,
      "grid_template_rows": null,
      "height": null,
      "justify_content": null,
      "justify_items": null,
      "left": null,
      "margin": null,
      "max_height": null,
      "max_width": null,
      "min_height": null,
      "min_width": null,
      "object_fit": null,
      "object_position": null,
      "order": null,
      "overflow": null,
      "overflow_x": null,
      "overflow_y": null,
      "padding": null,
      "right": null,
      "top": null,
      "visibility": null,
      "width": null
     }
    },
    "c7c0e2a6a39a4d66adf8b57652f8b762": {
     "model_module": "@jupyter-widgets/controls",
     "model_name": "FloatProgressModel",
     "state": {
      "_dom_classes": [],
      "_model_module": "@jupyter-widgets/controls",
      "_model_module_version": "1.5.0",
      "_model_name": "FloatProgressModel",
      "_view_count": null,
      "_view_module": "@jupyter-widgets/controls",
      "_view_module_version": "1.5.0",
      "_view_name": "ProgressView",
      "bar_style": "success",
      "description": "100%",
      "description_tooltip": null,
      "layout": "IPY_MODEL_5fd0b8d6bf0c43e99c357c0701d4cc0c",
      "max": 25000,
      "min": 0,
      "orientation": "horizontal",
      "style": "IPY_MODEL_3d6a81ef5c0742719b21c2f47332a043",
      "value": 25000
     }
    },
    "d01d09d3f6db4808ab3bf45f3a0936a8": {
     "model_module": "@jupyter-widgets/controls",
     "model_name": "HBoxModel",
     "state": {
      "_dom_classes": [],
      "_model_module": "@jupyter-widgets/controls",
      "_model_module_version": "1.5.0",
      "_model_name": "HBoxModel",
      "_view_count": null,
      "_view_module": "@jupyter-widgets/controls",
      "_view_module_version": "1.5.0",
      "_view_name": "HBoxView",
      "box_style": "",
      "children": [
       "IPY_MODEL_32928e3b19174485bfab02dbb199e2ba",
       "IPY_MODEL_b5d79290a1d44a72a99c252a5e3b7ca2"
      ],
      "layout": "IPY_MODEL_4983eee2b20a42dd973db6b6510f0057"
     }
    },
    "d33189f4110d483695ddc9a1e50566e9": {
     "model_module": "@jupyter-widgets/controls",
     "model_name": "FloatProgressModel",
     "state": {
      "_dom_classes": [],
      "_model_module": "@jupyter-widgets/controls",
      "_model_module_version": "1.5.0",
      "_model_name": "FloatProgressModel",
      "_view_count": null,
      "_view_module": "@jupyter-widgets/controls",
      "_view_module_version": "1.5.0",
      "_view_name": "ProgressView",
      "bar_style": "success",
      "description": "100%",
      "description_tooltip": null,
      "layout": "IPY_MODEL_7e3992db15034dd9a89618f6f0f1ec37",
      "max": 10,
      "min": 0,
      "orientation": "horizontal",
      "style": "IPY_MODEL_e901f0a99bd64378aa6800c441abdaca",
      "value": 10
     }
    },
    "d461282128754aa8a2a53e2cadb54374": {
     "model_module": "@jupyter-widgets/controls",
     "model_name": "ProgressStyleModel",
     "state": {
      "_model_module": "@jupyter-widgets/controls",
      "_model_module_version": "1.5.0",
      "_model_name": "ProgressStyleModel",
      "_view_count": null,
      "_view_module": "@jupyter-widgets/base",
      "_view_module_version": "1.2.0",
      "_view_name": "StyleView",
      "bar_color": null,
      "description_width": "initial"
     }
    },
    "d53f86a51a304fdc90b711b6747c05d3": {
     "model_module": "@jupyter-widgets/base",
     "model_name": "LayoutModel",
     "state": {
      "_model_module": "@jupyter-widgets/base",
      "_model_module_version": "1.2.0",
      "_model_name": "LayoutModel",
      "_view_count": null,
      "_view_module": "@jupyter-widgets/base",
      "_view_module_version": "1.2.0",
      "_view_name": "LayoutView",
      "align_content": null,
      "align_items": null,
      "align_self": null,
      "border": null,
      "bottom": null,
      "display": null,
      "flex": null,
      "flex_flow": null,
      "grid_area": null,
      "grid_auto_columns": null,
      "grid_auto_flow": null,
      "grid_auto_rows": null,
      "grid_column": null,
      "grid_gap": null,
      "grid_row": null,
      "grid_template_areas": null,
      "grid_template_columns": null,
      "grid_template_rows": null,
      "height": null,
      "justify_content": null,
      "justify_items": null,
      "left": null,
      "margin": null,
      "max_height": null,
      "max_width": null,
      "min_height": null,
      "min_width": null,
      "object_fit": null,
      "object_position": null,
      "order": null,
      "overflow": null,
      "overflow_x": null,
      "overflow_y": null,
      "padding": null,
      "right": null,
      "top": null,
      "visibility": null,
      "width": null
     }
    },
    "d8f7993737724ba7af84295e96672842": {
     "model_module": "@jupyter-widgets/controls",
     "model_name": "FloatProgressModel",
     "state": {
      "_dom_classes": [],
      "_model_module": "@jupyter-widgets/controls",
      "_model_module_version": "1.5.0",
      "_model_name": "FloatProgressModel",
      "_view_count": null,
      "_view_module": "@jupyter-widgets/controls",
      "_view_module_version": "1.5.0",
      "_view_name": "ProgressView",
      "bar_style": "success",
      "description": "100%",
      "description_tooltip": null,
      "layout": "IPY_MODEL_a571c69ddced4b6a899036df978bfa09",
      "max": 25000,
      "min": 0,
      "orientation": "horizontal",
      "style": "IPY_MODEL_91dce775051241ca81b12646a9202a5d",
      "value": 25000
     }
    },
    "de40ad8c760f4e6cafdf95dc9469dd70": {
     "model_module": "@jupyter-widgets/controls",
     "model_name": "HBoxModel",
     "state": {
      "_dom_classes": [],
      "_model_module": "@jupyter-widgets/controls",
      "_model_module_version": "1.5.0",
      "_model_name": "HBoxModel",
      "_view_count": null,
      "_view_module": "@jupyter-widgets/controls",
      "_view_module_version": "1.5.0",
      "_view_name": "HBoxView",
      "box_style": "",
      "children": [
       "IPY_MODEL_fd56f9e7ca414c11b95fecd2721d82ac",
       "IPY_MODEL_b822a4dd643a4f98b026b6e0882fe6c6"
      ],
      "layout": "IPY_MODEL_be394a9d28324538aeae9cfe3df6446b"
     }
    },
    "de4190331b41456ca6c94d640634fdde": {
     "model_module": "@jupyter-widgets/controls",
     "model_name": "ProgressStyleModel",
     "state": {
      "_model_module": "@jupyter-widgets/controls",
      "_model_module_version": "1.5.0",
      "_model_name": "ProgressStyleModel",
      "_view_count": null,
      "_view_module": "@jupyter-widgets/base",
      "_view_module_version": "1.2.0",
      "_view_name": "StyleView",
      "bar_color": null,
      "description_width": "initial"
     }
    },
    "de86966fa8ee406f8eedba01356f1add": {
     "model_module": "@jupyter-widgets/base",
     "model_name": "LayoutModel",
     "state": {
      "_model_module": "@jupyter-widgets/base",
      "_model_module_version": "1.2.0",
      "_model_name": "LayoutModel",
      "_view_count": null,
      "_view_module": "@jupyter-widgets/base",
      "_view_module_version": "1.2.0",
      "_view_name": "LayoutView",
      "align_content": null,
      "align_items": null,
      "align_self": null,
      "border": null,
      "bottom": null,
      "display": null,
      "flex": null,
      "flex_flow": null,
      "grid_area": null,
      "grid_auto_columns": null,
      "grid_auto_flow": null,
      "grid_auto_rows": null,
      "grid_column": null,
      "grid_gap": null,
      "grid_row": null,
      "grid_template_areas": null,
      "grid_template_columns": null,
      "grid_template_rows": null,
      "height": null,
      "justify_content": null,
      "justify_items": null,
      "left": null,
      "margin": null,
      "max_height": null,
      "max_width": null,
      "min_height": null,
      "min_width": null,
      "object_fit": null,
      "object_position": null,
      "order": null,
      "overflow": null,
      "overflow_x": null,
      "overflow_y": null,
      "padding": null,
      "right": null,
      "top": null,
      "visibility": null,
      "width": null
     }
    },
    "e5febcab09d04260818161f2f0919e85": {
     "model_module": "@jupyter-widgets/controls",
     "model_name": "DescriptionStyleModel",
     "state": {
      "_model_module": "@jupyter-widgets/controls",
      "_model_module_version": "1.5.0",
      "_model_name": "DescriptionStyleModel",
      "_view_count": null,
      "_view_module": "@jupyter-widgets/base",
      "_view_module_version": "1.2.0",
      "_view_name": "StyleView",
      "description_width": ""
     }
    },
    "e63f927412784e0e8219fe2a5654d48a": {
     "model_module": "@jupyter-widgets/controls",
     "model_name": "HTMLModel",
     "state": {
      "_dom_classes": [],
      "_model_module": "@jupyter-widgets/controls",
      "_model_module_version": "1.5.0",
      "_model_name": "HTMLModel",
      "_view_count": null,
      "_view_module": "@jupyter-widgets/controls",
      "_view_module_version": "1.5.0",
      "_view_name": "HTMLView",
      "description": "",
      "description_tooltip": null,
      "layout": "IPY_MODEL_effe4377049f49f8ae2db14896e7d7b4",
      "placeholder": "​",
      "style": "IPY_MODEL_296e404d881a461e9d9f05ea2772bd98",
      "value": " 75000/75000 [38:30&lt;00:00, 32.46it/s]"
     }
    },
    "e901f0a99bd64378aa6800c441abdaca": {
     "model_module": "@jupyter-widgets/controls",
     "model_name": "ProgressStyleModel",
     "state": {
      "_model_module": "@jupyter-widgets/controls",
      "_model_module_version": "1.5.0",
      "_model_name": "ProgressStyleModel",
      "_view_count": null,
      "_view_module": "@jupyter-widgets/base",
      "_view_module_version": "1.2.0",
      "_view_name": "StyleView",
      "bar_color": null,
      "description_width": "initial"
     }
    },
    "ea3d1fb3084b45b897b813871d0b1176": {
     "model_module": "@jupyter-widgets/base",
     "model_name": "LayoutModel",
     "state": {
      "_model_module": "@jupyter-widgets/base",
      "_model_module_version": "1.2.0",
      "_model_name": "LayoutModel",
      "_view_count": null,
      "_view_module": "@jupyter-widgets/base",
      "_view_module_version": "1.2.0",
      "_view_name": "LayoutView",
      "align_content": null,
      "align_items": null,
      "align_self": null,
      "border": null,
      "bottom": null,
      "display": null,
      "flex": null,
      "flex_flow": null,
      "grid_area": null,
      "grid_auto_columns": null,
      "grid_auto_flow": null,
      "grid_auto_rows": null,
      "grid_column": null,
      "grid_gap": null,
      "grid_row": null,
      "grid_template_areas": null,
      "grid_template_columns": null,
      "grid_template_rows": null,
      "height": null,
      "justify_content": null,
      "justify_items": null,
      "left": null,
      "margin": null,
      "max_height": null,
      "max_width": null,
      "min_height": null,
      "min_width": null,
      "object_fit": null,
      "object_position": null,
      "order": null,
      "overflow": null,
      "overflow_x": null,
      "overflow_y": null,
      "padding": null,
      "right": null,
      "top": null,
      "visibility": null,
      "width": null
     }
    },
    "ed2e3b60f7ab457fb76a75263559bbd7": {
     "model_module": "@jupyter-widgets/controls",
     "model_name": "DescriptionStyleModel",
     "state": {
      "_model_module": "@jupyter-widgets/controls",
      "_model_module_version": "1.5.0",
      "_model_name": "DescriptionStyleModel",
      "_view_count": null,
      "_view_module": "@jupyter-widgets/base",
      "_view_module_version": "1.2.0",
      "_view_name": "StyleView",
      "description_width": ""
     }
    },
    "efdbf6fded9f4c88ba0dc7e9cab014d0": {
     "model_module": "@jupyter-widgets/base",
     "model_name": "LayoutModel",
     "state": {
      "_model_module": "@jupyter-widgets/base",
      "_model_module_version": "1.2.0",
      "_model_name": "LayoutModel",
      "_view_count": null,
      "_view_module": "@jupyter-widgets/base",
      "_view_module_version": "1.2.0",
      "_view_name": "LayoutView",
      "align_content": null,
      "align_items": null,
      "align_self": null,
      "border": null,
      "bottom": null,
      "display": null,
      "flex": null,
      "flex_flow": null,
      "grid_area": null,
      "grid_auto_columns": null,
      "grid_auto_flow": null,
      "grid_auto_rows": null,
      "grid_column": null,
      "grid_gap": null,
      "grid_row": null,
      "grid_template_areas": null,
      "grid_template_columns": null,
      "grid_template_rows": null,
      "height": null,
      "justify_content": null,
      "justify_items": null,
      "left": null,
      "margin": null,
      "max_height": null,
      "max_width": null,
      "min_height": null,
      "min_width": null,
      "object_fit": null,
      "object_position": null,
      "order": null,
      "overflow": null,
      "overflow_x": null,
      "overflow_y": null,
      "padding": null,
      "right": null,
      "top": null,
      "visibility": null,
      "width": null
     }
    },
    "effe4377049f49f8ae2db14896e7d7b4": {
     "model_module": "@jupyter-widgets/base",
     "model_name": "LayoutModel",
     "state": {
      "_model_module": "@jupyter-widgets/base",
      "_model_module_version": "1.2.0",
      "_model_name": "LayoutModel",
      "_view_count": null,
      "_view_module": "@jupyter-widgets/base",
      "_view_module_version": "1.2.0",
      "_view_name": "LayoutView",
      "align_content": null,
      "align_items": null,
      "align_self": null,
      "border": null,
      "bottom": null,
      "display": null,
      "flex": null,
      "flex_flow": null,
      "grid_area": null,
      "grid_auto_columns": null,
      "grid_auto_flow": null,
      "grid_auto_rows": null,
      "grid_column": null,
      "grid_gap": null,
      "grid_row": null,
      "grid_template_areas": null,
      "grid_template_columns": null,
      "grid_template_rows": null,
      "height": null,
      "justify_content": null,
      "justify_items": null,
      "left": null,
      "margin": null,
      "max_height": null,
      "max_width": null,
      "min_height": null,
      "min_width": null,
      "object_fit": null,
      "object_position": null,
      "order": null,
      "overflow": null,
      "overflow_x": null,
      "overflow_y": null,
      "padding": null,
      "right": null,
      "top": null,
      "visibility": null,
      "width": null
     }
    },
    "fa017c676ba8401ba03e1b333fac7345": {
     "model_module": "@jupyter-widgets/controls",
     "model_name": "HBoxModel",
     "state": {
      "_dom_classes": [],
      "_model_module": "@jupyter-widgets/controls",
      "_model_module_version": "1.5.0",
      "_model_name": "HBoxModel",
      "_view_count": null,
      "_view_module": "@jupyter-widgets/controls",
      "_view_module_version": "1.5.0",
      "_view_name": "HBoxView",
      "box_style": "",
      "children": [
       "IPY_MODEL_d33189f4110d483695ddc9a1e50566e9",
       "IPY_MODEL_291c061003e541ca83442bccb63aba03"
      ],
      "layout": "IPY_MODEL_59e5807e57f34b1eb6037368055b13d4"
     }
    },
    "fb3a3e5e8d6b4ef6b8e167d7fc522f3a": {
     "model_module": "@jupyter-widgets/base",
     "model_name": "LayoutModel",
     "state": {
      "_model_module": "@jupyter-widgets/base",
      "_model_module_version": "1.2.0",
      "_model_name": "LayoutModel",
      "_view_count": null,
      "_view_module": "@jupyter-widgets/base",
      "_view_module_version": "1.2.0",
      "_view_name": "LayoutView",
      "align_content": null,
      "align_items": null,
      "align_self": null,
      "border": null,
      "bottom": null,
      "display": null,
      "flex": null,
      "flex_flow": null,
      "grid_area": null,
      "grid_auto_columns": null,
      "grid_auto_flow": null,
      "grid_auto_rows": null,
      "grid_column": null,
      "grid_gap": null,
      "grid_row": null,
      "grid_template_areas": null,
      "grid_template_columns": null,
      "grid_template_rows": null,
      "height": null,
      "justify_content": null,
      "justify_items": null,
      "left": null,
      "margin": null,
      "max_height": null,
      "max_width": null,
      "min_height": null,
      "min_width": null,
      "object_fit": null,
      "object_position": null,
      "order": null,
      "overflow": null,
      "overflow_x": null,
      "overflow_y": null,
      "padding": null,
      "right": null,
      "top": null,
      "visibility": null,
      "width": null
     }
    },
    "fbd2985d516f479bb45cc53d41412b57": {
     "model_module": "@jupyter-widgets/base",
     "model_name": "LayoutModel",
     "state": {
      "_model_module": "@jupyter-widgets/base",
      "_model_module_version": "1.2.0",
      "_model_name": "LayoutModel",
      "_view_count": null,
      "_view_module": "@jupyter-widgets/base",
      "_view_module_version": "1.2.0",
      "_view_name": "LayoutView",
      "align_content": null,
      "align_items": null,
      "align_self": null,
      "border": null,
      "bottom": null,
      "display": null,
      "flex": null,
      "flex_flow": null,
      "grid_area": null,
      "grid_auto_columns": null,
      "grid_auto_flow": null,
      "grid_auto_rows": null,
      "grid_column": null,
      "grid_gap": null,
      "grid_row": null,
      "grid_template_areas": null,
      "grid_template_columns": null,
      "grid_template_rows": null,
      "height": null,
      "justify_content": null,
      "justify_items": null,
      "left": null,
      "margin": null,
      "max_height": null,
      "max_width": null,
      "min_height": null,
      "min_width": null,
      "object_fit": null,
      "object_position": null,
      "order": null,
      "overflow": null,
      "overflow_x": null,
      "overflow_y": null,
      "padding": null,
      "right": null,
      "top": null,
      "visibility": null,
      "width": null
     }
    },
    "fc69224105c145368ed199860e22d6bd": {
     "model_module": "@jupyter-widgets/controls",
     "model_name": "HBoxModel",
     "state": {
      "_dom_classes": [],
      "_model_module": "@jupyter-widgets/controls",
      "_model_module_version": "1.5.0",
      "_model_name": "HBoxModel",
      "_view_count": null,
      "_view_module": "@jupyter-widgets/controls",
      "_view_module_version": "1.5.0",
      "_view_name": "HBoxView",
      "box_style": "",
      "children": [
       "IPY_MODEL_c7c0e2a6a39a4d66adf8b57652f8b762",
       "IPY_MODEL_2bbebc7946614dd5add1e1fcf5ffc4a5"
      ],
      "layout": "IPY_MODEL_0cec5273a45d435988a8895f489bdde8"
     }
    },
    "fd56f9e7ca414c11b95fecd2721d82ac": {
     "model_module": "@jupyter-widgets/controls",
     "model_name": "FloatProgressModel",
     "state": {
      "_dom_classes": [],
      "_model_module": "@jupyter-widgets/controls",
      "_model_module_version": "1.5.0",
      "_model_name": "FloatProgressModel",
      "_view_count": null,
      "_view_module": "@jupyter-widgets/controls",
      "_view_module_version": "1.5.0",
      "_view_name": "ProgressView",
      "bar_style": "success",
      "description": "100%",
      "description_tooltip": null,
      "layout": "IPY_MODEL_ea3d1fb3084b45b897b813871d0b1176",
      "max": 25000,
      "min": 0,
      "orientation": "horizontal",
      "style": "IPY_MODEL_656b56edf34a4baaabe3ac7eceba10a3",
      "value": 25000
     }
    },
    "fe210776e6be460ab222129b33f3e309": {
     "model_module": "@jupyter-widgets/controls",
     "model_name": "HBoxModel",
     "state": {
      "_dom_classes": [],
      "_model_module": "@jupyter-widgets/controls",
      "_model_module_version": "1.5.0",
      "_model_name": "HBoxModel",
      "_view_count": null,
      "_view_module": "@jupyter-widgets/controls",
      "_view_module_version": "1.5.0",
      "_view_name": "HBoxView",
      "box_style": "",
      "children": [
       "IPY_MODEL_d8f7993737724ba7af84295e96672842",
       "IPY_MODEL_110dceb759064799a2a3afd5378ac1e1"
      ],
      "layout": "IPY_MODEL_08995d87e02a4c4f9b68a5d17307f802"
     }
    },
    "ff767efa96134e0f8c030a30311f11f6": {
     "model_module": "@jupyter-widgets/controls",
     "model_name": "HTMLModel",
     "state": {
      "_dom_classes": [],
      "_model_module": "@jupyter-widgets/controls",
      "_model_module_version": "1.5.0",
      "_model_name": "HTMLModel",
      "_view_count": null,
      "_view_module": "@jupyter-widgets/controls",
      "_view_module_version": "1.5.0",
      "_view_name": "HTMLView",
      "description": "",
      "description_tooltip": null,
      "layout": "IPY_MODEL_d53f86a51a304fdc90b711b6747c05d3",
      "placeholder": "​",
      "style": "IPY_MODEL_3316197fe592467d887a34b9ed8205d3",
      "value": " 25000/25000 [12:23&lt;00:00, 33.61it/s]"
     }
    }
   }
  }
 },
 "nbformat": 4,
 "nbformat_minor": 1
}
