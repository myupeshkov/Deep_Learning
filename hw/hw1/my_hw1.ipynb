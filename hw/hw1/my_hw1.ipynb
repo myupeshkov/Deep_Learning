{
 "cells": [
  {
   "cell_type": "markdown",
   "metadata": {
    "id": "IGRluia1FPH1"
   },
   "source": [
    "## Домашнее задание №1\n",
    "\n",
    "*работу выполнил* **Пешков Максим** \n",
    "\n",
    "группа: **ИАД-4**\n",
    "\n",
    "В этом домашнем задании вы познакомитесь с pytorch сами и сможете попрактиковаться в его применении. \n",
    "\n",
    "#### План:\n",
    "\n",
    "1. Простейшие операции в pytorch\n",
    "2. Пишем Adam и применяем его к ручной модели\n",
    "3. Обучаем свою первую нейросеть"
   ]
  },
  {
   "cell_type": "code",
   "execution_count": 1,
   "metadata": {
    "id": "2l8NcCmCFPH2"
   },
   "outputs": [],
   "source": [
    "import os\n",
    "import sys\n",
    "import math\n",
    "import torch\n",
    "import random\n",
    "import numpy as np\n",
    "from tqdm import tqdm\n",
    "import torch.nn.functional as F\n",
    "import torch.nn as nn\n",
    "import matplotlib.pyplot as plt\n",
    "import torchvision\n",
    "import torchvision.transforms as transforms\n",
    "%matplotlib inline\n",
    "device = 'cuda'"
   ]
  },
  {
   "cell_type": "code",
   "execution_count": 2,
   "metadata": {
    "colab": {
     "base_uri": "https://localhost:8080/",
     "height": 34
    },
    "id": "JsnjTZEk2LuY",
    "outputId": "02fc0515-8a25-4ad8-8b53-56776f01e52f"
   },
   "outputs": [
    {
     "data": {
      "text/plain": [
       "True"
      ]
     },
     "execution_count": 2,
     "metadata": {
      "tags": []
     },
     "output_type": "execute_result"
    }
   ],
   "source": [
    "torch.cuda.is_available()"
   ]
  },
  {
   "cell_type": "markdown",
   "metadata": {
    "id": "z2LRLmWkFPH6"
   },
   "source": [
    "### Простейшие операции на pytorch (2 балла)"
   ]
  },
  {
   "cell_type": "markdown",
   "metadata": {
    "id": "kj0IJ-uyFPH7"
   },
   "source": [
    "**Task**: Cоздайте два случайных тензора (двумерных, не квадратных):"
   ]
  },
  {
   "cell_type": "code",
   "execution_count": 3,
   "metadata": {
    "id": "v1k14TAeFPH7"
   },
   "outputs": [],
   "source": [
    "x = torch.rand(2,3)\n",
    "y = torch.rand(2,3) "
   ]
  },
  {
   "cell_type": "code",
   "execution_count": 4,
   "metadata": {
    "colab": {
     "base_uri": "https://localhost:8080/",
     "height": 51
    },
    "id": "dwtlJn7fLhHI",
    "outputId": "36de27e3-f77b-4f19-9633-be77d9ae758d"
   },
   "outputs": [
    {
     "data": {
      "text/plain": [
       "tensor([[0.5870, 0.8196, 0.2010],\n",
       "        [0.8107, 0.6747, 0.5769]])"
      ]
     },
     "execution_count": 4,
     "metadata": {
      "tags": []
     },
     "output_type": "execute_result"
    }
   ],
   "source": [
    "x"
   ]
  },
  {
   "cell_type": "code",
   "execution_count": 5,
   "metadata": {
    "colab": {
     "base_uri": "https://localhost:8080/",
     "height": 51
    },
    "id": "K3pdV1_sLpVV",
    "outputId": "ebf83756-4e38-459d-cc14-cbd3d2f93f84"
   },
   "outputs": [
    {
     "data": {
      "text/plain": [
       "tensor([[0.3540, 0.4849, 0.7522],\n",
       "        [0.3919, 0.0864, 0.5251]])"
      ]
     },
     "execution_count": 5,
     "metadata": {
      "tags": []
     },
     "output_type": "execute_result"
    }
   ],
   "source": [
    "y"
   ]
  },
  {
   "cell_type": "markdown",
   "metadata": {
    "id": "4_76_mJeFPID"
   },
   "source": [
    "**Task**: Умножьте их друг на друга, результат запишите в третий тензор без использования оператора `=`, для создания третьего тензора предлагается использовать `torch.empty`:"
   ]
  },
  {
   "cell_type": "code",
   "execution_count": 6,
   "metadata": {
    "colab": {
     "base_uri": "https://localhost:8080/",
     "height": 51
    },
    "id": "yI1BRVOyFPIE",
    "outputId": "e81da16a-183c-43df-b374-8aa4582dd95b"
   },
   "outputs": [
    {
     "data": {
      "text/plain": [
       "tensor([[0.7565, 0.4064],\n",
       "        [1.0482, 0.6790]])"
      ]
     },
     "execution_count": 6,
     "metadata": {
      "tags": []
     },
     "output_type": "execute_result"
    }
   ],
   "source": [
    "torch.empty(2,2, out=x.mm(y.t()))"
   ]
  },
  {
   "cell_type": "markdown",
   "metadata": {
    "id": "xgajRwUYFPII"
   },
   "source": [
    "**Task**: Реализуйте ReLU использую только pytorch, примените его к тензору `x` (запрещено использование модулей torch.nn и его подмодулей, а также функции torch.relu)"
   ]
  },
  {
   "cell_type": "code",
   "execution_count": 7,
   "metadata": {
    "id": "k7mEmsuDFPIJ"
   },
   "outputs": [],
   "source": [
    "def relu_forward(x):\n",
    "    return torch.max(x,torch.zeros_like(x))\n",
    "\n",
    "assert torch.all(F.relu(x) == relu_forward(x))"
   ]
  },
  {
   "cell_type": "markdown",
   "metadata": {
    "id": "fgJHHKtoFPIS"
   },
   "source": [
    "**Task**: Сделайте тоже самое c ELU (запрещено использование модулей torch.nn и его подмодулей):"
   ]
  },
  {
   "cell_type": "code",
   "execution_count": 8,
   "metadata": {
    "id": "DyX8Qtp4FPIS"
   },
   "outputs": [],
   "source": [
    "def elu_forward(x, alpha=1):\n",
    "    return torch.max(x,torch.zeros_like(x)) + torch.min(alpha * (torch.exp(x) - torch.ones_like(x)),torch.zeros_like(x))\n",
    "\n",
    "assert torch.allclose(\n",
    "    F.elu(x),\n",
    "    elu_forward(x), \n",
    "    1e-4\n",
    ")"
   ]
  },
  {
   "cell_type": "markdown",
   "metadata": {
    "id": "pZTWeI3lFPIX"
   },
   "source": [
    "**Task**: LeakyReLU (запрещено использование модулей torch.nn и его подмодулей):"
   ]
  },
  {
   "cell_type": "code",
   "execution_count": 9,
   "metadata": {
    "id": "-u6KPmtNFPIY"
   },
   "outputs": [],
   "source": [
    "def lrelu_forward(x, alpha=0.01):\n",
    "    return torch.max(x,torch.zeros_like(x)) + alpha * torch.min(x,torch.zeros_like(x))\n",
    "\n",
    "assert torch.all(F.leaky_relu(x, 0.01) == lrelu_forward(x, 0.01))"
   ]
  },
  {
   "cell_type": "markdown",
   "metadata": {
    "id": "43V-MR0YFPId"
   },
   "source": [
    "**Task**: Теперь перейдем к немного более современным функциям активаций, например Mish, напомним как она выглядит:\n",
    "\n",
    "$$x * tanh(ln(1+e^x))$$\n",
    "\n",
    "(запрещено использование модулей torch.nn и его подмодулей)"
   ]
  },
  {
   "cell_type": "code",
   "execution_count": 10,
   "metadata": {
    "id": "TKLz9J42FPId"
   },
   "outputs": [],
   "source": [
    "def mish(x):\n",
    "    return x * torch.tanh(torch.log(1+torch.exp(x)))"
   ]
  },
  {
   "cell_type": "code",
   "execution_count": 11,
   "metadata": {
    "id": "Z9Ufka4VFPIh"
   },
   "outputs": [],
   "source": [
    "assert torch.allclose(\n",
    "    mish(torch.tensor([1, 1, 1], dtype=torch.float32)), \n",
    "    torch.tensor([0.8651, 0.8651, 0.8651]), \n",
    "    atol=1e-4\n",
    ")\n",
    "\n",
    "assert torch.allclose(\n",
    "    mish(torch.tensor([0.6376, 0.4021, 0.6656, 0.3726], dtype=torch.float64)), \n",
    "    torch.tensor([0.5014, 0.2908, 0.5280, 0.2663], dtype=torch.float64), \n",
    "    atol=1e-4\n",
    ")"
   ]
  },
  {
   "cell_type": "markdown",
   "metadata": {
    "id": "HtWvta4eFPIk"
   },
   "source": [
    "**Task**: Теперь реализуем swish, напомним как она выглядит:\n",
    "\n",
    "$$x * \\sigma(x)$$\n",
    "\n",
    "(запрещено использование модулей torch.nn и его подмодулей)"
   ]
  },
  {
   "cell_type": "code",
   "execution_count": 12,
   "metadata": {
    "id": "xksVAfaLFPIk"
   },
   "outputs": [],
   "source": [
    "def swish(x):\n",
    "    return x * torch.sigmoid(x)"
   ]
  },
  {
   "cell_type": "code",
   "execution_count": 13,
   "metadata": {
    "id": "-Eo8kFcSFPIn"
   },
   "outputs": [],
   "source": [
    "assert torch.allclose(\n",
    "    swish(torch.tensor([1, 1, 1], dtype=torch.float32)), \n",
    "    torch.tensor([0.7311, 0.7311, 0.7311]), \n",
    "    atol=1e-4\n",
    ")\n",
    "\n",
    "assert torch.allclose(\n",
    "    swish(torch.tensor([0.6376, 0.4021, 0.6656, 0.3726], dtype=torch.float64)), \n",
    "    torch.tensor([0.4171, 0.2409, 0.4396, 0.2206], dtype=torch.float64), \n",
    "    atol=1e-4\n",
    ")"
   ]
  },
  {
   "cell_type": "markdown",
   "metadata": {
    "id": "govXDMLEFPIq"
   },
   "source": [
    "### Пишем Adam и применяем его к логистической регрессии (4 балла)\n",
    "\n",
    "\n",
    "В данной секции вам нужно сделать две вещи: \n",
    "\n",
    "1. Написать свой собственный оптимизатор подобно тому, который мы писали на семинаре\n",
    "2. Обучить логистическую регрессию побатчево на картинках из датасета \n",
    "\n",
    "\n",
    "#### Adam\n",
    "\n",
    "\n",
    "$$\n",
    "\\begin{eqnarray}\n",
    "g &=& \\frac{1}{m}\\nabla_w \\sum_i L(f(x_{i};w), y_{i}) \\\\\n",
    "m &=& \\beta_1 m + (1 - \\beta_1) g \\\\\n",
    "v &=& \\beta_2 v + (1 - \\beta_2) diag(gg^{T}) \\\\\n",
    "\\hat{m} &=& \\frac{m}{1 - \\beta_1^{t}} \\\\\n",
    "\\hat{v} &=& \\frac{v}{1 - \\beta_2^{t}} \\\\\n",
    "w &=& w - \\frac{\\eta}{\\sqrt{\\hat{v} + \\epsilon}} \\odot \\hat{m}\n",
    "\\end{eqnarray}\n",
    "$$"
   ]
  },
  {
   "cell_type": "code",
   "execution_count": 14,
   "metadata": {
    "id": "cRtgVuzzFPIr"
   },
   "outputs": [],
   "source": [
    "# абстрактный класс, не обращайте внимания\n",
    "from torch.optim import Optimizer\n",
    "\n",
    "\n",
    "class InClassOptimizer(Optimizer):\n",
    "    def step(self):\n",
    "        \"\"\"Perform single optimization step.\"\"\"\n",
    "        with torch.no_grad(): # выключим градиенты\n",
    "            for group in self.param_groups:\n",
    "                self._group_step(group)\n",
    "\n",
    "    def _group_step(self, group):\n",
    "        # group ~ dict[str, ...]\n",
    "        \"\"\"\n",
    "        Private helper function to perform\n",
    "        single optimization step on model parameters.\n",
    "        \"\"\"\n",
    "        raise NotImplementedError()"
   ]
  },
  {
   "cell_type": "markdown",
   "metadata": {
    "id": "KOMs5mcVFPIu"
   },
   "source": [
    "**Task**: Напишите свою реализацию Adam:"
   ]
  },
  {
   "cell_type": "code",
   "execution_count": 15,
   "metadata": {
    "id": "HMhFhFWcFPIu"
   },
   "outputs": [],
   "source": [
    "class Adam(InClassOptimizer):\n",
    "    def __init__(self, params, lr=0.001, eps=1e-08, beta_1=0.9, beta_2=0.999):\n",
    "        defaults = dict(lr=lr, eps=eps, beta_1=beta_1, beta_2=beta_2)\n",
    "        super().__init__(params, defaults)\n",
    "\n",
    "    def _group_step(self, group):\n",
    "        lr = group['lr']\n",
    "        eps = group['eps']\n",
    "        beta_1 = group['beta_1']\n",
    "        beta_2 = group['beta_2']\n",
    "\n",
    "        #d_param = g\n",
    "        #buffer = m/v\n",
    "        for param in filter(lambda x: x.grad is not None, group['params']):\n",
    "            param_state = self.state[param]\n",
    "            #Инициализация, но не в отдельной функции, это сложно и не понятно, так проще\n",
    "            if 'adam_m' not in param_state:\n",
    "                param_state['adam_m'] = torch.zeros_like(param)\n",
    "            if 'adam_v' not in param_state:\n",
    "                param_state['adam_v'] = torch.zeros_like(param)\n",
    "            if 'step' not in param_state:\n",
    "                param_state['step'] = 1\n",
    "            #градиенты посчитаем\n",
    "            d_param = param.grad\n",
    "            #обновим накопленные m и v\n",
    "            param_state['adam_m'] = beta_1*param_state['adam_m'] + (1-beta_1)*d_param\n",
    "            param_state['adam_v']= beta_2*param_state['adam_v'] + (1-beta_2)*(d_param*d_param)\n",
    "            m_hat = param_state['adam_m']/(1-beta_1**param_state['step'])\n",
    "            v_hat = param_state['adam_v']/(1-beta_2**param_state['step'])\n",
    "            m_hat /= torch.sqrt(v_hat + eps)\n",
    "            # добавляем сумму градиентов и делаем шаг\n",
    "            param.add_(m_hat, alpha=-lr)\n",
    "            param_state['step'] +=1"
   ]
  },
  {
   "cell_type": "markdown",
   "metadata": {
    "id": "qzDWv8SZSyIt"
   },
   "source": [
    "##### Проверим с правильным Адамом\n",
    "\n",
    "Для этого возьмем код для проверки с семинара по оптимизации"
   ]
  },
  {
   "cell_type": "code",
   "execution_count": 16,
   "metadata": {
    "id": "GBb3ILPSE4IA"
   },
   "outputs": [],
   "source": [
    "from sklearn.datasets import make_regression\n",
    "\n",
    "\n",
    "def seed_everything(seed):\n",
    "    # Зафиксировать seed.\n",
    "    # Это понадобится, чтобы убедиться\n",
    "    # в правильности работы нашего Optimizer\n",
    "    random.seed(seed)\n",
    "    os.environ[\"PYTHONHASHSEED\"] = str(seed)\n",
    "    np.random.seed(seed)\n",
    "    torch.manual_seed(seed)\n",
    "    torch.cuda.manual_seed(seed)\n",
    "    torch.backends.cudnn.deterministic = True\n",
    "\n",
    "\n",
    "# make_regression возвращает 2 переменные: данные и таргет для них\n",
    "# так как они возвращаётся как np.array,\n",
    "# вызовем для каждого из них команду torch.from_numpy\n",
    "X, y = map(\n",
    "    lambda x: torch.from_numpy(x).float(),\n",
    "    make_regression(n_samples=200, n_features=2)\n",
    ")\n",
    "\n",
    "\n",
    "def get_model():\n",
    "    # Таким образом, мы при каждом вызове будем получить\n",
    "    # модель с одной и той же инициализацией весов\n",
    "    seed_everything(228)\n",
    "    return torch.nn.Sequential(\n",
    "        torch.nn.Linear(2, 10),\n",
    "        torch.nn.Linear(10, 1)\n",
    "    )\n",
    "\n",
    "\n",
    "def check_optimizer(model, optim, num_iter):\n",
    "    loss = torch.nn.MSELoss()\n",
    "    for i in range(num_iter):\n",
    "        output = loss(model(X), y.unsqueeze(-1))\n",
    "        output.backward()\n",
    "        optim.step()\n",
    "        optim.zero_grad()\n",
    "        print(f'Iteration {i} loss:', output.item())"
   ]
  },
  {
   "cell_type": "code",
   "execution_count": 17,
   "metadata": {
    "colab": {
     "base_uri": "https://localhost:8080/",
     "height": 187
    },
    "id": "7cs6rGFrJSll",
    "outputId": "d034e11a-27fa-44bf-c1db-3fc192011a1d"
   },
   "outputs": [
    {
     "name": "stdout",
     "output_type": "stream",
     "text": [
      "Iteration 0 loss: 10.269155502319336\n",
      "Iteration 1 loss: 10.243722915649414\n",
      "Iteration 2 loss: 10.218219757080078\n",
      "Iteration 3 loss: 10.192649841308594\n",
      "Iteration 4 loss: 10.167011260986328\n",
      "Iteration 5 loss: 10.141301155090332\n",
      "Iteration 6 loss: 10.115522384643555\n",
      "Iteration 7 loss: 10.08967113494873\n",
      "Iteration 8 loss: 10.063746452331543\n",
      "Iteration 9 loss: 10.037744522094727\n"
     ]
    }
   ],
   "source": [
    "model = get_model()\n",
    "optim = torch.optim.Adam(model.parameters(), lr=0.001)\n",
    "check_optimizer(model, optim, num_iter=10)"
   ]
  },
  {
   "cell_type": "code",
   "execution_count": 18,
   "metadata": {
    "colab": {
     "base_uri": "https://localhost:8080/",
     "height": 187
    },
    "id": "OQYjCdruJL_l",
    "outputId": "94f3f40a-c0a4-43cf-ec84-a2d7b9d4bbc6"
   },
   "outputs": [
    {
     "name": "stdout",
     "output_type": "stream",
     "text": [
      "Iteration 0 loss: 10.269155502319336\n",
      "Iteration 1 loss: 10.243722915649414\n",
      "Iteration 2 loss: 10.218219757080078\n",
      "Iteration 3 loss: 10.192651748657227\n",
      "Iteration 4 loss: 10.167011260986328\n",
      "Iteration 5 loss: 10.141301155090332\n",
      "Iteration 6 loss: 10.115522384643555\n",
      "Iteration 7 loss: 10.08967113494873\n",
      "Iteration 8 loss: 10.063746452331543\n",
      "Iteration 9 loss: 10.037744522094727\n"
     ]
    }
   ],
   "source": [
    "model = get_model()\n",
    "optim = Adam(model.parameters(), lr=0.001)\n",
    "check_optimizer(model, optim, num_iter=10)"
   ]
  },
  {
   "cell_type": "markdown",
   "metadata": {
    "id": "OSbpQieWYhCM"
   },
   "source": [
    "Совпало! :)\n",
    "Это маленькая победа стоила больших трудов, а впереди еще веселее)))"
   ]
  },
  {
   "cell_type": "markdown",
   "metadata": {
    "id": "mNqW5jXVFPI3"
   },
   "source": [
    "**Task**: Создайте параметры для обучения логистической регрессии, сделаем Xavier ициализацию, которая выглядит следующим образом: \n",
    "\n",
    "$$w \\sim U[-\\frac{\\sqrt{6}}{\\sqrt{n_{in} + n_{out}}}, \\frac{\\sqrt{6}}{\\sqrt{n_{in} + n_{out}}}]$$\n",
    "\n",
    "где: \n",
    "\n",
    "* $n_{in}$ -- размер входа (в нейронах) \n",
    "* $n_{out}$ -- размер выхода (в нейронах)\n",
    "\n",
    "Подумайте над выбором $n_{in}$ и $n_{out}$ самостоятельно. "
   ]
  },
  {
   "cell_type": "code",
   "execution_count": 19,
   "metadata": {
    "id": "I_9uVV62OwgE"
   },
   "outputs": [],
   "source": [
    "from torch.autograd import Variable"
   ]
  },
  {
   "cell_type": "code",
   "execution_count": 20,
   "metadata": {
    "id": "OnDidFfvFPI3"
   },
   "outputs": [],
   "source": [
    "r1 = -np.sqrt(6)/(np.sqrt(784 + 10))\n",
    "r2 = np.sqrt(6)/(np.sqrt(784 + 10))\n",
    "weights = Variable(torch.FloatTensor(784, 10).uniform_(r1, r2), requires_grad=True)\n",
    "intercept = Variable(torch.FloatTensor(1,10).zero_(), requires_grad=True)"
   ]
  },
  {
   "cell_type": "code",
   "execution_count": 21,
   "metadata": {
    "id": "TMVS0lRzFPI6"
   },
   "outputs": [],
   "source": [
    "optimizer = Adam([weights, intercept])\n",
    "criterion = nn.CrossEntropyLoss()"
   ]
  },
  {
   "cell_type": "markdown",
   "metadata": {
    "id": "4HGZSu51FPI8"
   },
   "source": [
    "Загрузим данные и создадим даталоадеры:"
   ]
  },
  {
   "cell_type": "code",
   "execution_count": 22,
   "metadata": {
    "id": "ugCsnRGsFPI9"
   },
   "outputs": [],
   "source": [
    "fashion_mnist_train = torchvision.datasets.FashionMNIST(\n",
    "    './data',\n",
    "    download=True,\n",
    "    transform=transforms.Compose([transforms.ToTensor()])\n",
    ")\n",
    "train_dataloader = torch.utils.data.DataLoader(fashion_mnist_train, batch_size=128, shuffle=True, num_workers=2)\n",
    "\n",
    "fashion_mnist_eval = torchvision.datasets.FashionMNIST(\n",
    "    './data',\n",
    "    train=False,\n",
    "    download=True,\n",
    "    transform=transforms.Compose([transforms.ToTensor()])\n",
    ")\n",
    "\n",
    "eval_dataloader = torch.utils.data.DataLoader(fashion_mnist_eval, batch_size=128, num_workers=2, shuffle=False)"
   ]
  },
  {
   "cell_type": "markdown",
   "metadata": {
    "id": "MwsCixw7FPJA"
   },
   "source": [
    "Напишите функцию для тренировки логистической регрессии, она должна: \n",
    "\n",
    "    * Делать предсказания \n",
    "    * Считать лосс \n",
    "    * Подсчитывать градиенты\n",
    "    * Делать шаг оптимизации\n",
    "    * Обнулять посчитанные градиенты\n",
    "    * Считать метрики \n",
    "    * Возвращать полученные метрики\n",
    "    \n",
    "После этого предусмотрите возможность визуализировать метрики, чтобы нарисовать картинки, а именно от вас требуется визуализировать: \n",
    "\n",
    "    * Зависимость лосса от количества итераций\n",
    "    * Зависимость доли правильных ответов от количества итераций"
   ]
  },
  {
   "cell_type": "code",
   "execution_count": 23,
   "metadata": {
    "id": "vyPTpgMtFPJC"
   },
   "outputs": [],
   "source": [
    "def train_logistic_regression(weights, bias, batch, criterion, optimizer):\n",
    "    loss_list = []\n",
    "    accuracy_list = []\n",
    "    images, labels = batch\n",
    "    images = images.view(-1, 784) #вытягиваем\n",
    "    prediction = nn.Softmax(dim=-1)(images @ weights + bias) #делаем предсказание логистической регрессии\n",
    "    loss = criterion(prediction, labels) #считаем лосс\n",
    "    loss.backward() # подсчитываем градиенты\n",
    "    optimizer.step() #делаем шаг оптимизации\n",
    "    optimizer.zero_grad() #обнуляем посчитанные градиенты\n",
    "\n",
    "    _, predicted = torch.max(prediction.data, 1) #найдем самые вероятные классы для картинок\n",
    "    total = labels.size(0) #всего количество\n",
    "    correct = (predicted == labels).sum() #правильно угаданных\n",
    "    accuracy = 100 * int(correct)/total\n",
    "    loss_list.append(loss)\n",
    "    accuracy_list.append(accuracy)\n",
    "    return loss_list, accuracy_list # возращаем полученные метрики"
   ]
  },
  {
   "cell_type": "code",
   "execution_count": 24,
   "metadata": {
    "colab": {
     "base_uri": "https://localhost:8080/",
     "height": 34
    },
    "id": "HirN8bglQz1j",
    "outputId": "0d789907-256a-479a-a497-40a9359c2963"
   },
   "outputs": [
    {
     "name": "stderr",
     "output_type": "stream",
     "text": [
      "100%|██████████| 99/99 [08:20<00:00,  5.06s/it]\n"
     ]
    }
   ],
   "source": [
    "all_loss = []\n",
    "all_accuracy = []\n",
    "val_loss = []\n",
    "val_accuracy = []\n",
    "for epoch in tqdm(range(1, 100)):\n",
    "  for batch in train_dataloader:\n",
    "    metrics = train_logistic_regression(weights,bias = intercept, batch=batch, criterion = criterion, optimizer=optimizer)\n",
    "    all_loss.extend(metrics[0])\n",
    "    all_accuracy.extend(metrics[1])\n",
    "#считаем метрики на валидации точно также, как делали в функции выше, но не учитываем это в обновление градиент и шаг оптимизатора\n",
    "  correct = 0\n",
    "  total = 0\n",
    "  total_loss = 0\n",
    "  with torch.no_grad():\n",
    "    for images_v, labels_v in eval_dataloader:\n",
    "        images_v = images_v.view(-1, 784)\n",
    "        outputs = nn.Softmax(dim=-1)(images_v @ weights + intercept)\n",
    "        _, predicted = torch.max(outputs.data, 1)\n",
    "        total += labels_v.size(0)\n",
    "        correct += (predicted == labels_v).sum()\n",
    "        loss_val = criterion(outputs, labels_v)\n",
    "        total_loss += loss_val\n",
    "  accuracy_val = 100 * int(correct)/total\n",
    "  total_loss /= total\n",
    "  val_accuracy.extend([accuracy_val])\n",
    "  val_loss.extend([total_loss])"
   ]
  },
  {
   "cell_type": "code",
   "execution_count": 25,
   "metadata": {
    "colab": {
     "base_uri": "https://localhost:8080/",
     "height": 730
    },
    "id": "y39Vga3xkPgm",
    "outputId": "c7510843-9aca-460b-ee0b-b759ea7b325c"
   },
   "outputs": [
    {
     "data": {
      "image/png": "[encoded data removed]",
      "text/plain": [
       "<Figure size 864x864 with 4 Axes>"
      ]
     },
     "metadata": {
      "needs_background": "light",
      "tags": []
     },
     "output_type": "display_data"
    }
   ],
   "source": [
    "#нарисуем 4 графика метрик\n",
    "fig, axs = plt.subplots(2, 2, figsize = (12,12))\n",
    "n_val = np.arange(1, len(val_loss)+ 1)\n",
    "n_train = np.arange(1, len(all_loss)+ 1)\n",
    "\n",
    "axs[0, 0].plot(n_train, all_loss)\n",
    "axs[0,0].set_title('Train Loss')\n",
    "axs[0,0].set_ylabel('Loss')\n",
    "axs[1,0].plot(n_train, all_accuracy)\n",
    "axs[1,0].set_title('Train Accuracy')\n",
    "axs[1,0].set_xlabel('iterations')\n",
    "axs[1,0].set_ylabel('Accuracy, %')\n",
    "axs[0,1].plot(n_val, val_loss, 'orange')\n",
    "axs[0,1].set_title('Validation Loss')\n",
    "axs[1,1].plot(n_val, val_accuracy, 'orange')\n",
    "axs[1,1].set_title('Validation Accuracy')\n",
    "axs[1,1].set_xlabel('epoch');"
   ]
  },
  {
   "cell_type": "markdown",
   "metadata": {
    "id": "DRyabQ3QFPJJ"
   },
   "source": [
    "#### Вопросы к секции: \n",
    "\n",
    "* Своими словами и без математики объясните благодаря чему Adam дает несмещенную оценку на квадрат градиента\n",
    "* Когда модель начала переобучаться? Как вы это поняли? Сделайте визуализацию и докажите свою точку зрения."
   ]
  },
  {
   "cell_type": "markdown",
   "metadata": {
    "id": "2zWLBaLestpr"
   },
   "source": [
    "#### Ответы на вопросы\n",
    "\n",
    "1) Адам дает несмещенную оценка из-за того, что смотрит не только на настоящую функцию, но и учитывает историю квадрата градиента\n",
    "\n",
    "2) Модель не переобучилась. Признаками переобучения могли быть падающий тренд у accuracy или возрастающий у loss для валидации. И хотя на 58 эпохе видны эти признаки, следует принимать во внимание, что дальше виден тренд (то есть сходимость) падения loss и роста accuracy (если посмотреть относительно среднего за следующие периоды после 58 эпохи), поэтому такое падение скорей всего показатель такого распределения, при котором полученные веса с учетом истории не очень хорошо работали, но не признак переобучения."
   ]
  },
  {
   "cell_type": "code",
   "execution_count": 70,
   "metadata": {
    "colab": {
     "base_uri": "https://localhost:8080/",
     "height": 513
    },
    "id": "ERTof95suPXU",
    "outputId": "2d82c739-6588-4e9e-8a47-019f91fb99bb"
   },
   "outputs": [
    {
     "data": {
      "image/png": "[encoded data removed]",
      "text/plain": [
       "<Figure size 864x576 with 1 Axes>"
      ]
     },
     "metadata": {
      "needs_background": "light",
      "tags": []
     },
     "output_type": "display_data"
    }
   ],
   "source": [
    "plt.figure(figsize=(12,8))\n",
    "plt.plot(n_val, val_accuracy, 'orange')\n",
    "plt.title('Validation Accuracy')\n",
    "plt.hlines(np.array(val_accuracy[58:]).mean(), 0, 100)\n",
    "plt.xlabel('epoch');"
   ]
  },
  {
   "cell_type": "code",
   "execution_count": 69,
   "metadata": {
    "colab": {
     "base_uri": "https://localhost:8080/",
     "height": 513
    },
    "id": "0DcSmxXLoF5t",
    "outputId": "19b56106-bcd3-4dad-bbf8-92c4066c5569"
   },
   "outputs": [
    {
     "data": {
      "image/png": "[encoded data removed]",
      "text/plain": [
       "<Figure size 864x576 with 1 Axes>"
      ]
     },
     "metadata": {
      "needs_background": "light",
      "tags": []
     },
     "output_type": "display_data"
    }
   ],
   "source": [
    "plt.figure(figsize=(12,8))\n",
    "plt.plot(n_val, val_loss)\n",
    "plt.title('Validation Loss')\n",
    "plt.hlines(np.array(val_loss[58:]).mean(), 0, 100)\n",
    "plt.xlabel('epoch');"
   ]
  },
  {
   "cell_type": "markdown",
   "metadata": {
    "id": "SD0SUd8gFPJJ"
   },
   "source": [
    "### Моя первая нейросеть (4 балла)"
   ]
  },
  {
   "cell_type": "markdown",
   "metadata": {
    "id": "Y-tlqQQIFPJK"
   },
   "source": [
    "В данной секции вам нужно сделать следующие вещи: \n",
    "\n",
    "* Реализовать три разных архитектуры нейросетей. Эти архитектуры должны принципиально отличаться друг от друга. Разрешается одной из архитекур брать полностью полносвязную модель. Остальные две должны быть сверточными и сильно отличаться друг от друга. К примеру, одна из таких архитектур может быть VGG подобная сеть, а другая ResNet подобная архитектура. \n",
    "\n",
    "* Написать цикл для обучения которым можно обучать все три модели без изменений кода\n",
    "\n",
    "* Попробовать каждую модель с двумя оптимизаторами: RMSprop и SGD with momentum\n",
    "\n",
    "* Визуализировать результаты перфоманса каждой модели (две метрики минимум для каждого сетапа, например, лосс и долю правильных ответов). В данном пункте мы ждем от вас визуализацию зависимости метрики от номера итерации обучения.\n",
    "\n",
    "* Сделать выводы какие были модели были лучше и как вы думаете почему?"
   ]
  },
  {
   "cell_type": "code",
   "execution_count": 28,
   "metadata": {
    "id": "x1NCNHMk9NhZ"
   },
   "outputs": [],
   "source": [
    "import matplotlib.pyplot as plt\n",
    "from IPython.display import clear_output"
   ]
  },
  {
   "cell_type": "markdown",
   "metadata": {
    "id": "0LoZtTk_mbMb"
   },
   "source": [
    "Далее возьмем код для цикла обучения и визуализации с семинаров (это не плагиат у других студентов!!!, семинарист Максим Кузнецов разрешил так сделать, хотя я мог и сам, но получилось бы точно также и дольше выполнялся код, но я честно описал комментариями основные моменты в коде)"
   ]
  },
  {
   "cell_type": "code",
   "execution_count": 29,
   "metadata": {
    "id": "uhQdlDxu9hKY"
   },
   "outputs": [],
   "source": [
    "def plot_history(train_history, val_history, title='loss'): #функция для рисования\n",
    "    plt.figure()\n",
    "    plt.title('{}'.format(title))\n",
    "    plt.plot(train_history, label='train', zorder=1) #рисуем на каждом шаге для трейна\n",
    "    \n",
    "    points = np.array(val_history)\n",
    "    steps = list(range(0, len(train_history) + 1, int(len(train_history) / len(val_history))))[1:] \n",
    "    \n",
    "    #задаем список, когда была валидация, типо [100, 200, 300..]\n",
    "    # то есть так задаем когда считать в конце эпох\n",
    "    \n",
    "    plt.scatter(steps, val_history, marker='+', s=180, c='orange', label='val', zorder=2) #рисуем крестики на валидации в конце эпох\n",
    "    plt.xlabel('train steps')\n",
    "    \n",
    "    plt.legend(loc='best')\n",
    "    plt.grid()\n",
    "\n",
    "    plt.show()"
   ]
  },
  {
   "cell_type": "code",
   "execution_count": 30,
   "metadata": {
    "id": "8-zufZBg5xl0"
   },
   "outputs": [],
   "source": [
    "def train_model(model, criterion, optimizer, train_dataloader, test_dataloader, epoch):\n",
    "    train_loss_log = []\n",
    "    train_acc_log = []\n",
    "    val_loss_log = []\n",
    "    val_acc_log = []\n",
    "    \n",
    "    for epoch in range(epoch):\n",
    "        model.train() \n",
    "        train_loss = 0.\n",
    "        train_size = 0\n",
    "        train_acc = 0.\n",
    "        for imgs, labels in train_dataloader:\n",
    "            imgs, labels = imgs.to(device), labels.to(device) #перегоняем на cuda, чтобы было быстрее\n",
    "            \n",
    "            #далее делаем все тоже самое, что делали в прошлом задании\n",
    "            optimizer.zero_grad()\n",
    "            y_pred = model(imgs)\n",
    "            loss = criterion(y_pred, labels)\n",
    "            loss.backward()\n",
    "            optimizer.step()\n",
    "            \n",
    "            train_loss += loss.item()\n",
    "            train_size += y_pred.size(0)\n",
    "            train_loss_log.append(loss.data / y_pred.size(0))\n",
    "\n",
    "            _, pred_classes = torch.max(y_pred, 1) #наиболее вероятные классы для картинок\n",
    "            train_acc += (pred_classes == labels).sum().item() #суммируем совпадения\n",
    "            train_acc_log.append(np.mean((pred_classes == labels).cpu().numpy())) #находим непосредственно accuracy для каждой итерации\n",
    "\n",
    "\n",
    "        val_loss = 0.\n",
    "        val_size = 0\n",
    "        val_acc = 0.\n",
    "        model.eval()\n",
    "        with torch.no_grad(): #cчитаем метрики для валидации\n",
    "            for imgs, labels in test_dataloader:\n",
    "                imgs, labels = imgs.to(device), labels.to(device)\n",
    "                pred = model(imgs)\n",
    "                loss = criterion(pred, labels)\n",
    "                val_loss += loss.item()\n",
    "                val_size += pred.size(0)\n",
    "\n",
    "                _, pred_classes = torch.max(pred, 1)\n",
    "                val_acc += (pred_classes == labels).sum().item()\n",
    "        val_loss_log.append(val_loss / val_size)\n",
    "        val_acc_log.append(val_acc / val_size)\n",
    "\n",
    "        clear_output() #чистим старое\n",
    "        plot_history(train_loss_log, val_loss_log, 'loss') #рисуем новое\n",
    "        plot_history(train_acc_log, val_acc_log, 'accuracy') #рисуем новое\n",
    "\n",
    "        print('Train loss:', train_loss / train_size) #выводим последние метрики на валидации в конце эпох\n",
    "        print('Train acc:', train_acc / train_size)\n",
    "        print('Val loss:', val_loss / val_size)\n",
    "        print('Val acc:', val_acc / val_size)"
   ]
  },
  {
   "cell_type": "code",
   "execution_count": 31,
   "metadata": {
    "id": "4czyMj0DFPJW"
   },
   "outputs": [],
   "source": [
    "FirstModel = nn.Sequential(\n",
    "    nn.Flatten(),\n",
    "    nn.Linear(784, 512), \n",
    "    nn.ELU(), \n",
    "    nn.Linear(512, 128),\n",
    "    nn.ReLU(),\n",
    "    nn.Linear(128, 10),\n",
    "    nn.Softmax(dim=-1) \n",
    ")"
   ]
  },
  {
   "cell_type": "code",
   "execution_count": 32,
   "metadata": {
    "colab": {
     "base_uri": "https://localhost:8080/",
     "height": 170
    },
    "id": "kTNZmyUqmzPa",
    "outputId": "5e5a927f-db1d-4416-a1b5-5c5e8221cc83"
   },
   "outputs": [
    {
     "data": {
      "text/plain": [
       "Sequential(\n",
       "  (0): Flatten()\n",
       "  (1): Linear(in_features=784, out_features=512, bias=True)\n",
       "  (2): ELU(alpha=1.0)\n",
       "  (3): Linear(in_features=512, out_features=128, bias=True)\n",
       "  (4): ReLU()\n",
       "  (5): Linear(in_features=128, out_features=10, bias=True)\n",
       "  (6): Softmax(dim=-1)\n",
       ")"
      ]
     },
     "execution_count": 32,
     "metadata": {
      "tags": []
     },
     "output_type": "execute_result"
    }
   ],
   "source": [
    "FirstModel.to(device)"
   ]
  },
  {
   "cell_type": "code",
   "execution_count": 33,
   "metadata": {
    "id": "ZXgitRypFPJS"
   },
   "outputs": [],
   "source": [
    "class SecondModel(nn.Module):\n",
    "    def __init__(self):\n",
    "        super(SecondModel, self).__init__()\n",
    "        self.vgg = nn.Sequential(\n",
    "            nn.Conv2d(1, 32, 3, padding=1),\n",
    "            nn.ReLU(),\n",
    "            nn.Conv2d(32, 32, 3),\n",
    "            nn.ReLU(),\n",
    "            nn.MaxPool2d(2, 2),\n",
    "            nn.Conv2d(32, 64, 3, padding=1),\n",
    "            nn.ReLU(),\n",
    "            nn.Conv2d(64, 64, 3),\n",
    "            nn.ReLU(),\n",
    "            nn.MaxPool2d(2, 2),\n",
    "            nn.Conv2d(64, 128, 3, padding=1),\n",
    "            nn.ReLU(),\n",
    "            nn.Conv2d(128, 128, 3),\n",
    "            nn.ReLU(),\n",
    "            nn.MaxPool2d(2, 2)\n",
    "        )\n",
    "        self.fc2 = nn.Linear(128, 64)\n",
    "        self.relu = nn.ReLU()\n",
    "        self.fc3 = nn.Linear(64, 64)\n",
    "        self.relu = nn.ReLU()\n",
    "        self.fc4 = nn.Linear(64, 10)\n",
    "        self.softmax = nn.Softmax(dim=-1)\n",
    "\n",
    "        \n",
    "    def forward(self, x):\n",
    "        x = self.vgg(x)\n",
    "        x = nn.Flatten()(x)\n",
    "        x = self.relu(self.fc2(x))\n",
    "        x = self.relu(self.fc3(x))\n",
    "        x = self.softmax(self.fc4(x))\n",
    "        return x\n",
    "\n",
    "SecondModel = SecondModel()"
   ]
  },
  {
   "cell_type": "code",
   "execution_count": 34,
   "metadata": {
    "colab": {
     "base_uri": "https://localhost:8080/",
     "height": 425
    },
    "id": "_TUQB5oW3wFb",
    "outputId": "74feda1a-8bf6-47cc-ee83-752eee45e352"
   },
   "outputs": [
    {
     "data": {
      "text/plain": [
       "SecondModel(\n",
       "  (vgg): Sequential(\n",
       "    (0): Conv2d(1, 32, kernel_size=(3, 3), stride=(1, 1), padding=(1, 1))\n",
       "    (1): ReLU()\n",
       "    (2): Conv2d(32, 32, kernel_size=(3, 3), stride=(1, 1))\n",
       "    (3): ReLU()\n",
       "    (4): MaxPool2d(kernel_size=2, stride=2, padding=0, dilation=1, ceil_mode=False)\n",
       "    (5): Conv2d(32, 64, kernel_size=(3, 3), stride=(1, 1), padding=(1, 1))\n",
       "    (6): ReLU()\n",
       "    (7): Conv2d(64, 64, kernel_size=(3, 3), stride=(1, 1))\n",
       "    (8): ReLU()\n",
       "    (9): MaxPool2d(kernel_size=2, stride=2, padding=0, dilation=1, ceil_mode=False)\n",
       "    (10): Conv2d(64, 128, kernel_size=(3, 3), stride=(1, 1), padding=(1, 1))\n",
       "    (11): ReLU()\n",
       "    (12): Conv2d(128, 128, kernel_size=(3, 3), stride=(1, 1))\n",
       "    (13): ReLU()\n",
       "    (14): MaxPool2d(kernel_size=2, stride=2, padding=0, dilation=1, ceil_mode=False)\n",
       "  )\n",
       "  (fc2): Linear(in_features=128, out_features=64, bias=True)\n",
       "  (relu): ReLU()\n",
       "  (fc3): Linear(in_features=64, out_features=64, bias=True)\n",
       "  (fc4): Linear(in_features=64, out_features=10, bias=True)\n",
       "  (softmax): Softmax(dim=-1)\n",
       ")"
      ]
     },
     "execution_count": 34,
     "metadata": {
      "tags": []
     },
     "output_type": "execute_result"
    }
   ],
   "source": [
    "SecondModel.to(device)"
   ]
  },
  {
   "cell_type": "code",
   "execution_count": 35,
   "metadata": {
    "id": "7kX7arwgFPJP"
   },
   "outputs": [],
   "source": [
    "class ThirdModel(nn.Module):\n",
    "    def __init__(self):\n",
    "        super(ThirdModel, self).__init__()\n",
    "        self.conv = nn.Conv2d(1, 32, 7)\n",
    "        self.batch_norm = nn.BatchNorm2d(32)\n",
    "        self.elu = nn.ELU()\n",
    "        self.pool = nn.MaxPool2d(2)\n",
    "        self.conv1 = nn.Sequential(\n",
    "            nn.Conv2d(in_channels=32, out_channels=32, kernel_size=3, padding=1),\n",
    "            nn.BatchNorm2d(32),\n",
    "            torch.nn.ReLU(),\n",
    "            nn.Conv2d(in_channels=32, out_channels=32, kernel_size=3, padding=1),\n",
    "            nn.BatchNorm2d(32),\n",
    "            torch.nn.MaxPool2d(kernel_size=2),\n",
    "        )\n",
    "        self.conv2 = torch.nn.Sequential(\n",
    "            torch.nn.Conv2d(in_channels=32, out_channels=64, kernel_size=3, padding=1),\n",
    "            nn.BatchNorm2d(64),\n",
    "            torch.nn.ReLU(),\n",
    "            nn.Conv2d(in_channels=64, out_channels=64, kernel_size=3, padding=1),\n",
    "            nn.BatchNorm2d(64),\n",
    "            torch.nn.MaxPool2d(kernel_size=2),\n",
    "        )\n",
    "        self.conv3 = torch.nn.Sequential(\n",
    "            torch.nn.Conv2d(in_channels=64, out_channels=128, kernel_size=2, padding=1),\n",
    "            nn.BatchNorm2d(128),\n",
    "            torch.nn.ReLU(),\n",
    "            torch.nn.Conv2d(in_channels=128, out_channels=128, kernel_size=2, padding=1),\n",
    "            nn.BatchNorm2d(128),\n",
    "            torch.nn.MaxPool2d(kernel_size=2),\n",
    "        )\n",
    "        self.linear1 = torch.nn.Linear(in_features=512, out_features=128)\n",
    "        self.relu = nn.ReLU()\n",
    "        self.linear2 = torch.nn.Linear(in_features=128, out_features=64)\n",
    "        self.relu = nn.ReLU()\n",
    "        self.linear3 = torch.nn.Linear(in_features=64, out_features=64)\n",
    "        self.relu = nn.ReLU()\n",
    "        self.output = torch.nn.Linear(in_features=64, out_features=10)\n",
    "\n",
    "    def forward(self, x):\n",
    "        x = self.conv(x)\n",
    "        x = self.elu(self.batch_norm(x))\n",
    "        x = self.pool(x)\n",
    "        x = self.conv1(x)\n",
    "        x = self.conv2(x)\n",
    "        x = self.conv3(x)\n",
    "        x = nn.Flatten()(x)\n",
    "        x = self.relu(self.linear1(x))\n",
    "        x = self.relu(self.linear2(x))\n",
    "        x = self.relu(self.linear3(x))\n",
    "        return self.output(x)\n",
    "\n",
    "\n",
    "ThirdModel = ThirdModel()"
   ]
  },
  {
   "cell_type": "code",
   "execution_count": 36,
   "metadata": {
    "colab": {
     "base_uri": "https://localhost:8080/",
     "height": 612
    },
    "id": "-fEDfE7s2tyW",
    "outputId": "e62ff739-d204-4264-db88-f5676a6577cb"
   },
   "outputs": [
    {
     "data": {
      "text/plain": [
       "ThirdModel(\n",
       "  (conv): Conv2d(1, 32, kernel_size=(7, 7), stride=(1, 1))\n",
       "  (batch_norm): BatchNorm2d(32, eps=1e-05, momentum=0.1, affine=True, track_running_stats=True)\n",
       "  (elu): ELU(alpha=1.0)\n",
       "  (pool): MaxPool2d(kernel_size=2, stride=2, padding=0, dilation=1, ceil_mode=False)\n",
       "  (conv1): Sequential(\n",
       "    (0): Conv2d(32, 32, kernel_size=(3, 3), stride=(1, 1), padding=(1, 1))\n",
       "    (1): BatchNorm2d(32, eps=1e-05, momentum=0.1, affine=True, track_running_stats=True)\n",
       "    (2): ReLU()\n",
       "    (3): Conv2d(32, 32, kernel_size=(3, 3), stride=(1, 1), padding=(1, 1))\n",
       "    (4): BatchNorm2d(32, eps=1e-05, momentum=0.1, affine=True, track_running_stats=True)\n",
       "    (5): MaxPool2d(kernel_size=2, stride=2, padding=0, dilation=1, ceil_mode=False)\n",
       "  )\n",
       "  (conv2): Sequential(\n",
       "    (0): Conv2d(32, 64, kernel_size=(3, 3), stride=(1, 1), padding=(1, 1))\n",
       "    (1): BatchNorm2d(64, eps=1e-05, momentum=0.1, affine=True, track_running_stats=True)\n",
       "    (2): ReLU()\n",
       "    (3): Conv2d(64, 64, kernel_size=(3, 3), stride=(1, 1), padding=(1, 1))\n",
       "    (4): BatchNorm2d(64, eps=1e-05, momentum=0.1, affine=True, track_running_stats=True)\n",
       "    (5): MaxPool2d(kernel_size=2, stride=2, padding=0, dilation=1, ceil_mode=False)\n",
       "  )\n",
       "  (conv3): Sequential(\n",
       "    (0): Conv2d(64, 128, kernel_size=(2, 2), stride=(1, 1), padding=(1, 1))\n",
       "    (1): BatchNorm2d(128, eps=1e-05, momentum=0.1, affine=True, track_running_stats=True)\n",
       "    (2): ReLU()\n",
       "    (3): Conv2d(128, 128, kernel_size=(2, 2), stride=(1, 1), padding=(1, 1))\n",
       "    (4): BatchNorm2d(128, eps=1e-05, momentum=0.1, affine=True, track_running_stats=True)\n",
       "    (5): MaxPool2d(kernel_size=2, stride=2, padding=0, dilation=1, ceil_mode=False)\n",
       "  )\n",
       "  (linear1): Linear(in_features=512, out_features=128, bias=True)\n",
       "  (relu): ReLU()\n",
       "  (linear2): Linear(in_features=128, out_features=64, bias=True)\n",
       "  (linear3): Linear(in_features=64, out_features=64, bias=True)\n",
       "  (output): Linear(in_features=64, out_features=10, bias=True)\n",
       ")"
      ]
     },
     "execution_count": 36,
     "metadata": {
      "tags": []
     },
     "output_type": "execute_result"
    }
   ],
   "source": [
    "ThirdModel.to(device)"
   ]
  },
  {
   "cell_type": "markdown",
   "metadata": {
    "id": "FV2eJijeQ02r"
   },
   "source": [
    "#### Первая модель"
   ]
  },
  {
   "cell_type": "markdown",
   "metadata": {
    "id": "SiY8Iqd7Rp1X"
   },
   "source": [
    "##### SGD with momentum"
   ]
  },
  {
   "cell_type": "code",
   "execution_count": 37,
   "metadata": {
    "id": "DkUkQMhXC_Kh"
   },
   "outputs": [],
   "source": [
    "criterion = nn.CrossEntropyLoss()\n",
    "optimizer1 = torch.optim.SGD(FirstModel.parameters(), lr=0.001, momentum=0.9)"
   ]
  },
  {
   "cell_type": "code",
   "execution_count": 38,
   "metadata": {
    "colab": {
     "base_uri": "https://localhost:8080/",
     "height": 641
    },
    "id": "YLrfa-9y5xfz",
    "outputId": "fc012be9-458a-4458-e1fa-c882da8a9568"
   },
   "outputs": [
    {
     "data": {
      "image/png": "[encoded data removed]",
      "text/plain": [
       "<Figure size 432x288 with 1 Axes>"
      ]
     },
     "metadata": {
      "needs_background": "light",
      "tags": []
     },
     "output_type": "display_data"
    },
    {
     "data": {
      "image/png": "[encoded data removed]",
      "text/plain": [
       "<Figure size 432x288 with 1 Axes>"
      ]
     },
     "metadata": {
      "needs_background": "light",
      "tags": []
     },
     "output_type": "display_data"
    },
    {
     "name": "stdout",
     "output_type": "stream",
     "text": [
      "Train loss: 0.013144503768285116\n",
      "Train acc: 0.79175\n",
      "Val loss: 0.013334885501861573\n",
      "Val acc: 0.7839\n"
     ]
    }
   ],
   "source": [
    "train_model(FirstModel, criterion, optimizer1, train_dataloader, eval_dataloader, 30) \n",
    "#30 эпох, так как после 25 эпохи качество примерно такое же, то есть дальше модель переобучается"
   ]
  },
  {
   "cell_type": "markdown",
   "metadata": {
    "id": "bEi3xfflRvQs"
   },
   "source": [
    "##### RMSprop"
   ]
  },
  {
   "cell_type": "code",
   "execution_count": 39,
   "metadata": {
    "id": "odABKXfwRHhl"
   },
   "outputs": [],
   "source": [
    "FirstModel = nn.Sequential(\n",
    "    nn.Flatten(),\n",
    "    nn.Linear(784, 512), \n",
    "    nn.ELU(), \n",
    "    nn.Linear(512, 128),\n",
    "    nn.ReLU(),\n",
    "    nn.Linear(128, 10),\n",
    "    nn.Softmax(dim=-1) \n",
    ")"
   ]
  },
  {
   "cell_type": "code",
   "execution_count": 40,
   "metadata": {
    "colab": {
     "base_uri": "https://localhost:8080/",
     "height": 170
    },
    "id": "YIBEOlfqRIQh",
    "outputId": "aa571452-ee71-451c-d637-fe229cf1b5bd"
   },
   "outputs": [
    {
     "data": {
      "text/plain": [
       "Sequential(\n",
       "  (0): Flatten()\n",
       "  (1): Linear(in_features=784, out_features=512, bias=True)\n",
       "  (2): ELU(alpha=1.0)\n",
       "  (3): Linear(in_features=512, out_features=128, bias=True)\n",
       "  (4): ReLU()\n",
       "  (5): Linear(in_features=128, out_features=10, bias=True)\n",
       "  (6): Softmax(dim=-1)\n",
       ")"
      ]
     },
     "execution_count": 40,
     "metadata": {
      "tags": []
     },
     "output_type": "execute_result"
    }
   ],
   "source": [
    "FirstModel.to(device)"
   ]
  },
  {
   "cell_type": "code",
   "execution_count": 41,
   "metadata": {
    "id": "zSglFGHESHt_"
   },
   "outputs": [],
   "source": [
    "criterion = nn.CrossEntropyLoss()\n",
    "optimizer2 = torch.optim.RMSprop(FirstModel.parameters(), lr=0.001)"
   ]
  },
  {
   "cell_type": "code",
   "execution_count": 42,
   "metadata": {
    "colab": {
     "base_uri": "https://localhost:8080/",
     "height": 641
    },
    "id": "96Eu_1h157Ij",
    "outputId": "9b4edb7b-fe51-4b3c-dad3-b2aa5fb6b93e"
   },
   "outputs": [
    {
     "data": {
      "image/png": "[encoded data removed]",
      "text/plain": [
       "<Figure size 432x288 with 1 Axes>"
      ]
     },
     "metadata": {
      "needs_background": "light",
      "tags": []
     },
     "output_type": "display_data"
    },
    {
     "data": {
      "image/png": "[encoded data removed]",
      "text/plain": [
       "<Figure size 432x288 with 1 Axes>"
      ]
     },
     "metadata": {
      "needs_background": "light",
      "tags": []
     },
     "output_type": "display_data"
    },
    {
     "name": "stdout",
     "output_type": "stream",
     "text": [
      "Train loss: 0.012288314344485601\n",
      "Train acc: 0.8890833333333333\n",
      "Val loss: 0.012671357429027558\n",
      "Val acc: 0.8565\n"
     ]
    }
   ],
   "source": [
    "train_model(FirstModel, criterion, optimizer2, train_dataloader, eval_dataloader, 30)\n",
    "# можно было брать даже меньше эпох, модель достаточно быстро за 10 эпох уже обучилась и показывает примерно одно качество"
   ]
  },
  {
   "cell_type": "markdown",
   "metadata": {
    "id": "-85KTntXRTDD"
   },
   "source": [
    "#### Вторая модель"
   ]
  },
  {
   "cell_type": "markdown",
   "metadata": {
    "id": "QAbNjAz4R7Lc"
   },
   "source": [
    "##### SGD with momentum"
   ]
  },
  {
   "cell_type": "code",
   "execution_count": 43,
   "metadata": {
    "id": "GTJhCs2dDX1D"
   },
   "outputs": [],
   "source": [
    "criterion = nn.CrossEntropyLoss()\n",
    "optimizer12 = torch.optim.SGD(SecondModel.parameters(), lr=0.01, momentum=0.9)\n",
    "#выбрал такой шаг, так как иначе модель вообще не обучалась большое количество эпох"
   ]
  },
  {
   "cell_type": "code",
   "execution_count": 44,
   "metadata": {
    "colab": {
     "base_uri": "https://localhost:8080/",
     "height": 641
    },
    "id": "VoWF_peRBs8A",
    "outputId": "5dfe2114-59ec-43cb-e307-9612b68c9970"
   },
   "outputs": [
    {
     "data": {
      "image/png": "[encoded data removed]",
      "text/plain": [
       "<Figure size 432x288 with 1 Axes>"
      ]
     },
     "metadata": {
      "needs_background": "light",
      "tags": []
     },
     "output_type": "display_data"
    },
    {
     "data": {
      "image/png": "[encoded data removed]",
      "text/plain": [
       "<Figure size 432x288 with 1 Axes>"
      ]
     },
     "metadata": {
      "needs_background": "light",
      "tags": []
     },
     "output_type": "display_data"
    },
    {
     "name": "stdout",
     "output_type": "stream",
     "text": [
      "Train loss: 0.012749693604310353\n",
      "Train acc: 0.8300333333333333\n",
      "Val loss: 0.013020045387744903\n",
      "Val acc: 0.8114\n"
     ]
    }
   ],
   "source": [
    "train_model(SecondModel, criterion, optimizer12, train_dataloader, eval_dataloader, 50)\n",
    "#50 эпох, так как долго модель не обучалась, только после 10 эпохи начинает показывать высокое стабильное качество"
   ]
  },
  {
   "cell_type": "markdown",
   "metadata": {
    "id": "GROKbU4tSWnG"
   },
   "source": [
    "##### RMSprop"
   ]
  },
  {
   "cell_type": "code",
   "execution_count": 51,
   "metadata": {
    "id": "rEB5MhnpRZFQ"
   },
   "outputs": [],
   "source": [
    "class SecondModel(nn.Module):\n",
    "    def __init__(self):\n",
    "        super(SecondModel, self).__init__()\n",
    "        self.vgg = nn.Sequential(\n",
    "            nn.Conv2d(1, 32, 3, padding=1),\n",
    "            nn.ReLU(),\n",
    "            nn.Conv2d(32, 32, 3),\n",
    "            nn.ReLU(),\n",
    "            nn.MaxPool2d(2, 2),\n",
    "            nn.Conv2d(32, 64, 3, padding=1),\n",
    "            nn.ReLU(),\n",
    "            nn.Conv2d(64, 64, 3),\n",
    "            nn.ReLU(),\n",
    "            nn.MaxPool2d(2, 2),\n",
    "            nn.Conv2d(64, 128, 3, padding=1),\n",
    "            nn.ReLU(),\n",
    "            nn.Conv2d(128, 128, 3),\n",
    "            nn.ReLU(),\n",
    "            nn.MaxPool2d(2, 2)\n",
    "        )\n",
    "        self.fc2 = nn.Linear(128, 64)\n",
    "        self.relu = nn.ReLU()\n",
    "        self.fc3 = nn.Linear(64, 64)\n",
    "        self.relu = nn.ReLU()\n",
    "        self.fc4 = nn.Linear(64, 10)\n",
    "        self.softmax = nn.Softmax(dim=-1)\n",
    "\n",
    "        \n",
    "    def forward(self, x):\n",
    "        x = self.vgg(x)\n",
    "        x = nn.Flatten()(x)\n",
    "        x = self.relu(self.fc2(x))\n",
    "        x = self.relu(self.fc3(x))\n",
    "        x = self.softmax(self.fc4(x))\n",
    "        return x\n",
    "\n",
    "SecondModel = SecondModel()"
   ]
  },
  {
   "cell_type": "code",
   "execution_count": 52,
   "metadata": {
    "colab": {
     "base_uri": "https://localhost:8080/",
     "height": 425
    },
    "id": "xWsclo6oReae",
    "outputId": "55f1b9a6-1e60-44fd-cb2b-c215d45436b9"
   },
   "outputs": [
    {
     "data": {
      "text/plain": [
       "SecondModel(\n",
       "  (vgg): Sequential(\n",
       "    (0): Conv2d(1, 32, kernel_size=(3, 3), stride=(1, 1), padding=(1, 1))\n",
       "    (1): ReLU()\n",
       "    (2): Conv2d(32, 32, kernel_size=(3, 3), stride=(1, 1))\n",
       "    (3): ReLU()\n",
       "    (4): MaxPool2d(kernel_size=2, stride=2, padding=0, dilation=1, ceil_mode=False)\n",
       "    (5): Conv2d(32, 64, kernel_size=(3, 3), stride=(1, 1), padding=(1, 1))\n",
       "    (6): ReLU()\n",
       "    (7): Conv2d(64, 64, kernel_size=(3, 3), stride=(1, 1))\n",
       "    (8): ReLU()\n",
       "    (9): MaxPool2d(kernel_size=2, stride=2, padding=0, dilation=1, ceil_mode=False)\n",
       "    (10): Conv2d(64, 128, kernel_size=(3, 3), stride=(1, 1), padding=(1, 1))\n",
       "    (11): ReLU()\n",
       "    (12): Conv2d(128, 128, kernel_size=(3, 3), stride=(1, 1))\n",
       "    (13): ReLU()\n",
       "    (14): MaxPool2d(kernel_size=2, stride=2, padding=0, dilation=1, ceil_mode=False)\n",
       "  )\n",
       "  (fc2): Linear(in_features=128, out_features=64, bias=True)\n",
       "  (relu): ReLU()\n",
       "  (fc3): Linear(in_features=64, out_features=64, bias=True)\n",
       "  (fc4): Linear(in_features=64, out_features=10, bias=True)\n",
       "  (softmax): Softmax(dim=-1)\n",
       ")"
      ]
     },
     "execution_count": 52,
     "metadata": {
      "tags": []
     },
     "output_type": "execute_result"
    }
   ],
   "source": [
    "SecondModel.to(device)"
   ]
  },
  {
   "cell_type": "code",
   "execution_count": 53,
   "metadata": {
    "id": "9xlFOTDdSa1_"
   },
   "outputs": [],
   "source": [
    "criterion = nn.CrossEntropyLoss()\n",
    "optimizer22 = torch.optim.RMSprop(SecondModel.parameters(), lr=0.001)"
   ]
  },
  {
   "cell_type": "code",
   "execution_count": 54,
   "metadata": {
    "colab": {
     "base_uri": "https://localhost:8080/",
     "height": 641
    },
    "id": "s85DNM1JEJ4X",
    "outputId": "7f80be29-7200-46b5-bbdb-831c15088880"
   },
   "outputs": [
    {
     "data": {
      "image/png": "[encoded data removed]",
      "text/plain": [
       "<Figure size 432x288 with 1 Axes>"
      ]
     },
     "metadata": {
      "needs_background": "light",
      "tags": []
     },
     "output_type": "display_data"
    },
    {
     "data": {
      "image/png": "[encoded data removed]",
      "text/plain": [
       "<Figure size 432x288 with 1 Axes>"
      ]
     },
     "metadata": {
      "needs_background": "light",
      "tags": []
     },
     "output_type": "display_data"
    },
    {
     "name": "stdout",
     "output_type": "stream",
     "text": [
      "Train loss: 0.01234058521191279\n",
      "Train acc: 0.8819166666666667\n",
      "Val loss: 0.012564573168754577\n",
      "Val acc: 0.8705\n"
     ]
    }
   ],
   "source": [
    "train_model(SecondModel, criterion, optimizer22, train_dataloader, eval_dataloader, 20)\n",
    "#за менее, чем 20 эпох обучается и показывает стабильные высокие метрики качества"
   ]
  },
  {
   "cell_type": "markdown",
   "metadata": {
    "id": "Ksm3tnQIRjNh"
   },
   "source": [
    "#### Третья модель"
   ]
  },
  {
   "cell_type": "markdown",
   "metadata": {
    "id": "XgiuuHjzVfJL"
   },
   "source": [
    "##### SGD with momentum"
   ]
  },
  {
   "cell_type": "code",
   "execution_count": 55,
   "metadata": {
    "id": "DZQzWChPFCBs"
   },
   "outputs": [],
   "source": [
    "criterion = nn.CrossEntropyLoss()\n",
    "optimizer13 = torch.optim.SGD(ThirdModel.parameters(), lr=0.001, momentum=0.9)"
   ]
  },
  {
   "cell_type": "code",
   "execution_count": 56,
   "metadata": {
    "colab": {
     "base_uri": "https://localhost:8080/",
     "height": 641
    },
    "id": "pB2FSSkiGvre",
    "outputId": "94c4ad50-6eb1-4f4d-d1d0-d61cd079a9d0"
   },
   "outputs": [
    {
     "data": {
      "image/png": "[encoded data removed]",
      "text/plain": [
       "<Figure size 432x288 with 1 Axes>"
      ]
     },
     "metadata": {
      "needs_background": "light",
      "tags": []
     },
     "output_type": "display_data"
    },
    {
     "data": {
      "image/png": "[encoded data removed]",
      "text/plain": [
       "<Figure size 432x288 with 1 Axes>"
      ]
     },
     "metadata": {
      "needs_background": "light",
      "tags": []
     },
     "output_type": "display_data"
    },
    {
     "name": "stdout",
     "output_type": "stream",
     "text": [
      "Train loss: 0.0008807479159906506\n",
      "Train acc: 0.9584666666666667\n",
      "Val loss: 0.0026354061514139177\n",
      "Val acc: 0.8987\n"
     ]
    }
   ],
   "source": [
    "train_model(ThirdModel, criterion, optimizer13, train_dataloader, eval_dataloader, 15)\n",
    "#достаточно быстро обучается и показывает высокую стабильную accuracy, причем уже после 10 эпох начинает переобучаться (лосс на валидации немного растет)"
   ]
  },
  {
   "cell_type": "markdown",
   "metadata": {
    "id": "5tJbDNdmVjqT"
   },
   "source": [
    "##### RMSprop"
   ]
  },
  {
   "cell_type": "code",
   "execution_count": 57,
   "metadata": {
    "id": "0cuziGG5VmPb"
   },
   "outputs": [],
   "source": [
    "class ThirdModel(nn.Module):\n",
    "    def __init__(self):\n",
    "        super(ThirdModel, self).__init__()\n",
    "        self.conv = nn.Conv2d(1, 32, 7)\n",
    "        self.batch_norm = nn.BatchNorm2d(32)\n",
    "        self.elu = nn.ELU()\n",
    "        self.pool = nn.MaxPool2d(2)\n",
    "        self.conv1 = nn.Sequential(\n",
    "            nn.Conv2d(in_channels=32, out_channels=32, kernel_size=3, padding=1),\n",
    "            nn.BatchNorm2d(32),\n",
    "            torch.nn.ReLU(),\n",
    "            nn.Conv2d(in_channels=32, out_channels=32, kernel_size=3, padding=1),\n",
    "            nn.BatchNorm2d(32),\n",
    "            torch.nn.MaxPool2d(kernel_size=2),\n",
    "        )\n",
    "        self.conv2 = torch.nn.Sequential(\n",
    "            torch.nn.Conv2d(in_channels=32, out_channels=64, kernel_size=3, padding=1),\n",
    "            nn.BatchNorm2d(64),\n",
    "            torch.nn.ReLU(),\n",
    "            nn.Conv2d(in_channels=64, out_channels=64, kernel_size=3, padding=1),\n",
    "            nn.BatchNorm2d(64),\n",
    "            torch.nn.MaxPool2d(kernel_size=2),\n",
    "        )\n",
    "        self.conv3 = torch.nn.Sequential(\n",
    "            torch.nn.Conv2d(in_channels=64, out_channels=128, kernel_size=2, padding=1),\n",
    "            nn.BatchNorm2d(128),\n",
    "            torch.nn.ReLU(),\n",
    "            torch.nn.Conv2d(in_channels=128, out_channels=128, kernel_size=2, padding=1),\n",
    "            nn.BatchNorm2d(128),\n",
    "            torch.nn.MaxPool2d(kernel_size=2),\n",
    "        )\n",
    "        self.linear1 = torch.nn.Linear(in_features=512, out_features=128)\n",
    "        self.relu = nn.ReLU()\n",
    "        self.linear2 = torch.nn.Linear(in_features=128, out_features=64)\n",
    "        self.relu = nn.ReLU()\n",
    "        self.linear3 = torch.nn.Linear(in_features=64, out_features=64)\n",
    "        self.relu = nn.ReLU()\n",
    "        self.output = torch.nn.Linear(in_features=64, out_features=10)\n",
    "\n",
    "    def forward(self, x):\n",
    "        x = self.conv(x)\n",
    "        x = self.elu(self.batch_norm(x))\n",
    "        x = self.pool(x)\n",
    "        x = self.conv1(x)\n",
    "        x = self.conv2(x)\n",
    "        x = self.conv3(x)\n",
    "        x = nn.Flatten()(x)\n",
    "        x = self.relu(self.linear1(x))\n",
    "        x = self.relu(self.linear2(x))\n",
    "        x = self.relu(self.linear3(x))\n",
    "        return self.output(x)\n",
    "\n",
    "\n",
    "ThirdModel = ThirdModel()"
   ]
  },
  {
   "cell_type": "code",
   "execution_count": 58,
   "metadata": {
    "colab": {
     "base_uri": "https://localhost:8080/",
     "height": 612
    },
    "id": "rtOwJGuTVnAp",
    "outputId": "cf86a525-9666-466b-af0c-f0343f67c09c"
   },
   "outputs": [
    {
     "data": {
      "text/plain": [
       "ThirdModel(\n",
       "  (conv): Conv2d(1, 32, kernel_size=(7, 7), stride=(1, 1))\n",
       "  (batch_norm): BatchNorm2d(32, eps=1e-05, momentum=0.1, affine=True, track_running_stats=True)\n",
       "  (elu): ELU(alpha=1.0)\n",
       "  (pool): MaxPool2d(kernel_size=2, stride=2, padding=0, dilation=1, ceil_mode=False)\n",
       "  (conv1): Sequential(\n",
       "    (0): Conv2d(32, 32, kernel_size=(3, 3), stride=(1, 1), padding=(1, 1))\n",
       "    (1): BatchNorm2d(32, eps=1e-05, momentum=0.1, affine=True, track_running_stats=True)\n",
       "    (2): ReLU()\n",
       "    (3): Conv2d(32, 32, kernel_size=(3, 3), stride=(1, 1), padding=(1, 1))\n",
       "    (4): BatchNorm2d(32, eps=1e-05, momentum=0.1, affine=True, track_running_stats=True)\n",
       "    (5): MaxPool2d(kernel_size=2, stride=2, padding=0, dilation=1, ceil_mode=False)\n",
       "  )\n",
       "  (conv2): Sequential(\n",
       "    (0): Conv2d(32, 64, kernel_size=(3, 3), stride=(1, 1), padding=(1, 1))\n",
       "    (1): BatchNorm2d(64, eps=1e-05, momentum=0.1, affine=True, track_running_stats=True)\n",
       "    (2): ReLU()\n",
       "    (3): Conv2d(64, 64, kernel_size=(3, 3), stride=(1, 1), padding=(1, 1))\n",
       "    (4): BatchNorm2d(64, eps=1e-05, momentum=0.1, affine=True, track_running_stats=True)\n",
       "    (5): MaxPool2d(kernel_size=2, stride=2, padding=0, dilation=1, ceil_mode=False)\n",
       "  )\n",
       "  (conv3): Sequential(\n",
       "    (0): Conv2d(64, 128, kernel_size=(2, 2), stride=(1, 1), padding=(1, 1))\n",
       "    (1): BatchNorm2d(128, eps=1e-05, momentum=0.1, affine=True, track_running_stats=True)\n",
       "    (2): ReLU()\n",
       "    (3): Conv2d(128, 128, kernel_size=(2, 2), stride=(1, 1), padding=(1, 1))\n",
       "    (4): BatchNorm2d(128, eps=1e-05, momentum=0.1, affine=True, track_running_stats=True)\n",
       "    (5): MaxPool2d(kernel_size=2, stride=2, padding=0, dilation=1, ceil_mode=False)\n",
       "  )\n",
       "  (linear1): Linear(in_features=512, out_features=128, bias=True)\n",
       "  (relu): ReLU()\n",
       "  (linear2): Linear(in_features=128, out_features=64, bias=True)\n",
       "  (linear3): Linear(in_features=64, out_features=64, bias=True)\n",
       "  (output): Linear(in_features=64, out_features=10, bias=True)\n",
       ")"
      ]
     },
     "execution_count": 58,
     "metadata": {
      "tags": []
     },
     "output_type": "execute_result"
    }
   ],
   "source": [
    "ThirdModel.to(device)"
   ]
  },
  {
   "cell_type": "code",
   "execution_count": 59,
   "metadata": {
    "id": "2J_EooxbVQkM"
   },
   "outputs": [],
   "source": [
    "criterion = nn.CrossEntropyLoss()\n",
    "optimizer23 = torch.optim.RMSprop(ThirdModel.parameters(), lr=0.001)"
   ]
  },
  {
   "cell_type": "code",
   "execution_count": 60,
   "metadata": {
    "colab": {
     "base_uri": "https://localhost:8080/",
     "height": 641
    },
    "id": "pdgQmzeXG0BR",
    "outputId": "c2c440dd-e568-409c-ab02-c9921722f770"
   },
   "outputs": [
    {
     "data": {
      "image/png": "[encoded data removed]",
      "text/plain": [
       "<Figure size 432x288 with 1 Axes>"
      ]
     },
     "metadata": {
      "needs_background": "light",
      "tags": []
     },
     "output_type": "display_data"
    },
    {
     "data": {
      "image/png": "[encoded data removed]",
      "text/plain": [
       "<Figure size 432x288 with 1 Axes>"
      ]
     },
     "metadata": {
      "needs_background": "light",
      "tags": []
     },
     "output_type": "display_data"
    },
    {
     "name": "stdout",
     "output_type": "stream",
     "text": [
      "Train loss: 0.0009485399805630246\n",
      "Train acc: 0.9560333333333333\n",
      "Val loss: 0.002432536727935076\n",
      "Val acc: 0.9096\n"
     ]
    }
   ],
   "source": [
    "train_model(ThirdModel, criterion, optimizer23, train_dataloader, eval_dataloader, 15)"
   ]
  },
  {
   "cell_type": "markdown",
   "metadata": {
    "id": "tfxVgwulYM3y"
   },
   "source": [
    "#### Вывод\n",
    "\n",
    "Построенные модели отличались уровнем сложности и глубиной (первая модель-полносвязная, вторая модель с VGG блоком, третья модель - подобие ResNet).\n",
    "\n",
    "Более того, к ним были применены разные оптимизаторы: SGD with momentum, RMSprop, последний считается лучше, так как в нем регулируются скорости изменений различных весов (адаптивный шаг оптимизации), что способствует общей оптимизации всех параметров.\n",
    "\n",
    "Таким образом, по построенным моделям и визуализации их метрик видно, что более глубокие модели показывают лучше качество (хотя для VGG требуется больше эпох), так как они учитывают больше паттернов и оптимизируют больше количество весов. Также модели с RMSprop лучше показывают качество, что подтверждает более сложную и умную конструкцию этого оптимизатора относительно SGD with momentum.\n",
    "\n",
    "А самой лучшей моделью стала третья с RMSprop (ResNet with RMSprop), показывая после 15 эпох качество в 91% accuracy."
   ]
  },
  {
   "cell_type": "code",
   "execution_count": null,
   "metadata": {
    "id": "K8yMl9fGYQV3"
   },
   "outputs": [],
   "source": []
  }
 ],
 "metadata": {
  "accelerator": "GPU",
  "colab": {
   "collapsed_sections": [],
   "name": "my_hw1.ipynb",
   "provenance": []
  },
  "kernelspec": {
   "display_name": "Python 3",
   "language": "python",
   "name": "python3"
  },
  "language_info": {
   "codemirror_mode": {
    "name": "ipython",
    "version": 3
   },
   "file_extension": ".py",
   "mimetype": "text/x-python",
   "name": "python",
   "nbconvert_exporter": "python",
   "pygments_lexer": "ipython3",
   "version": "3.8.5"
  }
 },
 "nbformat": 4,
 "nbformat_minor": 1
}
