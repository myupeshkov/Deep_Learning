{
  "nbformat": 4,
  "nbformat_minor": 0,
  "metadata": {
    "kernelspec": {
      "display_name": "Python 3",
      "language": "python",
      "name": "python3"
    },
    "language_info": {
      "codemirror_mode": {
        "name": "ipython",
        "version": 3
      },
      "file_extension": ".py",
      "mimetype": "text/x-python",
      "name": "python",
      "nbconvert_exporter": "python",
      "pygments_lexer": "ipython3",
      "version": "3.8.3"
    },
    "colab": {
      "name": "sem8.ipynb",
      "provenance": [],
      "collapsed_sections": []
    },
    "accelerator": "GPU",
    "widgets": {
      "application/vnd.jupyter.widget-state+json": {
        "2dd0b3c7bdaf4edcbd121e2f321f451a": {
          "model_module": "@jupyter-widgets/controls",
          "model_name": "HBoxModel",
          "state": {
            "_view_name": "HBoxView",
            "_dom_classes": [],
            "_model_name": "HBoxModel",
            "_view_module": "@jupyter-widgets/controls",
            "_model_module_version": "1.5.0",
            "_view_count": null,
            "_view_module_version": "1.5.0",
            "box_style": "",
            "layout": "IPY_MODEL_485071b15a4a452d9f47c2eee934ff22",
            "_model_module": "@jupyter-widgets/controls",
            "children": [
              "IPY_MODEL_8e744f5b4c8e48798bc071923430f321",
              "IPY_MODEL_79bc819e80314f23991ec89c55330894"
            ]
          }
        },
        "485071b15a4a452d9f47c2eee934ff22": {
          "model_module": "@jupyter-widgets/base",
          "model_name": "LayoutModel",
          "state": {
            "_view_name": "LayoutView",
            "grid_template_rows": null,
            "right": null,
            "justify_content": null,
            "_view_module": "@jupyter-widgets/base",
            "overflow": null,
            "_model_module_version": "1.2.0",
            "_view_count": null,
            "flex_flow": null,
            "width": null,
            "min_width": null,
            "border": null,
            "align_items": null,
            "bottom": null,
            "_model_module": "@jupyter-widgets/base",
            "top": null,
            "grid_column": null,
            "overflow_y": null,
            "overflow_x": null,
            "grid_auto_flow": null,
            "grid_area": null,
            "grid_template_columns": null,
            "flex": null,
            "_model_name": "LayoutModel",
            "justify_items": null,
            "grid_row": null,
            "max_height": null,
            "align_content": null,
            "visibility": null,
            "align_self": null,
            "height": null,
            "min_height": null,
            "padding": null,
            "grid_auto_rows": null,
            "grid_gap": null,
            "max_width": null,
            "order": null,
            "_view_module_version": "1.2.0",
            "grid_template_areas": null,
            "object_position": null,
            "object_fit": null,
            "grid_auto_columns": null,
            "margin": null,
            "display": null,
            "left": null
          }
        },
        "8e744f5b4c8e48798bc071923430f321": {
          "model_module": "@jupyter-widgets/controls",
          "model_name": "FloatProgressModel",
          "state": {
            "_view_name": "ProgressView",
            "style": "IPY_MODEL_c98604634577451f8a38deb83bec6437",
            "_dom_classes": [],
            "description": "",
            "_model_name": "FloatProgressModel",
            "bar_style": "info",
            "max": 1,
            "_view_module": "@jupyter-widgets/controls",
            "_model_module_version": "1.5.0",
            "value": 1,
            "_view_count": null,
            "_view_module_version": "1.5.0",
            "orientation": "horizontal",
            "min": 0,
            "description_tooltip": null,
            "_model_module": "@jupyter-widgets/controls",
            "layout": "IPY_MODEL_b8834c7b3db74b2ba23edb356d439849"
          }
        },
        "79bc819e80314f23991ec89c55330894": {
          "model_module": "@jupyter-widgets/controls",
          "model_name": "HTMLModel",
          "state": {
            "_view_name": "HTMLView",
            "style": "IPY_MODEL_8f02e4d7d8b241faa145de527becbbeb",
            "_dom_classes": [],
            "description": "",
            "_model_name": "HTMLModel",
            "placeholder": "​",
            "_view_module": "@jupyter-widgets/controls",
            "_model_module_version": "1.5.0",
            "value": " 9920512/? [00:20&lt;00:00, 1464330.56it/s]",
            "_view_count": null,
            "_view_module_version": "1.5.0",
            "description_tooltip": null,
            "_model_module": "@jupyter-widgets/controls",
            "layout": "IPY_MODEL_83f2998eadaa41229c783a8fbc9a482d"
          }
        },
        "c98604634577451f8a38deb83bec6437": {
          "model_module": "@jupyter-widgets/controls",
          "model_name": "ProgressStyleModel",
          "state": {
            "_view_name": "StyleView",
            "_model_name": "ProgressStyleModel",
            "description_width": "initial",
            "_view_module": "@jupyter-widgets/base",
            "_model_module_version": "1.5.0",
            "_view_count": null,
            "_view_module_version": "1.2.0",
            "bar_color": null,
            "_model_module": "@jupyter-widgets/controls"
          }
        },
        "b8834c7b3db74b2ba23edb356d439849": {
          "model_module": "@jupyter-widgets/base",
          "model_name": "LayoutModel",
          "state": {
            "_view_name": "LayoutView",
            "grid_template_rows": null,
            "right": null,
            "justify_content": null,
            "_view_module": "@jupyter-widgets/base",
            "overflow": null,
            "_model_module_version": "1.2.0",
            "_view_count": null,
            "flex_flow": null,
            "width": null,
            "min_width": null,
            "border": null,
            "align_items": null,
            "bottom": null,
            "_model_module": "@jupyter-widgets/base",
            "top": null,
            "grid_column": null,
            "overflow_y": null,
            "overflow_x": null,
            "grid_auto_flow": null,
            "grid_area": null,
            "grid_template_columns": null,
            "flex": null,
            "_model_name": "LayoutModel",
            "justify_items": null,
            "grid_row": null,
            "max_height": null,
            "align_content": null,
            "visibility": null,
            "align_self": null,
            "height": null,
            "min_height": null,
            "padding": null,
            "grid_auto_rows": null,
            "grid_gap": null,
            "max_width": null,
            "order": null,
            "_view_module_version": "1.2.0",
            "grid_template_areas": null,
            "object_position": null,
            "object_fit": null,
            "grid_auto_columns": null,
            "margin": null,
            "display": null,
            "left": null
          }
        },
        "8f02e4d7d8b241faa145de527becbbeb": {
          "model_module": "@jupyter-widgets/controls",
          "model_name": "DescriptionStyleModel",
          "state": {
            "_view_name": "StyleView",
            "_model_name": "DescriptionStyleModel",
            "description_width": "",
            "_view_module": "@jupyter-widgets/base",
            "_model_module_version": "1.5.0",
            "_view_count": null,
            "_view_module_version": "1.2.0",
            "_model_module": "@jupyter-widgets/controls"
          }
        },
        "83f2998eadaa41229c783a8fbc9a482d": {
          "model_module": "@jupyter-widgets/base",
          "model_name": "LayoutModel",
          "state": {
            "_view_name": "LayoutView",
            "grid_template_rows": null,
            "right": null,
            "justify_content": null,
            "_view_module": "@jupyter-widgets/base",
            "overflow": null,
            "_model_module_version": "1.2.0",
            "_view_count": null,
            "flex_flow": null,
            "width": null,
            "min_width": null,
            "border": null,
            "align_items": null,
            "bottom": null,
            "_model_module": "@jupyter-widgets/base",
            "top": null,
            "grid_column": null,
            "overflow_y": null,
            "overflow_x": null,
            "grid_auto_flow": null,
            "grid_area": null,
            "grid_template_columns": null,
            "flex": null,
            "_model_name": "LayoutModel",
            "justify_items": null,
            "grid_row": null,
            "max_height": null,
            "align_content": null,
            "visibility": null,
            "align_self": null,
            "height": null,
            "min_height": null,
            "padding": null,
            "grid_auto_rows": null,
            "grid_gap": null,
            "max_width": null,
            "order": null,
            "_view_module_version": "1.2.0",
            "grid_template_areas": null,
            "object_position": null,
            "object_fit": null,
            "grid_auto_columns": null,
            "margin": null,
            "display": null,
            "left": null
          }
        },
        "10477d67b35e4c86b7e63e3c7ece7b72": {
          "model_module": "@jupyter-widgets/controls",
          "model_name": "HBoxModel",
          "state": {
            "_view_name": "HBoxView",
            "_dom_classes": [],
            "_model_name": "HBoxModel",
            "_view_module": "@jupyter-widgets/controls",
            "_model_module_version": "1.5.0",
            "_view_count": null,
            "_view_module_version": "1.5.0",
            "box_style": "",
            "layout": "IPY_MODEL_b9e53c6e86894472ab410fab3100f208",
            "_model_module": "@jupyter-widgets/controls",
            "children": [
              "IPY_MODEL_a8e68c9664bb424e8d2d345b36f16054",
              "IPY_MODEL_50f6649094604519a9a450a05154d727"
            ]
          }
        },
        "b9e53c6e86894472ab410fab3100f208": {
          "model_module": "@jupyter-widgets/base",
          "model_name": "LayoutModel",
          "state": {
            "_view_name": "LayoutView",
            "grid_template_rows": null,
            "right": null,
            "justify_content": null,
            "_view_module": "@jupyter-widgets/base",
            "overflow": null,
            "_model_module_version": "1.2.0",
            "_view_count": null,
            "flex_flow": null,
            "width": null,
            "min_width": null,
            "border": null,
            "align_items": null,
            "bottom": null,
            "_model_module": "@jupyter-widgets/base",
            "top": null,
            "grid_column": null,
            "overflow_y": null,
            "overflow_x": null,
            "grid_auto_flow": null,
            "grid_area": null,
            "grid_template_columns": null,
            "flex": null,
            "_model_name": "LayoutModel",
            "justify_items": null,
            "grid_row": null,
            "max_height": null,
            "align_content": null,
            "visibility": null,
            "align_self": null,
            "height": null,
            "min_height": null,
            "padding": null,
            "grid_auto_rows": null,
            "grid_gap": null,
            "max_width": null,
            "order": null,
            "_view_module_version": "1.2.0",
            "grid_template_areas": null,
            "object_position": null,
            "object_fit": null,
            "grid_auto_columns": null,
            "margin": null,
            "display": null,
            "left": null
          }
        },
        "a8e68c9664bb424e8d2d345b36f16054": {
          "model_module": "@jupyter-widgets/controls",
          "model_name": "FloatProgressModel",
          "state": {
            "_view_name": "ProgressView",
            "style": "IPY_MODEL_c212d8feecb042b3810477844ba2cfda",
            "_dom_classes": [],
            "description": "",
            "_model_name": "FloatProgressModel",
            "bar_style": "success",
            "max": 1,
            "_view_module": "@jupyter-widgets/controls",
            "_model_module_version": "1.5.0",
            "value": 1,
            "_view_count": null,
            "_view_module_version": "1.5.0",
            "orientation": "horizontal",
            "min": 0,
            "description_tooltip": null,
            "_model_module": "@jupyter-widgets/controls",
            "layout": "IPY_MODEL_eb8a6fbbecca41b092e0027282ffb8d4"
          }
        },
        "50f6649094604519a9a450a05154d727": {
          "model_module": "@jupyter-widgets/controls",
          "model_name": "HTMLModel",
          "state": {
            "_view_name": "HTMLView",
            "style": "IPY_MODEL_2a9a0709929b4ebbba55c6c6f2f4322a",
            "_dom_classes": [],
            "description": "",
            "_model_name": "HTMLModel",
            "placeholder": "​",
            "_view_module": "@jupyter-widgets/controls",
            "_model_module_version": "1.5.0",
            "value": " 32768/? [00:01&lt;00:00, 22570.56it/s]",
            "_view_count": null,
            "_view_module_version": "1.5.0",
            "description_tooltip": null,
            "_model_module": "@jupyter-widgets/controls",
            "layout": "IPY_MODEL_daf91f1c32d64579b37866e455373c1a"
          }
        },
        "c212d8feecb042b3810477844ba2cfda": {
          "model_module": "@jupyter-widgets/controls",
          "model_name": "ProgressStyleModel",
          "state": {
            "_view_name": "StyleView",
            "_model_name": "ProgressStyleModel",
            "description_width": "initial",
            "_view_module": "@jupyter-widgets/base",
            "_model_module_version": "1.5.0",
            "_view_count": null,
            "_view_module_version": "1.2.0",
            "bar_color": null,
            "_model_module": "@jupyter-widgets/controls"
          }
        },
        "eb8a6fbbecca41b092e0027282ffb8d4": {
          "model_module": "@jupyter-widgets/base",
          "model_name": "LayoutModel",
          "state": {
            "_view_name": "LayoutView",
            "grid_template_rows": null,
            "right": null,
            "justify_content": null,
            "_view_module": "@jupyter-widgets/base",
            "overflow": null,
            "_model_module_version": "1.2.0",
            "_view_count": null,
            "flex_flow": null,
            "width": null,
            "min_width": null,
            "border": null,
            "align_items": null,
            "bottom": null,
            "_model_module": "@jupyter-widgets/base",
            "top": null,
            "grid_column": null,
            "overflow_y": null,
            "overflow_x": null,
            "grid_auto_flow": null,
            "grid_area": null,
            "grid_template_columns": null,
            "flex": null,
            "_model_name": "LayoutModel",
            "justify_items": null,
            "grid_row": null,
            "max_height": null,
            "align_content": null,
            "visibility": null,
            "align_self": null,
            "height": null,
            "min_height": null,
            "padding": null,
            "grid_auto_rows": null,
            "grid_gap": null,
            "max_width": null,
            "order": null,
            "_view_module_version": "1.2.0",
            "grid_template_areas": null,
            "object_position": null,
            "object_fit": null,
            "grid_auto_columns": null,
            "margin": null,
            "display": null,
            "left": null
          }
        },
        "2a9a0709929b4ebbba55c6c6f2f4322a": {
          "model_module": "@jupyter-widgets/controls",
          "model_name": "DescriptionStyleModel",
          "state": {
            "_view_name": "StyleView",
            "_model_name": "DescriptionStyleModel",
            "description_width": "",
            "_view_module": "@jupyter-widgets/base",
            "_model_module_version": "1.5.0",
            "_view_count": null,
            "_view_module_version": "1.2.0",
            "_model_module": "@jupyter-widgets/controls"
          }
        },
        "daf91f1c32d64579b37866e455373c1a": {
          "model_module": "@jupyter-widgets/base",
          "model_name": "LayoutModel",
          "state": {
            "_view_name": "LayoutView",
            "grid_template_rows": null,
            "right": null,
            "justify_content": null,
            "_view_module": "@jupyter-widgets/base",
            "overflow": null,
            "_model_module_version": "1.2.0",
            "_view_count": null,
            "flex_flow": null,
            "width": null,
            "min_width": null,
            "border": null,
            "align_items": null,
            "bottom": null,
            "_model_module": "@jupyter-widgets/base",
            "top": null,
            "grid_column": null,
            "overflow_y": null,
            "overflow_x": null,
            "grid_auto_flow": null,
            "grid_area": null,
            "grid_template_columns": null,
            "flex": null,
            "_model_name": "LayoutModel",
            "justify_items": null,
            "grid_row": null,
            "max_height": null,
            "align_content": null,
            "visibility": null,
            "align_self": null,
            "height": null,
            "min_height": null,
            "padding": null,
            "grid_auto_rows": null,
            "grid_gap": null,
            "max_width": null,
            "order": null,
            "_view_module_version": "1.2.0",
            "grid_template_areas": null,
            "object_position": null,
            "object_fit": null,
            "grid_auto_columns": null,
            "margin": null,
            "display": null,
            "left": null
          }
        },
        "f9cbe9d42b0846d3a9733205b3c7af45": {
          "model_module": "@jupyter-widgets/controls",
          "model_name": "HBoxModel",
          "state": {
            "_view_name": "HBoxView",
            "_dom_classes": [],
            "_model_name": "HBoxModel",
            "_view_module": "@jupyter-widgets/controls",
            "_model_module_version": "1.5.0",
            "_view_count": null,
            "_view_module_version": "1.5.0",
            "box_style": "",
            "layout": "IPY_MODEL_76c76facbd584430a04f32cb89d751e2",
            "_model_module": "@jupyter-widgets/controls",
            "children": [
              "IPY_MODEL_323d904e30d143daa1113d2698d6ac9d",
              "IPY_MODEL_25f77c34a0a0447e9dfbb49da34c9f88"
            ]
          }
        },
        "76c76facbd584430a04f32cb89d751e2": {
          "model_module": "@jupyter-widgets/base",
          "model_name": "LayoutModel",
          "state": {
            "_view_name": "LayoutView",
            "grid_template_rows": null,
            "right": null,
            "justify_content": null,
            "_view_module": "@jupyter-widgets/base",
            "overflow": null,
            "_model_module_version": "1.2.0",
            "_view_count": null,
            "flex_flow": null,
            "width": null,
            "min_width": null,
            "border": null,
            "align_items": null,
            "bottom": null,
            "_model_module": "@jupyter-widgets/base",
            "top": null,
            "grid_column": null,
            "overflow_y": null,
            "overflow_x": null,
            "grid_auto_flow": null,
            "grid_area": null,
            "grid_template_columns": null,
            "flex": null,
            "_model_name": "LayoutModel",
            "justify_items": null,
            "grid_row": null,
            "max_height": null,
            "align_content": null,
            "visibility": null,
            "align_self": null,
            "height": null,
            "min_height": null,
            "padding": null,
            "grid_auto_rows": null,
            "grid_gap": null,
            "max_width": null,
            "order": null,
            "_view_module_version": "1.2.0",
            "grid_template_areas": null,
            "object_position": null,
            "object_fit": null,
            "grid_auto_columns": null,
            "margin": null,
            "display": null,
            "left": null
          }
        },
        "323d904e30d143daa1113d2698d6ac9d": {
          "model_module": "@jupyter-widgets/controls",
          "model_name": "FloatProgressModel",
          "state": {
            "_view_name": "ProgressView",
            "style": "IPY_MODEL_f26157a49c2e477ca3d7a65f38da3d93",
            "_dom_classes": [],
            "description": "",
            "_model_name": "FloatProgressModel",
            "bar_style": "success",
            "max": 1,
            "_view_module": "@jupyter-widgets/controls",
            "_model_module_version": "1.5.0",
            "value": 1,
            "_view_count": null,
            "_view_module_version": "1.5.0",
            "orientation": "horizontal",
            "min": 0,
            "description_tooltip": null,
            "_model_module": "@jupyter-widgets/controls",
            "layout": "IPY_MODEL_a03bd334de0f4dc3ab9f779c6578d88e"
          }
        },
        "25f77c34a0a0447e9dfbb49da34c9f88": {
          "model_module": "@jupyter-widgets/controls",
          "model_name": "HTMLModel",
          "state": {
            "_view_name": "HTMLView",
            "style": "IPY_MODEL_2883a8bae24b439ca0b319e01eb181c4",
            "_dom_classes": [],
            "description": "",
            "_model_name": "HTMLModel",
            "placeholder": "​",
            "_view_module": "@jupyter-widgets/controls",
            "_model_module_version": "1.5.0",
            "value": " 1654784/? [00:01&lt;00:00, 1549753.16it/s]",
            "_view_count": null,
            "_view_module_version": "1.5.0",
            "description_tooltip": null,
            "_model_module": "@jupyter-widgets/controls",
            "layout": "IPY_MODEL_eac52b0ec3264e068d7c19aceecd9885"
          }
        },
        "f26157a49c2e477ca3d7a65f38da3d93": {
          "model_module": "@jupyter-widgets/controls",
          "model_name": "ProgressStyleModel",
          "state": {
            "_view_name": "StyleView",
            "_model_name": "ProgressStyleModel",
            "description_width": "initial",
            "_view_module": "@jupyter-widgets/base",
            "_model_module_version": "1.5.0",
            "_view_count": null,
            "_view_module_version": "1.2.0",
            "bar_color": null,
            "_model_module": "@jupyter-widgets/controls"
          }
        },
        "a03bd334de0f4dc3ab9f779c6578d88e": {
          "model_module": "@jupyter-widgets/base",
          "model_name": "LayoutModel",
          "state": {
            "_view_name": "LayoutView",
            "grid_template_rows": null,
            "right": null,
            "justify_content": null,
            "_view_module": "@jupyter-widgets/base",
            "overflow": null,
            "_model_module_version": "1.2.0",
            "_view_count": null,
            "flex_flow": null,
            "width": null,
            "min_width": null,
            "border": null,
            "align_items": null,
            "bottom": null,
            "_model_module": "@jupyter-widgets/base",
            "top": null,
            "grid_column": null,
            "overflow_y": null,
            "overflow_x": null,
            "grid_auto_flow": null,
            "grid_area": null,
            "grid_template_columns": null,
            "flex": null,
            "_model_name": "LayoutModel",
            "justify_items": null,
            "grid_row": null,
            "max_height": null,
            "align_content": null,
            "visibility": null,
            "align_self": null,
            "height": null,
            "min_height": null,
            "padding": null,
            "grid_auto_rows": null,
            "grid_gap": null,
            "max_width": null,
            "order": null,
            "_view_module_version": "1.2.0",
            "grid_template_areas": null,
            "object_position": null,
            "object_fit": null,
            "grid_auto_columns": null,
            "margin": null,
            "display": null,
            "left": null
          }
        },
        "2883a8bae24b439ca0b319e01eb181c4": {
          "model_module": "@jupyter-widgets/controls",
          "model_name": "DescriptionStyleModel",
          "state": {
            "_view_name": "StyleView",
            "_model_name": "DescriptionStyleModel",
            "description_width": "",
            "_view_module": "@jupyter-widgets/base",
            "_model_module_version": "1.5.0",
            "_view_count": null,
            "_view_module_version": "1.2.0",
            "_model_module": "@jupyter-widgets/controls"
          }
        },
        "eac52b0ec3264e068d7c19aceecd9885": {
          "model_module": "@jupyter-widgets/base",
          "model_name": "LayoutModel",
          "state": {
            "_view_name": "LayoutView",
            "grid_template_rows": null,
            "right": null,
            "justify_content": null,
            "_view_module": "@jupyter-widgets/base",
            "overflow": null,
            "_model_module_version": "1.2.0",
            "_view_count": null,
            "flex_flow": null,
            "width": null,
            "min_width": null,
            "border": null,
            "align_items": null,
            "bottom": null,
            "_model_module": "@jupyter-widgets/base",
            "top": null,
            "grid_column": null,
            "overflow_y": null,
            "overflow_x": null,
            "grid_auto_flow": null,
            "grid_area": null,
            "grid_template_columns": null,
            "flex": null,
            "_model_name": "LayoutModel",
            "justify_items": null,
            "grid_row": null,
            "max_height": null,
            "align_content": null,
            "visibility": null,
            "align_self": null,
            "height": null,
            "min_height": null,
            "padding": null,
            "grid_auto_rows": null,
            "grid_gap": null,
            "max_width": null,
            "order": null,
            "_view_module_version": "1.2.0",
            "grid_template_areas": null,
            "object_position": null,
            "object_fit": null,
            "grid_auto_columns": null,
            "margin": null,
            "display": null,
            "left": null
          }
        },
        "21cf4e3d1b284ca192e866599355c38a": {
          "model_module": "@jupyter-widgets/controls",
          "model_name": "HBoxModel",
          "state": {
            "_view_name": "HBoxView",
            "_dom_classes": [],
            "_model_name": "HBoxModel",
            "_view_module": "@jupyter-widgets/controls",
            "_model_module_version": "1.5.0",
            "_view_count": null,
            "_view_module_version": "1.5.0",
            "box_style": "",
            "layout": "IPY_MODEL_945a3579579343619037d660c308b424",
            "_model_module": "@jupyter-widgets/controls",
            "children": [
              "IPY_MODEL_6e738db89f8846e3ac95142cce3b369a",
              "IPY_MODEL_b4e925d9ac304712bfc091d7ebc75e7c"
            ]
          }
        },
        "945a3579579343619037d660c308b424": {
          "model_module": "@jupyter-widgets/base",
          "model_name": "LayoutModel",
          "state": {
            "_view_name": "LayoutView",
            "grid_template_rows": null,
            "right": null,
            "justify_content": null,
            "_view_module": "@jupyter-widgets/base",
            "overflow": null,
            "_model_module_version": "1.2.0",
            "_view_count": null,
            "flex_flow": null,
            "width": null,
            "min_width": null,
            "border": null,
            "align_items": null,
            "bottom": null,
            "_model_module": "@jupyter-widgets/base",
            "top": null,
            "grid_column": null,
            "overflow_y": null,
            "overflow_x": null,
            "grid_auto_flow": null,
            "grid_area": null,
            "grid_template_columns": null,
            "flex": null,
            "_model_name": "LayoutModel",
            "justify_items": null,
            "grid_row": null,
            "max_height": null,
            "align_content": null,
            "visibility": null,
            "align_self": null,
            "height": null,
            "min_height": null,
            "padding": null,
            "grid_auto_rows": null,
            "grid_gap": null,
            "max_width": null,
            "order": null,
            "_view_module_version": "1.2.0",
            "grid_template_areas": null,
            "object_position": null,
            "object_fit": null,
            "grid_auto_columns": null,
            "margin": null,
            "display": null,
            "left": null
          }
        },
        "6e738db89f8846e3ac95142cce3b369a": {
          "model_module": "@jupyter-widgets/controls",
          "model_name": "FloatProgressModel",
          "state": {
            "_view_name": "ProgressView",
            "style": "IPY_MODEL_eac35940e7fd4a7da1631f14a05e5017",
            "_dom_classes": [],
            "description": "",
            "_model_name": "FloatProgressModel",
            "bar_style": "success",
            "max": 1,
            "_view_module": "@jupyter-widgets/controls",
            "_model_module_version": "1.5.0",
            "value": 1,
            "_view_count": null,
            "_view_module_version": "1.5.0",
            "orientation": "horizontal",
            "min": 0,
            "description_tooltip": null,
            "_model_module": "@jupyter-widgets/controls",
            "layout": "IPY_MODEL_c6f9fae3bc4a4183ba3071ee6715465f"
          }
        },
        "b4e925d9ac304712bfc091d7ebc75e7c": {
          "model_module": "@jupyter-widgets/controls",
          "model_name": "HTMLModel",
          "state": {
            "_view_name": "HTMLView",
            "style": "IPY_MODEL_cb57e711795b477d97726280c65020ae",
            "_dom_classes": [],
            "description": "",
            "_model_name": "HTMLModel",
            "placeholder": "​",
            "_view_module": "@jupyter-widgets/controls",
            "_model_module_version": "1.5.0",
            "value": " 8192/? [00:00&lt;00:00, 23336.87it/s]",
            "_view_count": null,
            "_view_module_version": "1.5.0",
            "description_tooltip": null,
            "_model_module": "@jupyter-widgets/controls",
            "layout": "IPY_MODEL_3a5c758418674b88b2aab24ab2761199"
          }
        },
        "eac35940e7fd4a7da1631f14a05e5017": {
          "model_module": "@jupyter-widgets/controls",
          "model_name": "ProgressStyleModel",
          "state": {
            "_view_name": "StyleView",
            "_model_name": "ProgressStyleModel",
            "description_width": "initial",
            "_view_module": "@jupyter-widgets/base",
            "_model_module_version": "1.5.0",
            "_view_count": null,
            "_view_module_version": "1.2.0",
            "bar_color": null,
            "_model_module": "@jupyter-widgets/controls"
          }
        },
        "c6f9fae3bc4a4183ba3071ee6715465f": {
          "model_module": "@jupyter-widgets/base",
          "model_name": "LayoutModel",
          "state": {
            "_view_name": "LayoutView",
            "grid_template_rows": null,
            "right": null,
            "justify_content": null,
            "_view_module": "@jupyter-widgets/base",
            "overflow": null,
            "_model_module_version": "1.2.0",
            "_view_count": null,
            "flex_flow": null,
            "width": null,
            "min_width": null,
            "border": null,
            "align_items": null,
            "bottom": null,
            "_model_module": "@jupyter-widgets/base",
            "top": null,
            "grid_column": null,
            "overflow_y": null,
            "overflow_x": null,
            "grid_auto_flow": null,
            "grid_area": null,
            "grid_template_columns": null,
            "flex": null,
            "_model_name": "LayoutModel",
            "justify_items": null,
            "grid_row": null,
            "max_height": null,
            "align_content": null,
            "visibility": null,
            "align_self": null,
            "height": null,
            "min_height": null,
            "padding": null,
            "grid_auto_rows": null,
            "grid_gap": null,
            "max_width": null,
            "order": null,
            "_view_module_version": "1.2.0",
            "grid_template_areas": null,
            "object_position": null,
            "object_fit": null,
            "grid_auto_columns": null,
            "margin": null,
            "display": null,
            "left": null
          }
        },
        "cb57e711795b477d97726280c65020ae": {
          "model_module": "@jupyter-widgets/controls",
          "model_name": "DescriptionStyleModel",
          "state": {
            "_view_name": "StyleView",
            "_model_name": "DescriptionStyleModel",
            "description_width": "",
            "_view_module": "@jupyter-widgets/base",
            "_model_module_version": "1.5.0",
            "_view_count": null,
            "_view_module_version": "1.2.0",
            "_model_module": "@jupyter-widgets/controls"
          }
        },
        "3a5c758418674b88b2aab24ab2761199": {
          "model_module": "@jupyter-widgets/base",
          "model_name": "LayoutModel",
          "state": {
            "_view_name": "LayoutView",
            "grid_template_rows": null,
            "right": null,
            "justify_content": null,
            "_view_module": "@jupyter-widgets/base",
            "overflow": null,
            "_model_module_version": "1.2.0",
            "_view_count": null,
            "flex_flow": null,
            "width": null,
            "min_width": null,
            "border": null,
            "align_items": null,
            "bottom": null,
            "_model_module": "@jupyter-widgets/base",
            "top": null,
            "grid_column": null,
            "overflow_y": null,
            "overflow_x": null,
            "grid_auto_flow": null,
            "grid_area": null,
            "grid_template_columns": null,
            "flex": null,
            "_model_name": "LayoutModel",
            "justify_items": null,
            "grid_row": null,
            "max_height": null,
            "align_content": null,
            "visibility": null,
            "align_self": null,
            "height": null,
            "min_height": null,
            "padding": null,
            "grid_auto_rows": null,
            "grid_gap": null,
            "max_width": null,
            "order": null,
            "_view_module_version": "1.2.0",
            "grid_template_areas": null,
            "object_position": null,
            "object_fit": null,
            "grid_auto_columns": null,
            "margin": null,
            "display": null,
            "left": null
          }
        }
      }
    }
  },
  "cells": [
    {
      "cell_type": "markdown",
      "metadata": {
        "id": "8Q3m-M38TSmu"
      },
      "source": [
        "# Современные методы машинного обучения. \n",
        "# Семинар 8. Автоэнкодеры"
      ]
    },
    {
      "cell_type": "markdown",
      "metadata": {
        "id": "8qxFpVPyTSmx"
      },
      "source": [
        "## 1. Подход \n",
        "\n",
        "Автоэнкодеры - unsupervised (не требующие разметки данных) модели, которые находят применение как важные строительные блоки в огромном кол-ве сложных моделей и подходов.\n",
        "\n",
        "Идея автоэнкодера крайне проста - он состоит из двух нейронных сетей, называемых _энкодером_ и _декодером_, которые работают в тандеме. Задача энкодера - сжать исходный объект до вектора малой размерности, называемого _латентным кодом_ (или _скрытым представлением_). Задача декодера - восстановить из этого латентного кода исходный объект. \n",
        "\n",
        "![Архитектура автоэнкодера](https://miro.medium.com/max/600/1*nqzWupxC60iAH2dYrFT78Q.png)\n",
        "\n",
        "Источник картинки: [medium](https://medium.com/@birla.deepak26/autoencoders-76bb49ae6a8f)\n",
        "\n",
        "\n",
        "Обучение происходит путем уменьшения ошибки между исходным объектом и восстановленным:\n",
        "\n",
        "$$ Loss = \\sum MSE(x_i, dec(enc(x_i)) $$"
      ]
    },
    {
      "cell_type": "markdown",
      "metadata": {
        "id": "SZjUJLkHTSm1"
      },
      "source": [
        "## 2. Пишем простой автоэнкодер для MNIST\n",
        "\n",
        "Давайте реализуем и поиграемся с простым автоэнкодером, который берет изображения из датасета **MNIST** и кодирует их в латентные коды длины **k**. В этом задании надо реализовать:\n",
        "\n",
        "* Encoder\n",
        "    * Четырехслойная полносвязная сеть с каналами (784-128-64-32-k)\n",
        "* Decoder\n",
        "    * Симметричная полносвязная сеть с каналами (k-32-64-128-784) и сигмоида в конце\n",
        "* Loss функцию для обучения\n",
        "    * L2 между входом и выходом автоэнкодера"
      ]
    },
    {
      "cell_type": "code",
      "metadata": {
        "id": "aoKjDTSYTSm4"
      },
      "source": [
        "import numpy as np\n",
        "\n",
        "import torch\n",
        "from torch import nn\n",
        "from torch import optim\n",
        "import torchvision\n",
        "import torchvision.transforms as transforms\n",
        "\n",
        "import matplotlib.pyplot as plt\n",
        "%matplotlib inline\n",
        "\n",
        "from IPython.display import clear_output\n",
        "\n",
        "device = 'cuda:0'"
      ],
      "execution_count": 31,
      "outputs": []
    },
    {
      "cell_type": "code",
      "metadata": {
        "id": "kpdM0T6QTSnH"
      },
      "source": [
        "class MNISTEncoder(nn.Module):\n",
        "    def __init__(self, lat_size):\n",
        "        super(MNISTEncoder, self).__init__()\n",
        "        self.lat_size = lat_size\n",
        "        \n",
        "        \n",
        "        self.enc_net = # YOUR CODE HERE\n",
        "        \n",
        "    def forward(self, x):\n",
        "        assert x.shape[2] == x.shape[3] == 28\n",
        "        \n",
        "        z = self.enc_net(x)\n",
        "        \n",
        "        assert z.shape[0] == x.shape[0]\n",
        "        assert z.shape[1] == self.lat_size\n",
        "        \n",
        "        return z\n",
        "    \n",
        "class MNISTDecoder(nn.Module):\n",
        "    def __init__(self, lat_size):\n",
        "        super(MNISTDecoder, self).__init__()\n",
        "        self.lat_size = lat_size\n",
        "        \n",
        "        self.dec_net = # YOUR CODE HERE\n",
        "        \n",
        "    def forward(self, z):\n",
        "        assert z.shape[1] == self.lat_size\n",
        "        \n",
        "        x_rec = self.dec_net(z)\n",
        "        x_rec = x_rec.view(-1, 1, 28, 28)\n",
        "        \n",
        "        assert x_rec.shape[0] == z.shape[0]\n",
        "        \n",
        "        return x_rec"
      ],
      "execution_count": 2,
      "outputs": []
    },
    {
      "cell_type": "code",
      "metadata": {
        "id": "xxNfrV_nTSnS"
      },
      "source": [
        "class AutoEncoder(nn.Module):\n",
        "    def __init__(self, lat_size, \n",
        "                 encoder_class=MNISTEncoder, \n",
        "                 decoder_class=MNISTDecoder,\n",
        "                 criterion_class=# YOUR CODE HERE):\n",
        "        super(AutoEncoder, self).__init__()\n",
        "        \n",
        "        self.lat_size = lat_size\n",
        "        self.enc = encoder_class(lat_size)\n",
        "        self.dec = decoder_class(lat_size)\n",
        "\n",
        "        self.criterion = criterion_class()\n",
        "        \n",
        "    def encode(self, x):\n",
        "        return self.enc(x)\n",
        "    \n",
        "    def decode(self, z):\n",
        "        return self.dec(z)\n",
        "    \n",
        "    def compute_loss(self, x, return_rec=False):\n",
        "        z = self.encode(x)\n",
        "        rec_x = self.decode(z)\n",
        "        \n",
        "        loss = self.criterion(x, rec_x)\n",
        "        \n",
        "        if return_rec:\n",
        "            return loss, rec_x\n",
        "        else:\n",
        "            return loss"
      ],
      "execution_count": 3,
      "outputs": []
    },
    {
      "cell_type": "markdown",
      "metadata": {
        "id": "B535BU-tTSnZ"
      },
      "source": [
        "Теперь давайте обучим автоэнкодер"
      ]
    },
    {
      "cell_type": "code",
      "metadata": {
        "id": "gj6h-IK2TSna"
      },
      "source": [
        "def train_model(model, tr_dataloader, optimizer, num_epochs=5, verbose_num_iters=32):\n",
        "    model.train()\n",
        "    loss_trace = []\n",
        "    \n",
        "    for epoch_i in range(num_epochs):        \n",
        "        print(f'Epoch {epoch_i + 1}')\n",
        "        for iter_i, batch in enumerate(tr_dataloader):\n",
        "            x, _ = batch\n",
        "            x = x.to(device)\n",
        "            \n",
        "            optimizer.zero_grad() # Зануляем градиенты\n",
        "            \n",
        "            loss, rec_x = model.compute_loss(x, return_rec=True)\n",
        "            \n",
        "            loss.backward() # Считаем градиенты\n",
        "            optimizer.step() # Обновляем параметры модели\n",
        "            \n",
        "            loss_trace.append(loss.item())\n",
        "        \n",
        "            if (iter_i + 1) % verbose_num_iters == 0:\n",
        "                clear_output(wait=True)\n",
        "                plt.figure(figsize=(10, 5))\n",
        "                \n",
        "                plt.subplot(1, 2, 1)\n",
        "                plt.xlabel('Iteration')\n",
        "                plt.ylabel('L2 loss (x, x_rec)')\n",
        "                plt.plot(loss_trace)\n",
        "                \n",
        "                for i in range(3):\n",
        "                    plt.subplot(2, 6, 4 + i)\n",
        "                    plt.axis('off')\n",
        "                    plt.imshow(x[i, 0].cpu().detach().numpy(), cmap='gray')\n",
        "                    \n",
        "                    plt.subplot(2, 6, 10 + i)\n",
        "                    plt.axis('off')\n",
        "                    plt.imshow(rec_x[i, 0].cpu().detach().numpy(), cmap='gray')\n",
        "                    \n",
        "                plt.show()\n",
        "                \n",
        "    model.eval()\n"
      ],
      "execution_count": 4,
      "outputs": []
    },
    {
      "cell_type": "code",
      "metadata": {
        "id": "5oQxcGZQTSnf",
        "outputId": "a1afe941-1887-4374-e52a-7fc03a3cf1c3",
        "colab": {
          "base_uri": "https://localhost:8080/",
          "height": 420,
          "referenced_widgets": [
            "2dd0b3c7bdaf4edcbd121e2f321f451a",
            "485071b15a4a452d9f47c2eee934ff22",
            "8e744f5b4c8e48798bc071923430f321",
            "79bc819e80314f23991ec89c55330894",
            "c98604634577451f8a38deb83bec6437",
            "b8834c7b3db74b2ba23edb356d439849",
            "8f02e4d7d8b241faa145de527becbbeb",
            "83f2998eadaa41229c783a8fbc9a482d",
            "10477d67b35e4c86b7e63e3c7ece7b72",
            "b9e53c6e86894472ab410fab3100f208",
            "a8e68c9664bb424e8d2d345b36f16054",
            "50f6649094604519a9a450a05154d727",
            "c212d8feecb042b3810477844ba2cfda",
            "eb8a6fbbecca41b092e0027282ffb8d4",
            "2a9a0709929b4ebbba55c6c6f2f4322a",
            "daf91f1c32d64579b37866e455373c1a",
            "f9cbe9d42b0846d3a9733205b3c7af45",
            "76c76facbd584430a04f32cb89d751e2",
            "323d904e30d143daa1113d2698d6ac9d",
            "25f77c34a0a0447e9dfbb49da34c9f88",
            "f26157a49c2e477ca3d7a65f38da3d93",
            "a03bd334de0f4dc3ab9f779c6578d88e",
            "2883a8bae24b439ca0b319e01eb181c4",
            "eac52b0ec3264e068d7c19aceecd9885",
            "21cf4e3d1b284ca192e866599355c38a",
            "945a3579579343619037d660c308b424",
            "6e738db89f8846e3ac95142cce3b369a",
            "b4e925d9ac304712bfc091d7ebc75e7c",
            "eac35940e7fd4a7da1631f14a05e5017",
            "c6f9fae3bc4a4183ba3071ee6715465f",
            "cb57e711795b477d97726280c65020ae",
            "3a5c758418674b88b2aab24ab2761199"
          ]
        }
      },
      "source": [
        "transform = transforms.Compose([transforms.ToTensor()])\n",
        "\n",
        "trainset = torchvision.datasets.MNIST(root='./mnist', train=True,\n",
        "                                        download=True, transform=transform)\n",
        "train_dataloader = torch.utils.data.DataLoader(trainset, batch_size=64,\n",
        "                                          shuffle=True, num_workers=1)\n",
        "\n",
        "testset = torchvision.datasets.MNIST(root='./mnist', train=False,\n",
        "                                       download=True, transform=transform)\n",
        "test_dataloader = torch.utils.data.DataLoader(testset, batch_size=64,\n",
        "                                         shuffle=False, num_workers=1)"
      ],
      "execution_count": 5,
      "outputs": [
        {
          "output_type": "stream",
          "text": [
            "Downloading http://yann.lecun.com/exdb/mnist/train-images-idx3-ubyte.gz to ./mnist/MNIST/raw/train-images-idx3-ubyte.gz\n"
          ],
          "name": "stdout"
        },
        {
          "output_type": "display_data",
          "data": {
            "application/vnd.jupyter.widget-view+json": {
              "model_id": "2dd0b3c7bdaf4edcbd121e2f321f451a",
              "version_minor": 0,
              "version_major": 2
            },
            "text/plain": [
              "HBox(children=(FloatProgress(value=1.0, bar_style='info', max=1.0), HTML(value='')))"
            ]
          },
          "metadata": {
            "tags": []
          }
        },
        {
          "output_type": "stream",
          "text": [
            "Extracting ./mnist/MNIST/raw/train-images-idx3-ubyte.gz to ./mnist/MNIST/raw\n",
            "Downloading http://yann.lecun.com/exdb/mnist/train-labels-idx1-ubyte.gz to ./mnist/MNIST/raw/train-labels-idx1-ubyte.gz\n"
          ],
          "name": "stdout"
        },
        {
          "output_type": "display_data",
          "data": {
            "application/vnd.jupyter.widget-view+json": {
              "model_id": "10477d67b35e4c86b7e63e3c7ece7b72",
              "version_minor": 0,
              "version_major": 2
            },
            "text/plain": [
              "HBox(children=(FloatProgress(value=1.0, bar_style='info', max=1.0), HTML(value='')))"
            ]
          },
          "metadata": {
            "tags": []
          }
        },
        {
          "output_type": "stream",
          "text": [
            "Extracting ./mnist/MNIST/raw/train-labels-idx1-ubyte.gz to ./mnist/MNIST/raw\n",
            "Downloading http://yann.lecun.com/exdb/mnist/t10k-images-idx3-ubyte.gz to ./mnist/MNIST/raw/t10k-images-idx3-ubyte.gz\n"
          ],
          "name": "stdout"
        },
        {
          "output_type": "display_data",
          "data": {
            "application/vnd.jupyter.widget-view+json": {
              "model_id": "f9cbe9d42b0846d3a9733205b3c7af45",
              "version_minor": 0,
              "version_major": 2
            },
            "text/plain": [
              "HBox(children=(FloatProgress(value=1.0, bar_style='info', max=1.0), HTML(value='')))"
            ]
          },
          "metadata": {
            "tags": []
          }
        },
        {
          "output_type": "stream",
          "text": [
            "Extracting ./mnist/MNIST/raw/t10k-images-idx3-ubyte.gz to ./mnist/MNIST/raw\n",
            "Downloading http://yann.lecun.com/exdb/mnist/t10k-labels-idx1-ubyte.gz to ./mnist/MNIST/raw/t10k-labels-idx1-ubyte.gz\n"
          ],
          "name": "stdout"
        },
        {
          "output_type": "display_data",
          "data": {
            "application/vnd.jupyter.widget-view+json": {
              "model_id": "21cf4e3d1b284ca192e866599355c38a",
              "version_minor": 0,
              "version_major": 2
            },
            "text/plain": [
              "HBox(children=(FloatProgress(value=1.0, bar_style='info', max=1.0), HTML(value='')))"
            ]
          },
          "metadata": {
            "tags": []
          }
        },
        {
          "output_type": "stream",
          "text": [
            "Extracting ./mnist/MNIST/raw/t10k-labels-idx1-ubyte.gz to ./mnist/MNIST/raw\n",
            "Processing...\n",
            "Done!\n",
            "\n",
            "\n",
            "\n"
          ],
          "name": "stdout"
        },
        {
          "output_type": "stream",
          "text": [
            "/usr/local/lib/python3.6/dist-packages/torchvision/datasets/mnist.py:480: UserWarning: The given NumPy array is not writeable, and PyTorch does not support non-writeable tensors. This means you can write to the underlying (supposedly non-writeable) NumPy array using the tensor. You may want to copy the array to protect its data or make it writeable before converting it to a tensor. This type of warning will be suppressed for the rest of this program. (Triggered internally at  /pytorch/torch/csrc/utils/tensor_numpy.cpp:141.)\n",
            "  return torch.from_numpy(parsed.astype(m[2], copy=False)).view(*s)\n"
          ],
          "name": "stderr"
        }
      ]
    },
    {
      "cell_type": "code",
      "metadata": {
        "id": "csbaVcUQTSnl",
        "outputId": "321113b0-26ea-4bb4-c67d-f3485f55b46b",
        "colab": {
          "base_uri": "https://localhost:8080/",
          "height": 334
        }
      },
      "source": [
        "# обучим модель с латентным кодом длины 8\n",
        "\n",
        "model = AutoEncoder(8)\n",
        "model.to(device)\n",
        "optimizer = optim.Adam(model.parameters(), lr=1e-3)\n",
        "\n",
        "train_model(model, train_dataloader, optimizer)"
      ],
      "execution_count": 6,
      "outputs": [
        {
          "output_type": "display_data",
          "data": {
            "image/png": "[encoded data removed]",
            "text/plain": [
              "<Figure size 720x360 with 7 Axes>"
            ]
          },
          "metadata": {
            "tags": [],
            "needs_background": "light"
          }
        }
      ]
    },
    {
      "cell_type": "markdown",
      "metadata": {
        "id": "nj6-oUeITSnr"
      },
      "source": [
        "Для довольно хорошего сжатия картинок из MNIST'a хватает всего 8 латентных переменных!"
      ]
    },
    {
      "cell_type": "markdown",
      "metadata": {
        "id": "_Tf3TSL_TSns"
      },
      "source": [
        "## 3. Структура и интерпретация латентного пространства.\n",
        "\n",
        "Главная ценность автоэнкодера как модели - его латентный код. Он крайне информативный, т.к. он должен сохранять как можно больше важных деталей об объекте. Кроме того, само латентное пространство (множество латентных кодов всех объектов) - довольно плотное и отлично сохраняет структуру исходного пространства - например, похожие объекты в исходном пространстве будут находиться недалеко друг от друга в латентном. \n",
        "\n",
        "В этой части мы проиллюстрируем эти свойства."
      ]
    },
    {
      "cell_type": "markdown",
      "metadata": {
        "id": "qcg83VLaTSnu"
      },
      "source": [
        "### 3.1 Интерполяция латентных кодов\n",
        "\n",
        "Интерполяция латентного кода - это визуализация процесса движения от одной точки латентного пространства к другой. Обычно интерполируют по прямой - соединяют две точки, соответсвующие реальным объектам, отрезком и смотрят латентные коды через равные части этого отрезка. Для каждой промежуточной точки строят выход декодера. \n",
        "\n",
        "Давайте возьмем два случайных объекта из выборки и построим интерполяцию между ними."
      ]
    },
    {
      "cell_type": "code",
      "metadata": {
        "id": "qukNVWgETSnv"
      },
      "source": [
        "for x, _ in train_dataloader:\n",
        "    break\n",
        "    \n",
        "x1 = x[0].to(device)\n",
        "x2 = x[1].to(device)"
      ],
      "execution_count": 11,
      "outputs": []
    },
    {
      "cell_type": "code",
      "metadata": {
        "id": "TAoBegMUTSnz",
        "outputId": "d30eded9-60e8-4590-e634-f4fa5de2de99",
        "colab": {
          "base_uri": "https://localhost:8080/",
          "height": 165
        }
      },
      "source": [
        "plt.figure(figsize=(4, 2))\n",
        "\n",
        "plt.subplot(1, 2, 1)\n",
        "plt.axis('off')\n",
        "plt.title('x1')\n",
        "plt.imshow(x1[0].cpu().detach().numpy(), cmap='gray')\n",
        "\n",
        "plt.subplot(1, 2, 2)\n",
        "plt.axis('off')\n",
        "plt.title('x2')\n",
        "plt.imshow(x2[0].cpu().detach().numpy(), cmap='gray')"
      ],
      "execution_count": 12,
      "outputs": [
        {
          "output_type": "execute_result",
          "data": {
            "text/plain": [
              "<matplotlib.image.AxesImage at 0x7fc6e85a77b8>"
            ]
          },
          "metadata": {
            "tags": []
          },
          "execution_count": 12
        },
        {
          "output_type": "display_data",
          "data": {
            "image/png": "[encoded data removed]",
            "text/plain": [
              "<Figure size 288x144 with 2 Axes>"
            ]
          },
          "metadata": {
            "tags": [],
            "needs_background": "light"
          }
        }
      ]
    },
    {
      "cell_type": "code",
      "metadata": {
        "id": "0iJNMSTdTSn5"
      },
      "source": [
        "# получите латентные коды объектов\n",
        "z_1 = # YOUR CODE HERE\n",
        "z_2 = # YOUR CODE HERE\n",
        "assert z_1.shape == z_2.shape == torch.Size([1, 8])\n",
        "\n",
        "# постройте батч с интерполяцией этих латентных кодов по прямой в 11 точках (используйте функцию torch.linspace)\n",
        "linspace = # YOUR CODE HERE\n",
        "z_linspace = # YOUR CODE HERE\n",
        "assert z_linspace.shape == torch.Size([11, 8])\n",
        "\n",
        "# восстановите для всех латентных кодов изображения\n",
        "x_linspace = # YOUR CODE HERE\n",
        "assert x_linspace.shape == torch.Size([11, 1, 28, 28])"
      ],
      "execution_count": 13,
      "outputs": []
    },
    {
      "cell_type": "code",
      "metadata": {
        "id": "qNHuuh5QTSn-",
        "outputId": "e7e4ba28-4384-4308-9279-dfd4840b1554",
        "colab": {
          "base_uri": "https://localhost:8080/",
          "height": 94
        }
      },
      "source": [
        "#нарисуем проинтерполированные объекты\n",
        "plt.figure(figsize=(11, 1))\n",
        "\n",
        "for i, d in enumerate(np.linspace(0, 1, 11)):\n",
        "    plt.subplot(1, 11, i + 1)\n",
        "    plt.axis('off')\n",
        "    plt.title(f'{d:.2}')\n",
        "    plt.imshow(x_linspace[i, 0].cpu().detach().numpy(), cmap='gray')\n"
      ],
      "execution_count": 14,
      "outputs": [
        {
          "output_type": "display_data",
          "data": {
            "image/png": "[encoded data removed]",
            "text/plain": [
              "<Figure size 792x72 with 11 Axes>"
            ]
          },
          "metadata": {
            "tags": [],
            "needs_background": "light"
          }
        }
      ]
    },
    {
      "cell_type": "markdown",
      "metadata": {
        "id": "avsuOBsKTSoC"
      },
      "source": [
        "На интерполяция видно, как один объект плавно превращается в другой. Стоит заметить, что почти все промежуточные объекты тоже выглядят довольно правдопободно. Иногда такие интерполяции используют для того, чтобы расширить какой-то маленький датасет."
      ]
    },
    {
      "cell_type": "markdown",
      "metadata": {
        "id": "9stVusvETSoD"
      },
      "source": [
        "### 3.2 Структура латентного пространства\n",
        "\n",
        "Теперь давайте обучим автоэнкодер с **2** латентными кодами, соберем эти латентные коды и нарисуем 2d scatter plot, где латентные коды подсвечены цветами классов исходных объектов."
      ]
    },
    {
      "cell_type": "code",
      "metadata": {
        "id": "3V4w-SSOTSoE",
        "outputId": "a033b05f-343f-4b9e-a172-abb135a59f66",
        "colab": {
          "base_uri": "https://localhost:8080/",
          "height": 334
        }
      },
      "source": [
        "# обучим автоэнкодер с 2 латентными кодами\n",
        "\n",
        "model_2d = AutoEncoder(2)\n",
        "model_2d.to(device)\n",
        "optimizer = optim.Adam(model_2d.parameters(), lr=1e-3)\n",
        "\n",
        "train_model(model_2d, train_dataloader, optimizer)"
      ],
      "execution_count": 16,
      "outputs": [
        {
          "output_type": "display_data",
          "data": {
            "image/png": "[encoded data removed]",
            "text/plain": [
              "<Figure size 720x360 with 7 Axes>"
            ]
          },
          "metadata": {
            "tags": [],
            "needs_background": "light"
          }
        }
      ]
    },
    {
      "cell_type": "code",
      "metadata": {
        "id": "aIfU31KyTSoK"
      },
      "source": [
        "def get_latent_codes_and_labels(dataloader, model, num_objects):\n",
        "    lat_codes = torch.empty((0, model.lat_size)).to(device)\n",
        "    labels = torch.empty((0)).to(device)\n",
        "\n",
        "    for batch in dataloader:\n",
        "        # YOUR CODE HERE\n",
        "    \n",
        "        if lat_codes.shape[0] >= num_objects:\n",
        "            break\n",
        "    lat_codes = lat_codes[:num_objects].detach().cpu().numpy()\n",
        "    labels = labels[:num_objects].detach().cpu().numpy()\n",
        "\n",
        "    return lat_codes, labels\n",
        "    \n",
        "# соберем для 1000 случайных объектов их латентные коды и классы\n",
        "lat_codes, labels = get_latent_codes_and_labels(train_dataloader, model_2d, 1000)\n",
        "\n",
        "assert lat_codes.shape == (1000, 2)\n",
        "assert labels.shape == (1000, )"
      ],
      "execution_count": 17,
      "outputs": []
    },
    {
      "cell_type": "code",
      "metadata": {
        "id": "Pisc7O6-TSoO",
        "outputId": "f354fd88-2e87-4ddd-a2a9-379add1c7675",
        "colab": {
          "base_uri": "https://localhost:8080/",
          "height": 592
        }
      },
      "source": [
        "plt.figure(figsize=(10, 10))\n",
        "\n",
        "for cl in range(10):\n",
        "    lat_codes_class = lat_codes[labels == cl]\n",
        "    plt.scatter(lat_codes_class[:, 0], lat_codes_class[:, 1], label=f'{cl}')\n",
        "plt.legend()\n",
        "plt.show()"
      ],
      "execution_count": 18,
      "outputs": [
        {
          "output_type": "display_data",
          "data": {
            "image/png": "[encoded data removed]",
            "text/plain": [
              "<Figure size 720x720 with 1 Axes>"
            ]
          },
          "metadata": {
            "tags": [],
            "needs_background": "light"
          }
        }
      ]
    },
    {
      "cell_type": "markdown",
      "metadata": {
        "id": "mhoToTqvTSoU"
      },
      "source": [
        "Объекты одного и то же класса находятся в латентном пространстве близко друг к другу! При этом визуально похожие классы (1-4 или 4-9) тоже находятся в соседних областях."
      ]
    },
    {
      "cell_type": "markdown",
      "metadata": {
        "id": "jWCNfd5vTSoV"
      },
      "source": [
        "## 4. Применения"
      ]
    },
    {
      "cell_type": "markdown",
      "metadata": {
        "id": "mhy-rDqVTSoV"
      },
      "source": [
        "### 4.1 Semi-supervised learning.\n",
        "\n",
        "Представим, что у нас следующая ситуация. Есть огромный датасет (тысячи объектов), но по тем или иным причинам размечена у него только малая часть (скажем, сотня) объектов. Например, причиной может быть дороговизна разметки или необходимость привлечения эксперта. Однако, мы хотим научиться решать эту задачу и должны как-то научиться использовать неразмеченные данные.\n",
        "\n",
        "В такой ситуации можно обучить автоэнкодер на всем датасете (размеченные + неразмеченные объекты) и использовать его латентные коды от размеченных объектов для обучения другой модели (например, из классического ML), которая не требовательна к объему данных."
      ]
    },
    {
      "cell_type": "code",
      "metadata": {
        "id": "Rrnm6IBKTSoY"
      },
      "source": [
        "# предположим, у нас размечено только 1000 (из 50000) объектов из MNIST\n",
        "# возьмем для них латентные коды\n",
        "\n",
        "train_lat_codes, train_labels = get_latent_codes_and_labels(train_dataloader, model, 1000)\n",
        "\n",
        "assert train_lat_codes.shape == (1000, 8)\n",
        "assert train_labels.shape == (1000, )\n",
        "\n",
        "# так же обсчитаем весь тест сет\n",
        "test_lat_codes, test_labels = get_latent_codes_and_labels(test_dataloader, model, 10000)\n",
        "\n",
        "assert test_lat_codes.shape == (10000, 8)\n",
        "assert test_labels.shape == (10000, )"
      ],
      "execution_count": 20,
      "outputs": []
    },
    {
      "cell_type": "code",
      "metadata": {
        "id": "gIZIzCikTSod",
        "outputId": "b7c38297-4d8f-4a1b-f009-058f3d8f8cba",
        "colab": {
          "base_uri": "https://localhost:8080/"
        }
      },
      "source": [
        "# обучим на них случайный лес\n",
        "from sklearn.ensemble import RandomForestClassifier\n",
        "\n",
        "clfr = # YOUR CODE HERE\n",
        "# YOUR CODE HERE"
      ],
      "execution_count": 22,
      "outputs": [
        {
          "output_type": "execute_result",
          "data": {
            "text/plain": [
              "RandomForestClassifier(bootstrap=True, ccp_alpha=0.0, class_weight=None,\n",
              "                       criterion='gini', max_depth=None, max_features='auto',\n",
              "                       max_leaf_nodes=None, max_samples=None,\n",
              "                       min_impurity_decrease=0.0, min_impurity_split=None,\n",
              "                       min_samples_leaf=1, min_samples_split=2,\n",
              "                       min_weight_fraction_leaf=0.0, n_estimators=100,\n",
              "                       n_jobs=None, oob_score=False, random_state=None,\n",
              "                       verbose=0, warm_start=False)"
            ]
          },
          "metadata": {
            "tags": []
          },
          "execution_count": 22
        }
      ]
    },
    {
      "cell_type": "code",
      "metadata": {
        "id": "QcWuKa89TSog"
      },
      "source": [
        "test_pred = clfr.predict(test_lat_codes)"
      ],
      "execution_count": 23,
      "outputs": []
    },
    {
      "cell_type": "code",
      "metadata": {
        "id": "mh9JQmH6TSoj",
        "outputId": "094a3d42-ad53-4a6e-ba1e-28186b44cfb2",
        "colab": {
          "base_uri": "https://localhost:8080/"
        }
      },
      "source": [
        "print(f'Test accuracy: {(test_pred == test_labels).mean()}')"
      ],
      "execution_count": 24,
      "outputs": [
        {
          "output_type": "stream",
          "text": [
            "Test accuracy: 0.8643\n"
          ],
          "name": "stdout"
        }
      ]
    },
    {
      "cell_type": "markdown",
      "metadata": {
        "id": "Mw3CCVHeTSon"
      },
      "source": [
        "Довольно хорошее качество для такого малого объема размеченных данных. Кроме того, мы смогли совместить преимущества нейросетевого и классичего подхода и взять от них самое лучшее (нетребовательность к данным от ML и способность работы со сложноструктурированными данными от DL).\n",
        "\n",
        "Своего рода, это частный случай fine-tuning для ситуации, когда исходная сетка (энкодер) обучалась на неразмеченных данных."
      ]
    },
    {
      "cell_type": "markdown",
      "metadata": {
        "id": "mLZLKnUTTSoo"
      },
      "source": [
        "### 4.2 Denoising.\n",
        "\n",
        "Кроме того, автоэнкодеры часто используют для очистки исходных данных от шума. Латентный код сохраняет только главную информацию об объекте, отбрасывая шумовые компоненты. \n",
        "\n",
        "Давайте реализуем функцию, которая обращает c вероятностью 0.1 каждый пиксель исходного изображения, и обучим на такой выборке автоэнкодер."
      ]
    },
    {
      "cell_type": "code",
      "metadata": {
        "id": "N3m23y73TSoq"
      },
      "source": [
        "class FlipRandomBits(object):\n",
        "    def __init__(self, flip_ratio=0.1):\n",
        "        self.flip_ratio = flip_ratio\n",
        "        \n",
        "    def __call__(self, x):\n",
        "        # YOUR CODE HERE\n",
        "        \n",
        "        return x\n",
        "\n",
        "transform = transforms.Compose([transforms.ToTensor(), \n",
        "                                FlipRandomBits()])\n",
        "\n",
        "trainset_with_noise = torchvision.datasets.MNIST(root='./mnist', train=True,\n",
        "                                        download=True, transform=transform)\n",
        "train_dataloader_with_noise = torch.utils.data.DataLoader(trainset_with_noise, batch_size=64,\n",
        "                                          shuffle=True, num_workers=0)\n"
      ],
      "execution_count": 27,
      "outputs": []
    },
    {
      "cell_type": "code",
      "metadata": {
        "id": "weIChd2ETSos",
        "outputId": "cd464151-2799-495d-f70e-5cfa7d0e921d",
        "colab": {
          "base_uri": "https://localhost:8080/",
          "height": 83
        }
      },
      "source": [
        "for x, y in train_dataloader_with_noise:\n",
        "    break\n",
        "\n",
        "plt.figure(figsize=(11, 1))\n",
        "\n",
        "for i in range(10):\n",
        "    plt.subplot(1, 10, i + 1)\n",
        "    plt.axis('off')\n",
        "    plt.imshow(x[i, 0].cpu().detach().numpy(), cmap='gray')"
      ],
      "execution_count": 28,
      "outputs": [
        {
          "output_type": "display_data",
          "data": {
            "image/png": "[encoded data removed]",
            "text/plain": [
              "<Figure size 792x72 with 10 Axes>"
            ]
          },
          "metadata": {
            "tags": [],
            "needs_background": "light"
          }
        }
      ]
    },
    {
      "cell_type": "code",
      "metadata": {
        "id": "8kf_Ymd1TSow",
        "outputId": "6101a9bd-4ed7-4e7c-d888-7ccd5f9d4bcc",
        "colab": {
          "base_uri": "https://localhost:8080/",
          "height": 334
        }
      },
      "source": [
        "# обучим автоэнкодер на зашумленных данных\n",
        "\n",
        "model_for_noise = AutoEncoder(8)\n",
        "model_for_noise.to(device)\n",
        "optimizer = optim.Adam(model_for_noise.parameters(), lr=1e-3)\n",
        "\n",
        "train_model(model_for_noise, train_dataloader_with_noise, optimizer)"
      ],
      "execution_count": 30,
      "outputs": [
        {
          "output_type": "display_data",
          "data": {
            "image/png": "[encoded data removed]",
            "text/plain": [
              "<Figure size 720x360 with 7 Axes>"
            ]
          },
          "metadata": {
            "tags": [],
            "needs_background": "light"
          }
        }
      ]
    },
    {
      "cell_type": "markdown",
      "metadata": {
        "id": "SzvsTwQYa7m6"
      },
      "source": [
        "Восстановленные объекты не содержат шума, которым мы испортили данные! \n",
        "\n",
        "Этот эксперимент должен Вам напомнить метод главных компонент (PCA) из классического ML, который тоже часто используют для сжатия данных и избавления от шума. PCA является частным случаем автоэнкодера с линейными энкодером и декодером."
      ]
    },
    {
      "cell_type": "code",
      "metadata": {
        "id": "NTtPI7qCa4Py"
      },
      "source": [
        ""
      ],
      "execution_count": null,
      "outputs": []
    }
  ]
}